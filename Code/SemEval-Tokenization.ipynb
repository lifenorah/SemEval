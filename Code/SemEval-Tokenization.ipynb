{
 "cells": [
  {
   "cell_type": "code",
   "execution_count": 3,
   "metadata": {},
   "outputs": [],
   "source": [
    "import xml.etree.ElementTree as ET\n",
    "import os"
   ]
  },
  {
   "cell_type": "code",
   "execution_count": 8,
   "metadata": {},
   "outputs": [],
   "source": [
    "#load dataset from XML file\n",
    "def process_dataset(infile):\n",
    "    OUTPUT_DIR = '../TEST/2017/PROCESSED'\n",
    "    \n",
    "    tree = ET.parse(infile)\n",
    "    root = tree.getroot()\n",
    "\n",
    "    queries, questions, labels = [], [], []\n",
    "\n",
    "    for Question in root:\n",
    "        QID = int(Question.get('QID'))\n",
    "        Qtext = Question.find('Qtext').text\n",
    "        \n",
    "        os.makedirs(os.path.join(OUTPUT_DIR, str(QID)))\n",
    "        \n",
    "        with open(os.path.join(OUTPUT_DIR, str(QID), str(QID) + '_q.txt'), 'wt', encoding='utf-8') as f:\n",
    "                f.write(Qtext)\n",
    "        \n",
    "        for QApair in Question.iter('QApair'): \n",
    "            QAID = int(QApair.get('QAID'))\n",
    "            QArel = QApair.get('QArel')\n",
    "            QAquestion = QApair.find('QAquestion').text\n",
    "            QAanswer = QApair.find('QAanswer').text\n",
    "\n",
    "            with open(os.path.join(OUTPUT_DIR, str(QID), str(QAID) + '_qaq.txt'),'wt', encoding='utf-8') as f:\n",
    "                f.write(QAquestion)\n",
    "            \n",
    "            with open(os.path.join(OUTPUT_DIR, str(QID), str(QAID) + '_qaa.txt'), 'wt', encoding='utf-8') as f:\n",
    "                f.write(QAanswer)"
   ]
  },
  {
   "cell_type": "code",
   "execution_count": 10,
   "metadata": {},
   "outputs": [],
   "source": [
    "process_dataset('../TEST/2017/SemEval2017-Task3-CQA-MD-test.xml')"
   ]
  },
  {
   "cell_type": "code",
   "execution_count": 4,
   "metadata": {},
   "outputs": [],
   "source": [
    "#Process using MADAMIRA from powershell\n",
    "#Get-ChildItem \"D:\\PhD\\SemEval\\TRAIN\\PROCESSED\\\" -Filter *.xml -Recurse | ForEach-Object { java -jar MADAMIRA-release-20160516-2.1.jar -c -i $_\n",
    "#.FullName -o $_.FullName.Replace('.xml', '.output')}"
   ]
  }
 ],
 "metadata": {
  "kernelspec": {
   "display_name": "Python 3",
   "language": "python",
   "name": "python3"
  },
  "language_info": {
   "codemirror_mode": {
    "name": "ipython",
    "version": 3
   },
   "file_extension": ".py",
   "mimetype": "text/x-python",
   "name": "python",
   "nbconvert_exporter": "python",
   "pygments_lexer": "ipython3",
   "version": "3.5.0"
  }
 },
 "nbformat": 4,
 "nbformat_minor": 2
}
