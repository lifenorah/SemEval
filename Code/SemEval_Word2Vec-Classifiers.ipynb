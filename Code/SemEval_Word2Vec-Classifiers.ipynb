{
 "cells": [
  {
   "cell_type": "code",
   "execution_count": 72,
   "metadata": {},
   "outputs": [],
   "source": [
    "from __future__ import absolute_import\n",
    "from __future__ import division\n",
    "from __future__ import print_function\n",
    "\n",
    "import argparse\n",
    "import os\n",
    "import sys\n",
    "import zipfile\n",
    "import csv\n",
    "import pickle\n",
    "\n",
    "import tensorflow as tf\n",
    "import numpy as np\n",
    "from sklearn.metrics.pairwise import cosine_similarity\n",
    "from sklearn.metrics import average_precision_score\n",
    "\n",
    "import xml.etree.ElementTree as ET"
   ]
  },
  {
   "cell_type": "code",
   "execution_count": 22,
   "metadata": {},
   "outputs": [],
   "source": [
    "dictionary = pickle.load(open('dictionary.pic', 'rb'))\n",
    "reverse_dictionary = pickle.load(open('vocabulary.pic', 'rb'))\n",
    "embeddings = pickle.load(open('embeddings.pic', 'rb'))"
   ]
  },
  {
   "cell_type": "code",
   "execution_count": 44,
   "metadata": {},
   "outputs": [],
   "source": [
    "#Training\n",
    "\n",
    "train_dataset_path = '../TRAIN/SemEval2016-Task3-CQA-MD-train.xml'\n",
    "\n",
    "tree = ET.parse(train_dataset_path)\n",
    "root = tree.getroot()\n",
    "\n",
    "data_train = []\n",
    "target_train = []\n",
    "    \n",
    "for Question in root:\n",
    "    QID = int(Question.get('QID'))\n",
    "    Qtext = Question.find('Qtext').text\n",
    "    \n",
    "    for QApair in Question.iter('QApair'): \n",
    "        QAID = int(QApair.get('QAID'))\n",
    "        QArel = 0 if QApair.get('QArel') == 'I' else 1\n",
    "        QAquestion = QApair.find('QAquestion').text\n",
    "        QAanswer = QApair.find('QAanswer').text\n",
    "        \n",
    "        QQ = Qtext + QAquestion\n",
    "        \n",
    "        embeddings_QQ = np.mean(np.asarray([embeddings[dictionary[w]]\n",
    "                                               if w in dictionary \n",
    "                                               else np.zeros_like(embeddings[0]) \n",
    "                                               for w in QQ.split()]), axis=0)\n",
    "\n",
    "        data_train.append(embeddings_QQ)\n",
    "        target_train.append(QArel)\n",
    "        #    a = embeddings_Qtext\n",
    "        #    b = embeddings_QAquestion\n",
    "        #    s = similarity\n",
    "\n",
    "data_train = np.asarray(data_train)\n",
    "data_target = np.asarray(data_target)\n"
   ]
  },
  {
   "cell_type": "code",
   "execution_count": 45,
   "metadata": {},
   "outputs": [],
   "source": [
    "from sklearn.neural_network import MLPClassifier\n",
    "from sklearn.neighbors import KNeighborsClassifier\n",
    "from sklearn.svm import SVC\n",
    "from sklearn.gaussian_process import GaussianProcessClassifier\n",
    "from sklearn.gaussian_process.kernels import RBF\n",
    "from sklearn.tree import DecisionTreeClassifier\n",
    "from sklearn.ensemble import RandomForestClassifier, AdaBoostClassifier\n",
    "from sklearn.naive_bayes import GaussianNB\n",
    "from sklearn.discriminant_analysis import QuadraticDiscriminantAnalysis\n",
    "from sklearn.linear_model import LogisticRegression\n",
    "\n",
    "from sklearn.linear_model import RidgeClassifier\n",
    "from sklearn.svm import LinearSVC\n",
    "from sklearn.linear_model import SGDClassifier\n",
    "from sklearn.linear_model import Perceptron\n",
    "from sklearn.linear_model import PassiveAggressiveClassifier\n",
    "from sklearn.naive_bayes import BernoulliNB, MultinomialNB\n",
    "from sklearn.neighbors import KNeighborsClassifier\n",
    "from sklearn.neighbors import NearestCentroid\n",
    "from sklearn.ensemble import RandomForestClassifier"
   ]
  },
  {
   "cell_type": "code",
   "execution_count": 46,
   "metadata": {},
   "outputs": [],
   "source": [
    "names = [\"Nearest Neighbors\", \"Linear SVM\", \"Decision Tree\",\n",
    "         \"Random Forest\", \"Neural Net\", \"AdaBoost\",\n",
    "        \"Ridge Classifier\", \"Perceptron\", \"Passive-Aggressive\",\n",
    "        \"LinearSVC\", \"l2\", \"elasticnet\", \"Rocchio classifier\", \"MultinomialNB\", \"BernoulliNB\"]\n",
    "\n",
    "classifiers = [\n",
    "    KNeighborsClassifier(10),\n",
    "    SVC(kernel=\"linear\", C=0.025),\n",
    "    DecisionTreeClassifier(max_depth=5),\n",
    "    RandomForestClassifier(n_estimators=100),\n",
    "    MLPClassifier(alpha=1),\n",
    "    AdaBoostClassifier(),\n",
    "    RidgeClassifier(tol=1e-2, solver=\"lsqr\"),\n",
    "    Perceptron(n_iter=50),\n",
    "    PassiveAggressiveClassifier(n_iter=50),\n",
    "    LinearSVC(penalty=\"l2\", dual=False, tol=1e-3),\n",
    "    SGDClassifier(alpha=.0001, n_iter=50, penalty=\"l2\"),\n",
    "    SGDClassifier(alpha=.0001, n_iter=50, penalty=\"elasticnet\"),\n",
    "    NearestCentroid(),\n",
    "    MultinomialNB(alpha=.01),\n",
    "    BernoulliNB(alpha=.01)\n",
    "]"
   ]
  },
  {
   "cell_type": "code",
   "execution_count": 76,
   "metadata": {},
   "outputs": [],
   "source": [
    "def readXML(path):\n",
    "    \"\"\"\n",
    "    Read XML file into a dictionary\n",
    "    \"\"\"\n",
    "    tree = ET.parse(path)\n",
    "    root = tree.getroot()\n",
    "    dataset = {}\n",
    "    \n",
    "    for Question in root:\n",
    "        QID = int(Question.get('QID'))\n",
    "        Qtext = Question.find('Qtext').text\n",
    "        \n",
    "        dataset[QID] = {}\n",
    "        dataset[QID]['Qtext'] = Qtext\n",
    "        dataset[QID]['QApairs'] = {}\n",
    "        \n",
    "        for QApair in Question.iter('QApair'): \n",
    "            QAID = int(QApair.get('QAID'))\n",
    "            QArel = QApair.get('QArel')\n",
    "            QAquestion = QApair.find('QAquestion').text\n",
    "            QAanswer = QApair.find('QAanswer').text\n",
    "            \n",
    "            QQ = Qtext + QAquestion\n",
    "            \n",
    "            dataset[QID]['QApairs'][QAID] = {\n",
    "                'QAquestion': QAquestion,\n",
    "                'QAanswer': QAanswer,\n",
    "                'QArel': QArel,\n",
    "                'QQ': QQ}\n",
    "    return dataset\n",
    "            "
   ]
  },
  {
   "cell_type": "code",
   "execution_count": 77,
   "metadata": {},
   "outputs": [],
   "source": [
    "def map(gold_path, pred_path):\n",
    "    \"\"\"\n",
    "    Measure MAP 'Mean Average Precision' using the gold labels and prediction labels\n",
    "    for each query\n",
    "    \"\"\"\n",
    "    \n",
    "    gold_dataset = readXML(gold_path)\n",
    "    pred_dataset = readXML(pred_path)\n",
    "    \n",
    "    AP = []\n",
    "    \n",
    "    for QID in gold_dataset.keys():\n",
    "        assert gold_dataset[QID]['QApairs'].keys() == pred_dataset[QID]['QApairs'].keys()\n",
    "        gold_labels = [0 if QApair['QArel'] == 'I' else 1 for QApair in gold_dataset[QID]['QApairs'].values()]\n",
    "        pred_labels = [0 if QApair['QArel'] == 'I' else 1 for QApair in pred_dataset[QID]['QApairs'].values()]\n",
    "        \n",
    "        AP.append(average_precision_score(gold_labels, pred_labels))\n",
    "        \n",
    "        \n",
    "    MAP = np.nanmean(AP)\n",
    "    \n",
    "    return MAP"
   ]
  },
  {
   "cell_type": "code",
   "execution_count": 122,
   "metadata": {},
   "outputs": [],
   "source": [
    "names = [\"Perceptron\"]\n",
    "\n",
    "classifiers = [\n",
    "    RandomForestClassifier(n_estimators=100),\n",
    "]"
   ]
  },
  {
   "cell_type": "code",
   "execution_count": 123,
   "metadata": {},
   "outputs": [],
   "source": [
    "#Evaluating\n",
    "\n",
    "test_dataset_path = '../TEST/2017/SemEval2017-Task3-CQA-MD-test-input.xml'\n",
    "\n",
    "tree = ET.parse(test_dataset_path)\n",
    "root = tree.getroot()\n",
    "\n",
    "for name, clf in zip(names, classifiers):\n",
    "    clf.fit(data_train, target_train)\n",
    "    \n",
    "    for Question in root:\n",
    "        QID = int(Question.get('QID'))\n",
    "        Qtext = Question.find('Qtext').text\n",
    "\n",
    "        for QApair in Question.iter('QApair'): \n",
    "            QAID = int(QApair.get('QAID'))\n",
    "            QArel = QApair.get('QArel')\n",
    "            QAquestion = QApair.find('QAquestion').text\n",
    "            QAanswer = QApair.find('QAanswer').text\n",
    "\n",
    "            QQ = Qtext + QAquestion\n",
    "\n",
    "            embeddings_QQ = np.mean(np.asarray([embeddings[dictionary[w]]\n",
    "                                                   if w in dictionary \n",
    "                                                   else np.zeros_like(embeddings[0]) \n",
    "                                                   for w in QQ.split()]), axis=0)\n",
    "            QArel = clf.predict([embeddings_QQ])\n",
    "            #QAconf = np.asscalar(clf.decision_function([embeddings_QQ]))\n",
    "            QAconf = clf.predict_proba([embeddings_QQ])[0][1]\n",
    "            QAconf = 0.0001 if QAconf <= 0 else QAconf\n",
    "            \n",
    "            QApair.set('QArel', 'R' if QAconf > 0.5 else 'I')\n",
    "            QApair.set('QAconf', str(round(QAconf, 4)))\n",
    "            \n",
    "    #print(name, np.mean(clf.predict(data_test) == target_test))\n",
    "\n",
    "    tree.write('../TEST/2017/SemEval2017-Task3-CQA-MD-test-input-word2vec-webteb-' + name + '.xml', encoding='utf-8')"
   ]
  },
  {
   "cell_type": "code",
   "execution_count": 121,
   "metadata": {},
   "outputs": [
    {
     "name": "stderr",
     "output_type": "stream",
     "text": [
      "c:\\python35\\lib\\site-packages\\sklearn\\metrics\\ranking.py:444: RuntimeWarning: invalid value encountered in true_divide\n",
      "  recall = tps / tps[-1]\n"
     ]
    },
    {
     "data": {
      "text/plain": [
       "0.49813330561854369"
      ]
     },
     "execution_count": 121,
     "metadata": {},
     "output_type": "execute_result"
    }
   ],
   "source": [
    "map('../TEST/2017/SemEval2017-Task3-CQA-MD-test.xml', '../TEST/2017/SemEval2017-Task3-CQA-MD-test-input-word2vec-webteb-perceptron.xml')"
   ]
  },
  {
   "cell_type": "code",
   "execution_count": 89,
   "metadata": {},
   "outputs": [
    {
     "data": {
      "text/plain": [
       "0.58666666666666667"
      ]
     },
     "execution_count": 89,
     "metadata": {},
     "output_type": "execute_result"
    }
   ],
   "source": [
    "clf.predict_proba([embeddings_QQ])[0][1]"
   ]
  },
  {
   "cell_type": "code",
   "execution_count": null,
   "metadata": {},
   "outputs": [],
   "source": []
  }
 ],
 "metadata": {
  "kernelspec": {
   "display_name": "Python 3",
   "language": "python",
   "name": "python3"
  },
  "language_info": {
   "codemirror_mode": {
    "name": "ipython",
    "version": 3
   },
   "file_extension": ".py",
   "mimetype": "text/x-python",
   "name": "python",
   "nbconvert_exporter": "python",
   "pygments_lexer": "ipython3",
   "version": "3.5.0"
  }
 },
 "nbformat": 4,
 "nbformat_minor": 2
}
