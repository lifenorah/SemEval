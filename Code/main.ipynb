{
 "cells": [
  {
   "cell_type": "code",
   "execution_count": 1,
   "metadata": {},
   "outputs": [],
   "source": [
    "# coding: utf-8\n",
    "# Please use Python 2.\n",
    "# Check if all the required packages are installed.\n",
    "# Please use Theano as backend of Keras.\n",
    "# Using IPython or Jupyter Notebook to run this code is strongly recommended!\n",
    "# Run line by line or block by block, and you can config some important parameters\n",
    "# and output whatever you want!"
   ]
  },
  {
   "cell_type": "code",
   "execution_count": 2,
   "metadata": {},
   "outputs": [
    {
     "name": "stderr",
     "output_type": "stream",
     "text": [
      "Using TensorFlow backend.\n"
     ]
    }
   ],
   "source": [
    "import sys, os, collections, subprocess, re, csv\n",
    "import nltk, codecs\n",
    "import numpy as np\n",
    "import pandas as pd\n",
    "from pandas import DataFrame, Series\n",
    "from nltk.corpus import stopwords\n",
    "from nltk.tokenize import RegexpTokenizer\n",
    "from keras.preprocessing.text import Tokenizer\n",
    "from nltk.stem import WordNetLemmatizer\n",
    "from util import *\n",
    "from PairWiseRanker import *"
   ]
  },
  {
   "cell_type": "code",
   "execution_count": 3,
   "metadata": {},
   "outputs": [],
   "source": [
    "from IPython.display import clear_output"
   ]
  },
  {
   "cell_type": "code",
   "execution_count": 4,
   "metadata": {},
   "outputs": [],
   "source": [
    "from copy import deepcopy"
   ]
  },
  {
   "cell_type": "code",
   "execution_count": 5,
   "metadata": {},
   "outputs": [
    {
     "name": "stdout",
     "output_type": "stream",
     "text": [
      "Populating the interactive namespace from numpy and matplotlib\n"
     ]
    },
    {
     "name": "stderr",
     "output_type": "stream",
     "text": [
      "c:\\python35\\lib\\site-packages\\IPython\\core\\magics\\pylab.py:160: UserWarning: pylab import has clobbered these variables: ['copy']\n",
      "`%matplotlib` prevents importing * from pylab and numpy\n",
      "  \"\\n`%matplotlib` prevents importing * from pylab and numpy\"\n"
     ]
    }
   ],
   "source": [
    "% pylab inline"
   ]
  },
  {
   "cell_type": "code",
   "execution_count": 6,
   "metadata": {},
   "outputs": [],
   "source": [
    "UNKNOWN_WORD = ':-)'"
   ]
  },
  {
   "cell_type": "code",
   "execution_count": 7,
   "metadata": {},
   "outputs": [],
   "source": [
    "data_dir = 'data/'\n",
    "fn = {'trn':data_dir + 'WikiQA-train.tsv', 'dev':data_dir + 'WikiQA-dev.tsv', 'test':data_dir + 'WikiQA-test.tsv'}"
   ]
  },
  {
   "cell_type": "code",
   "execution_count": 8,
   "metadata": {},
   "outputs": [],
   "source": [
    "word2vec_dir = 'data/'\n",
    "EMBEDDING_DIM = 50\n",
    "word2vec_fn = word2vec_dir + 'glove.6B.%dd.txt' % EMBEDDING_DIM"
   ]
  },
  {
   "cell_type": "code",
   "execution_count": 9,
   "metadata": {},
   "outputs": [],
   "source": [
    "#read_data = lambda fn : pd.read_csv(fn, sep='\\t', header=0, index_col='QuestionID')\n",
    "def read_data(f):\n",
    "    data = pd.read_csv(f, sep='\\t', header=0, quoting=csv.QUOTE_NONE)\n",
    "    data['QAID'] = data['QuestionID'] + '*' + data['SentenceID']\n",
    "    data.index = data['QAID']\n",
    "    for col in ['Question', 'Sentence']:\n",
    "        data[col] = list(map(lambda x : x.lower(), data[col]))\n",
    "    questions = dict(zip(data['QuestionID'], data['Question']))\n",
    "    return data, questions"
   ]
  },
  {
   "cell_type": "code",
   "execution_count": 10,
   "metadata": {},
   "outputs": [
    {
     "name": "stdout",
     "output_type": "stream",
     "text": [
      "dev (1130, 8) 1130\n",
      "trn (20360, 8) 20360\n",
      "test (2351, 7) 2351\n"
     ]
    }
   ],
   "source": [
    "data, questions = {}, {}\n",
    "for k in fn:\n",
    "    data[k], questions[k] = read_data(fn[k])\n",
    "    print(k, data[k].shape, len(set(data[k]['QAID'])))"
   ]
  },
  {
   "cell_type": "code",
   "execution_count": 97,
   "metadata": {},
   "outputs": [],
   "source": [
    "data_trn, data_dev, data_test = data['trn'], data['dev'], data['test'] # for convienience"
   ]
  },
  {
   "cell_type": "code",
   "execution_count": 98,
   "metadata": {},
   "outputs": [
    {
     "name": "stdout",
     "output_type": "stream",
     "text": [
      "dev \n",
      " 1    115\n",
      "2      9\n",
      "4      1\n",
      "3      1\n",
      "Name: Label, dtype: int64\n",
      "trn \n",
      " 0    1245\n",
      "1     745\n",
      "2     103\n",
      "3      20\n",
      "7       2\n",
      "5       1\n",
      "6       1\n",
      "4       1\n",
      "Name: Label, dtype: int64\n"
     ]
    }
   ],
   "source": [
    "# distribution of number of answers each question has\n",
    "for k in fn:\n",
    "    if k == 'test':\n",
    "        continue\n",
    "    grp = data[k]['Label'].groupby(data[k]['QuestionID'])\n",
    "    print(k, '\\n', grp.agg(lambda v : v.sum()).value_counts())"
   ]
  },
  {
   "cell_type": "code",
   "execution_count": 99,
   "metadata": {},
   "outputs": [
    {
     "name": "stdout",
     "output_type": "stream",
     "text": [
      "2118 126 243 2487 2487\n"
     ]
    }
   ],
   "source": [
    "t = set(questions['trn']), set(questions['dev']), set(questions['test'])\n",
    "print(len(t[0]), len(t[1]), len(t[2]), len(t[0] | t[1] | t[2]), sum([len(v) for v in t]))"
   ]
  },
  {
   "cell_type": "code",
   "execution_count": 14,
   "metadata": {},
   "outputs": [],
   "source": [
    "# qtokens = {k:{qid:nltk.word_tokenize(q) for qid, q in questions[k].items() } for k in fn }"
   ]
  },
  {
   "cell_type": "code",
   "execution_count": 15,
   "metadata": {},
   "outputs": [],
   "source": [
    "wnl = WordNetLemmatizer()\n",
    "regex_tokenizer = RegexpTokenizer(r'\\w+')\n",
    "lancaster = nltk.LancasterStemmer()\n",
    "def sentence2words(sent):\n",
    "    res = {}\n",
    "    res['tokens'] = nltk.word_tokenize(sent)\n",
    "    res['words'] = regex_tokenizer.tokenize(sent)\n",
    "    res['lemma'] = [wnl.lemmatize(w) for w in res['words']]\n",
    "    res['stems'] = [lancaster.stem(w) for w in res['words']]\n",
    "    res['words_not_stop'] = filter(lambda word : word not in stopwords.words('english'), res['words'])\n",
    "    res['stems_not_stop'] = [lancaster.stem(w) for w in res['words_not_stop']]\n",
    "    res['lemma_not_stop'] = [wnl.lemmatize(w) for w in res['words_not_stop']]\n",
    "    return res"
   ]
  },
  {
   "cell_type": "code",
   "execution_count": 16,
   "metadata": {},
   "outputs": [],
   "source": [
    "tps = ['words', 'stems', 'words_not_stop', 'stems_not_stop', 'lemma', 'lemma_not_stop']"
   ]
  },
  {
   "cell_type": "code",
   "execution_count": 17,
   "metadata": {},
   "outputs": [],
   "source": [
    "sent_words = dict()"
   ]
  },
  {
   "cell_type": "code",
   "execution_count": 18,
   "metadata": {},
   "outputs": [
    {
     "name": "stdout",
     "output_type": "stream",
     "text": [
      "what is article 5 about\n",
      "where are colors on stoplight\n",
      "when did the trojan war take place\n",
      "what is gravy made of\n",
      "what are arizona's symbols\n",
      "what hormones produce thyroid\n",
      "what is bilirubin total\n",
      "who sings stand by me\n",
      "what are banana plugs for\n",
      "when was kirstie alley on cheers\n",
      "what is the name of chris cornell's band?\n",
      "what is an \"n.m?\n",
      "what does the federal reserve do\n",
      "who is the highest scoring nba player\n",
      "who is carlos pena on big time rush\n",
      "what is chicken chow mein\n",
      "what are the boundaries of the pelvic outlet\n",
      "what area code is 949\n",
      "where was jfk buried\n",
      "what year was elvis born\n",
      "how many xbox 360 games are there\n",
      "what does a plus-minus sign mean\n",
      "what is the function of albumin?\n",
      "what are risk for infections\n",
      "how many people were killed in the oklahoma city bombing\n",
      "what is associates arts degree\n",
      "what year did john adams become  president?\n",
      "who won the 1998 world cup\n",
      "who makes triumph motorcycles\n",
      "what kind of company is microsoft?\n",
      "what is ibrix\n",
      "where did the olmecs come from\n",
      "what channel is shopnbc on\n",
      "what are context effects of memory?\n",
      "what is the definition of a hung jury\n",
      "when did the free soilers party start?\n",
      "who was in the movie i confess with montgomery clift\n",
      "what county is holly ridge nc in?\n",
      "what is linkedin used for\n",
      "how many planets is jupiter away from the sun?\n",
      "who won the 2010 world cup\n",
      "when did george washington died?\n",
      "what part of the pre-world war 1 arms race was the most intense?\n",
      "what time will the world end on may 21\n",
      "what happened on the moon during the period of late heavy bombardment?\n",
      "who discovered neptune the planet\n",
      "where is rashard lewis from???\n",
      "when did emperor justinian die\n",
      "what season is  dexter on\n",
      "what is direct marketing channel\n",
      "where is penn state stadium\n",
      "what is baklava recipe\n",
      "what separates me from you album\n",
      "who starred in the original true grit\n",
      "what was the parthenon used for\n",
      "when did steven adler play for guns and roses\n",
      "when was 27th amendment proposed\n",
      "who is the author of tree grows in brooklyn\n",
      "what does judgment as a matter of law mean\n",
      "what are the three primary colors in the subtractive color model\n",
      "what mountains are on appalachian trail\n",
      "what kind of people are on the show skins\n",
      "what nationality is kris jenner\n",
      "what is three phase electrical\n",
      "where is the arctic circle located on the earth\n",
      "what is a wiki platform\n",
      "what percentage of the human body is water\n",
      "what is jagger bombs\n",
      "what is the difference between alpha lipoic acid and lipoic acid\n",
      "what is the cabin pressure of us airlines\n",
      "what is the name of the family who own the biltmore estates in nc\n",
      "what are the most known sports in america\n",
      "who sang proud mary\n",
      "when was the web invented\n",
      "where are kenworth trucks built\n",
      "what kind of literature did john steinbeck writing\n",
      "how works diaphragm pump\n",
      "what is oregon institute of technology like\n",
      "what is the the north american free trade agreement?\n",
      "how many nature oceans are on earth\n",
      "what was the ge building in rockefeller plaza called before.\n",
      "where was paul revere born\n",
      "what was captain ahab's ship in the novel \"moby dick\"\n",
      "when did scott pilgrim come out\n",
      "where is david ortiz from\n",
      "who was the congressman who was caught with an escort in ny\n",
      "what are stanzas in poetry\n",
      "how big is bmc software in houston, tx\n",
      "what is disney's magic kingdom\n",
      "when was pearl harbor bombed\n",
      "how did james dean die?\n",
      "what forms seasons\n",
      "what happened to \"the glades\" tv series\n",
      "what tensions preceded the berlin blockade\n",
      "what the atmosphere on mercury\n",
      "who plays dumbledore in harry potter 6\n",
      "where is andy whitfield from?\n",
      "where do sesame seeds come from\n",
      "where is the world cup in 2010\n",
      "what part of the plant are avocados\n",
      "what are garnishments\n",
      "what was the steelworkers strike\n",
      "what are slr cameras\n",
      "where is uwa on world list of universities\n",
      "when did freddie mercury die\n",
      "what are the arb medications\n",
      "who won the super in xl1\n",
      "how did armando christian perez become famous\n",
      "who sings the song never ending story\n",
      "what is the scientific name of the eastern tiger salamander?\n",
      "what is 6 pin din connector\n",
      "what religion is westminster abbey\n",
      "where is desmanthus illinoensis found\n",
      "where is scotty mccreery from\n",
      "what are the charges against casey anthony\n",
      "what is am 2201\n",
      "how long was i love lucy on the air\n",
      "where scottsdale?\n",
      "what state is milwaukee in\n",
      "where do dungeness crab live\n",
      "what bird family is the owl\n",
      "what is stepwise linear regression\n",
      "whatever happened clint walker\n",
      "what are the uses for gui\n",
      "how post and lintels are used\n",
      "what motor does a 2001 monte carlo\n",
      "how cds are read\n",
      "what are the names of the 7 dwarfs\n",
      "when did boston braves move\n",
      "what professional baseball pitchers were on the schaumburg flyers\n",
      "where is rogers headquarters\n",
      "who played donna from that 70;s show?\n",
      "who sings backup on no one to blame howard jones\n",
      "how many communities in camden city nj\n",
      "how many people were killed in the holocaust\n",
      "what songs were used in the viva la bam episode raab's russian mail order bride\n",
      "who created the cato institute\n",
      "how many stars on the first american flag\n",
      "what does it mean to take communion in the catholic church\n",
      "what happened to kuomintang after the chinese civil war\n",
      "who built the globe\n",
      "what area code is 479\n",
      "what is an economic feature?\n",
      "what is phylum cnidaria\n",
      "who was the quarterbacks in the super bowl between the steelers nd the cowboys\n",
      "what are the acronyms for masters degree\n",
      "what part of the pig is bacon\n",
      "what is water jet propulsion\n",
      "where is solar energy present\\\n",
      "who voices quagmire on family guy\n",
      "when was queen elizabeth ii married\n",
      "who owns exxon mobil\n",
      "how are ribosomes made\n",
      "what triggered the civil war\n",
      "who made the original care bears\n",
      "who rules communism government\n",
      "where are \"snl\" cast members today?\n",
      "where is selena gomez from\n",
      "what does 3g network mean\n",
      "who can file suspicious activity report\n",
      "when flushed away came out on dvd\n",
      "what happens to the chemical composition of cocaine when you add it to alcohol\n",
      "what is christian protestant?\n",
      "what part of the government is the federal court judge in?\n",
      "how many games did brett favre start in a row\n",
      "what is an epub file\n",
      "what was captain nemo's nationality?\n",
      "what is another name for the large intestine\n",
      "who was the 16 president of the united states\n",
      "what is blasting (mining)\n",
      "what crimes do not have digital evidence\n",
      "who was john adam's children\n",
      "what year lord of rings made?\n",
      "who played in it's a wonderful life\n",
      "what movies has rachel weisz turned down\n",
      "how do people use the land of rhode island\n",
      "what is the name of the late major league  old professor\n",
      "what is hydrogen in\n",
      "what is windows data protection data\n",
      "what is the meaning of reimbursement\n",
      "where is larry the cable guy from\n",
      "what is darwin's origin of species\n",
      "how can a territory become a state\n",
      "what channel is sec network?\n",
      "how many pounds is a ton?\n",
      "where to buy potato bread made without wheat\n",
      "how did anne frank die\n",
      "what episode do they play the second opening in death note\n",
      "what county is chula vista ca in\n",
      "where was kirk warner's parents born\n",
      "how much data did the 3.5 inch floppy hold\n",
      "what is amoxicillin for?\n",
      "who won season 2 of project runway\n",
      "how poverty affects intelligence\n",
      "what countries have won the world cup\n",
      "how many breeds have become extinct\n",
      "what is a typical annuity premium\n",
      "how frequent do you inspect hydrants\n",
      "what is vitamin a for\n",
      "what color space should i use\n",
      "who is the world's oldest person\n",
      "what ended the era of good feelings\n",
      "what types of muscles are those of the swallowing mechanism?\n",
      "what is a hvac company\n",
      "what is the first program to run during a system boot sequence?\n",
      "what year did george bush name hank paulson secretary of treasury?\n",
      "what is the name of beowulf's king\n",
      "when did zacharias janssen make a discovery related to the cell theory\n",
      "how does a cat purr\n",
      "what product's main ingredient is sodium azide?\n",
      "what country is mexico in\n",
      "how many native americans did the united states kill or deport?\n",
      "what happens in chrono trigger if you lose to lavos\n",
      "how long was frank sinatra famous\n",
      "what is the annual budget of medicare\n",
      "what is slc fire alarm\n",
      "what was the original name of the holiday known today as halloween?\n",
      "what u.s. president's head has been featured on the nickel (five-cent coin) since 1938?\n",
      "what movie had mickey gilley's song \"i was born a dreamer\" in it?\n",
      "what is in milk\n",
      "where is marvin gaye from\n",
      "how is the ejection fraction measured\n",
      "what kind of food does the british blue cat eat?\n",
      "who owned kansas before it became a state\n",
      "who plays as big bird\n",
      "how are transverse ranges formed\n",
      "how many rooms in borgata hotel\n",
      "what is the server for the internet\n",
      "who is roman nicki minaj\n",
      "what states are harrah's properties in\n",
      "what is auto quarter panel\n",
      "when did secretariat win\n",
      "how did angelina jolie get her name?\n",
      "what does a laboratory in a gynecologist office consist of\n",
      "what is the name of an investigation with controlled variables\n",
      "what time was the modern age from\\\n",
      "who was on the 10 dollar bill\n",
      "what are the side effects for lyme disease\n",
      "what teams are winning the most match in fifa 11\n",
      "what are debit cards made of\n",
      "what percent of kids 15 and under make up the human population\n",
      "when to dance with the iconic boyz\n",
      "what are batteries made up of\n",
      "what is a vetting process\n",
      "what is an atomic number periodic table\n",
      "what contributes to high blood pressure\n",
      "what are the units for volts\n",
      "who is the girl in the lazy eye video\n",
      "what are the 40 largest cities in the us\n",
      "what was nixon accused of\n",
      "who is running for governor in nys 2010\n"
     ]
    },
    {
     "name": "stdout",
     "output_type": "stream",
     "text": [
      "what is the country with highest life expectancy\n",
      "how will a uk collection company collect money when you are in the usa\n",
      "what is compatible with directx 9.0b\n",
      "how does a solid state drive work\n",
      "what happens at the end of toy story 3\n",
      "what is a registered agent for an llc\n",
      "what does automatic paper feeder on printers mean\n",
      "where did hurricane katrina begin\n",
      "who played in the 2010 nba finals\n",
      "who said dallas cowboys were america's team\n",
      "when does the seas second season on hardcore pawn start\n",
      "what is transcendental wild oats about\n",
      "what is futanaria\n",
      "what is crohn's and colitis\n",
      "where is diana prince from\n",
      "where is the palatine canal\n",
      "what was the first police department in the united states?\n",
      "what are sanuks made of\n",
      "who is the husband of betty ford\n",
      "what does base jumping stand for\n",
      "how many bones are in the skeletal system is composed of 306 bones\n",
      "what is the singer stevie wonders full name\n",
      "who is the ceo of facebook\n",
      "when did daylight savings time start\n",
      "how many babies are in a typical raccoon litter\n",
      "what continent is australia\n",
      "what is four musical bars\n",
      "what wavelengths are the most harmful on the em spectrum\n",
      "what does point in samoan\n",
      "how high can enlisted soldiers get in the marines\n",
      "how many muscles in the human body\n",
      "what are k cups\n",
      "where is the chupacabra found\n",
      "who wrote the famous novel great books of  the western world volume 27?\n",
      "who is on the $1000 bill\n",
      "what is an incompetent witness\n",
      "how did the vietnam war end\n",
      "what does a groundhog look for on groundhog day\n",
      "who played batman in dark knight\n",
      "what is a gasser car\n",
      "what role did clint walker play in the movie the ten commandments\n",
      "what type of game is heavy rain\n",
      "what date did the american civil war start\n",
      "how is selena\n",
      "what is the average time it takes to go through aa 12 step program\n",
      "what is argentina known for\n",
      "what does salesforce.com do?\n",
      "how are tropical storms and hurricanes named\n",
      "what does a siamese cat\n",
      "what does rapture meaning in a theological sense?\n",
      "what board game are they playing in the 17th episode of big bang theory?\n",
      "where is the place of publication on a website\n",
      "where is the princess from in the princess and the pea\n",
      "what do pigs eat\n",
      "what country is belize in\n",
      "how is hydrogen produced\n",
      "who reports the consumer price index\n",
      "when did world war 2 end\n",
      "what is comp time in disd\n",
      "what is the fourth dimension of physics\n",
      "how many consecutive starts did brett favre have this season?\n",
      "when a seahorses mate die do they die\n",
      "what did elijah mccoy invent\n",
      "how many star wars movies are there\n",
      "what factors stand out in the war against terror articles\n",
      "where is the island new guinea?\n",
      "what is rascal flatts song why about\n",
      "how does milk turn into different  types of cheeses\n",
      "how old is sybil vane in the picture of dorian gray\n",
      "how many places did the appian way road lead to\n",
      "who is marrying kim kardashian\n",
      "how does frederick trick napoleon in animal farm\n",
      "what does it take to start a lodge in freemason\n",
      "how long have kanab ambersnail been endangered?\n",
      "who has the most national championships\n",
      "where are rex humbard kids now\n",
      "where was john deere born?\n",
      "what is there to view in shippensburg,pennsylvania\n",
      "what is a wheel well on trucks\n",
      "how does british succession work\n",
      "when is passover over\n",
      "what is the hsmr percentage for the uab medical center in birmingham, ala?\n",
      "how much does a gold bar weigh\n",
      "how do you get bed bugs\n",
      "what is tofu made of\n",
      "what is network interface card (nic)\n",
      "who starred in webster\n",
      "where was the 1st greek city found ancient times\n",
      "what congressional district am i in\n",
      "what is the united nations and what is its role in the world\n",
      "how many pages of text can you store onto a cd?\n",
      "how is the weather in tampa\n",
      "what county is farmington hills, mi in?\n",
      "what are 2 united states senators that are from pennsylvania?\n",
      "who founded the american red cross\n",
      "when did charles dickens live\n",
      "what is the significance of good friday?\n",
      "what kind of citrus comes from cuba\n",
      "what does fidelity do\n",
      "what is pecan a marker for\n",
      "who was the commander of un forces in korea\n",
      "what channel is fox\n",
      "who played spanky on little rascals\n",
      "what culture is mariah carey\n",
      "where is robert gibbs from\n",
      "what is a class c driver's license\n",
      "how many times has whoopi been married\n",
      "how old was britney spears when she recorded hit me baby one more time\n",
      "what is the population of center tx\n",
      "what part of beef are rouladen cut from?\n",
      "what is a 10\" vinyl release\n",
      "what is rationalism by john locke george berkeley\n",
      "how many innings in overtime in baseball\n",
      "what is the jerusalem artichoke good for?\n",
      "when was fdr elected as president\n",
      "what are the reasons for historical change\n",
      "what are the rules of fencing\n",
      "when was i 25 built in nm\n",
      "what kind of wood was used for car trim?\n",
      "what is a low pulse rate\n",
      "who is director jack smight\n",
      "where was the first march madness game played\n",
      "who produced the gift by susan boyle\n",
      "who is doing the 2011 super bowl halftime show\n",
      "how many states are involved in the mega million drawing\n",
      "who are the characters in pretties\n",
      "how do you do mouth   macneal\n",
      "what is hijackthis 1.99.1\n",
      "when do solar eclipses happen?\n",
      "what does japan call their halloween\n",
      "what is a good credit score\n",
      "what is santa's wife's name\n",
      "what christmas tree did white house have in 2011 and where was it from\n",
      "what does lh do\n",
      "who wrote puff the magic dragon\n",
      "when did thomson make the plum-pudding model\n",
      "what political conflicts marked the presidency of william howard taft?\n",
      "what causes thunder sound\n",
      "what are the thing in a stapler?\n",
      "what part of the corn is used in ethanol production\n",
      "what animal is mint in tokyo mew mew\n",
      "what does (sic) mean?\n",
      "what president made decision to buy louisiana\n",
      "where is island of belize\n",
      "what movies has tom hanks died in\n",
      "what is a book index\n",
      "how is a contract legally binding?\n",
      "what is a medallion guarantee\n",
      "what is the political tea party\n",
      "how does weather happen\n",
      "what state is area code 419\n",
      "what does freedom of speech cover\n",
      "what is duo core 2?\n",
      "how a beretta model 21 pistols magazines works\n",
      "what is the world's biggest religion\n",
      "what does mazel tov! mean\n",
      "what did bruce hornsby think of 2pac cover\n",
      "who is johnny depp's band\n",
      "what measurement is a furlong\n",
      "when did abraham lincoln write the emancipation proclamation??\n",
      "what did sparta do around 650 bc\n",
      "what causes the seasons\n",
      "what does it mean when isaiah of the bible in chapter 55:verses 8,9 mean\n",
      "where do most political candidates get their money\n",
      "when was the patriot act enacted\n",
      "where was pepsi invented\n",
      "what is mini sas protocol\n",
      "what is the meaning behind  the song moody's, im in the mood ?\n",
      "who are florida's 2010 senators\n",
      "who are the stakeholders in a change process\n",
      "what is high emotional intelligence?\n",
      "how big is the purdue greek system\n",
      "when was the world of coca cola built\n",
      "what is a biwa pearl\n",
      "when was jacques cousteau born\n",
      "what cities are in the bahamas\n",
      "what is a melon baller used for\n",
      "what caribbean island is part of france?\n",
      "how old is kurt cobain's daughter\n",
      "what does it say on the doll sgt. peppers\n",
      "where do goldfish live\n",
      "what are the houses of hogwarts\n",
      "what is bullying aggression\n",
      "what channel is jay leno on?\n",
      "who started the mormon church\n",
      "what can electrical energy be transformed into\n",
      "what artist have song with ashanti?\n",
      "what are the three dominant political parties in america?\n",
      "what causes photo red eye\n",
      "who plays judas in lady gaga video judas?\n",
      "what is a good bmi\n",
      "what is boutique bank\n",
      "what are tires made of\n",
      "when the wind blows james patterson\n",
      "what channel is univision\n",
      "what is the capital city of california.\n",
      "what makes up cost of goods sold\n",
      "how frequently does tourettes occur\n",
      "how much can female ejaculate\n",
      "what type of volcano is grimsvotn\n",
      "how many eggs per chicken is expected\n",
      "who designed the georgian colonial house styles\n",
      "who is inventor of the radio\n",
      "what was the cash and carry lend lease\n",
      "what was the song ocean ave written about?\n",
      "when did cigarette commercials get banned\n",
      "how many people have song we can work it out\n",
      "what is ratchet from ratchet and clank\n",
      "what was wrong with ellen on seinfeld\n",
      "when was sechs kleine klavierstucke by arnold schoenberg written\n",
      "who played the commandant in the police academy movie\n",
      "how many acres is fair park\n",
      "what is a php application\n",
      "how did frida kahlo die?\n",
      "where did patrick henry go to college at\n",
      "how many presidents have been assassinated\n",
      "when did the new deal start\n",
      "how many innings makes an official game\n",
      "who proposed amendment 27\n",
      "what river goes through colorado national monument\n",
      "what is special about flounder in little mermaid\n",
      "who is hawaii's football rival\n",
      "how did the flag of chile get created\n",
      "who played ralphie in a christmas story\n",
      "how many countries do not allow women to vote\n",
      "how bruce lee died\n",
      "what year did ford taper the pickup bed\n",
      "what ethnicity is bruno mars\n",
      "what does coca cola do for nausea/vomiting\n",
      "when was scooby doo created\n",
      "what is black swan about\n",
      "when was ann richards governor of texas\n",
      "what is the system in field hockey\n",
      "how much is jk rowling worth\n",
      "what are the test scores on asvab\n",
      "what is grist mill stone\n",
      "what are the characteristics of an ethnic group\n",
      "who was the first european in the americas\n",
      "where is kennywood in pittsburgh\n",
      "what people sung at sydney opera house\n",
      "how many people are in the world\n",
      "how much is a cord of wood\n",
      "who plays carly on drake and josh\n"
     ]
    },
    {
     "name": "stdout",
     "output_type": "stream",
     "text": [
      "what organisms cannot grow on a glucose salt medium\n",
      "who won the most nba championships\n",
      "how much money does steve jobs make a year\n",
      "what forces are included in the coalition force\n",
      "what does the tear tattoo mean\n",
      "what is caused by the human immunodeficiency virus?\n",
      "where did the early humans live?\n",
      "when is administrative assistant day\n",
      "what are the impacts of information communication technology to public relation practices\n",
      "what is a league in the sea\n",
      "how is kafka like the trial\n",
      "what was muhammad's vision\n",
      "how much more time does chemo give to people with renal cancer\n",
      "how do you know if something is the golden ratio\n",
      "what is flour made from\n",
      "how many percent is a basis point\n",
      "how many public universities are in the state of louisiana\n",
      "how does planned parenthood fund abortions?\n",
      "what is libya's imr\n",
      "what is cold flush\n",
      "how many presidents of the us\n",
      "what is an irregular heartbeat pvc\n",
      "what numbers the louisiana\n",
      "what is endodontic dentistry\n",
      "where is the country andorra located\n",
      "when was the sydney harbour bridge built\n",
      "where did mark jackson play pro basketball?\n",
      "what race is nick lachey wife vanessa minnillo\n",
      "what does a migrant worker do\n",
      "where are giant panda bears found?\n",
      "what is the earth's orbital speed\n",
      "who is girl picture on album rank the smiths\n",
      "what level does gears of war go up to\n",
      "how rare are cardiac issues with amitriptyline\n",
      "how long was richard nixon a president\n",
      "what is the se nissan maxima\n",
      "who won fifa world cup 2010\n",
      "what kind of personality test is the mbti\n",
      "what is the gdp for greenland 2010?\n",
      "what is pitch in climbing\n",
      "when was ibm power 6 announced\n",
      "how do you heal a bed sore\n",
      "how an oil rig works\n",
      "who is general grievous of star wars\n",
      "how many people live in atlanta georgia\n",
      "who are the girls from the bad girls club?\n",
      "what is life all about\n",
      "how many jockeys rode secretariat\n",
      "what is eic earned income credit\n",
      "how is root beer made?\n",
      "what is the salary for a representative\n",
      "what underwear does devon werkheiser wear?\n",
      "where is rolling rock brewed\n",
      "how was color introduced in film?\n",
      "what kind of potential is created after a neuron is excited\n",
      "what staffing policy does lenovo use currently\n",
      "what types of microscopes do not require a vacuum\n",
      "where are the most concentration of jews living\n",
      "who created the tourbillon movement?\n",
      "how many votes needed before governor cannot veto\n",
      "how many qfc stores are there\n",
      "what is the controlled substance act known as\n",
      "what is max gross weight for 2004 international semi truck\n",
      "how many feet in an acre\n",
      "what domain is eu\n",
      "who was the president in 1960\n",
      "what building inside central park\n",
      "what state is tahoe in\n",
      "what was nicholas poussins art known to be?\n",
      "when was the american labor union formed\n",
      "who invented the electronic health record system\n",
      "how are cholera and typhus transmitted and prevented\n",
      "how does candace parker write\n",
      "what is the half life of potassium 40\n",
      "how does a dredge work?\n",
      "what does the doghouse do in a glass furnace\n",
      "who is the actor who played the gay old guy in family guy\n",
      "what came first army or air force\n",
      "when did women get the right to own property\n",
      "what not to say to eating disorder\n",
      "what do bumble bees do\n",
      "what is steve-from jackass last name\n",
      "who are kristina debarge parents\n",
      "what color is burgundy\n",
      "who owns us treasuries\n",
      "what is topsoil used for\n",
      "what is a r4 card\n",
      "how does sedimentary rock form\n",
      "when was everybody hates chris made\n",
      "how a vul works\n",
      "where does louisville rank with broadway shows\n",
      "when was birth control banned in the united states\n",
      "where does michael w smith come from\n",
      "how is sociology different from thinking\n",
      "what caused the world war 2\n",
      "who invented the internet\n",
      "how old is zsa zsa gabor's daughter\n",
      "when was john f. kennedy born and when was he assassinated\n",
      "what is primary medicine\n",
      "how is power divided in in european countries\n",
      "where was thomas located on october 27\n",
      "who invented the biological system of nomenclature used to classify plants and animals\n",
      "what is genetic differences\n",
      "what films has hugh grant and richard curtis done together\n",
      "what do platypus eat\n",
      "where are statutes formed\n",
      "who built the first ship\n",
      "where is the greatest concentration of kfc in the world\n",
      "what is a college convocation\n",
      "where were pt boat hulls made in ww2?\n",
      "what did dada artists think of art in past museums\n",
      "what is tylenol 3 on schedule of drugs\n",
      "what year was superdome built\n",
      "what is latitude for observer at equator\n",
      "who starred in my fair lady\n",
      "how many towns in new hampshire\n",
      "how long is tekken blood vengeance movie\n",
      "what carrier does straight talk use\n",
      "who is the creator of bing\n",
      "who sing the five heartbeats songs\n",
      "how many oxygen and nitrogen in nitrate?\n",
      "what are the pittsburgh steeler colors\n",
      "what year was girls just want to have fun release\n",
      "what are the elements in whole grain oats\n",
      "who narrates the big lebowski\n",
      "what is lung effusion\n",
      "when was jamestown colonized\n",
      "what is the @ sign called?\n",
      "when was peter kilmartin elected\n",
      "how did the civil war end\n",
      "how an outdoor wood boiler works\n",
      "when does a demand curve shift?\n",
      "where is green bay packers from\n",
      "what jobs did hans christian anderson have besides writing?\n",
      "who is keith richards married to?\n",
      "what is go daddy.com?\n",
      "what is the lifespan of a down's syndrome individual\n",
      "what are the declaration and resolves of the first continental congress about\n",
      "what is the meaning of word aztecs\n",
      "what are the guidelines of form a black motorcycles club\n",
      "what is a fraggle rock gorg?\n",
      "what is education for a psychiatrist\n",
      "how does fraud called the psyche mind\n",
      "when trees grow in brooklyn\n",
      "how many people die from myasthenia gravis per year\n",
      "what is busiest airport in us\n",
      "when to hunt red fox\n",
      "what does strith\n",
      "what is in a pasty\n",
      "what is buttoned-down shirt?\n",
      "where do mangos come from\n",
      "what is the largest city by area in the us\n",
      "what other territories did the english sharing the island of st kitts\n",
      "what is motorcycle speedway racing\n",
      "when was the state of utah established\n",
      "what did marlon brando do with the butter in the movie last tango in paris\n",
      "what problems does jamal face in the book scorpion\n",
      "how much wii speak accessory costs\n",
      "what does it mean if i'm flat footed?\n",
      "how old is kirk douglas, the actor?\n",
      "who is the owner of shannon mall union city, ga\n",
      "what is the age you have to be to have the right to freedom of speech\n",
      "what county is willmar mn in?\n",
      "what motors do ducatis have\n",
      "what does peritoneal cavity hold\n",
      "what cities are airline hubs\n",
      "how many cubes are in the us?\n",
      "what time is it in tampa florida\n",
      "what is cajeta in english\n",
      "how does gilgamesh consequently view his immortality\n",
      "what is honey bee propolis\n",
      "what is a penny made of\n",
      "what happened to montgomery clift\n",
      "what year did peyton manning get drafted\n",
      "what does it mean to be a commonwealth state\n",
      "what is the birth rate, death rate, life expectancy in turkey\n",
      "how many books in bible\n",
      "what genre is bloody beetroots\n",
      "what happened to the officer in bart shooting\n",
      "how old were the twin towers when destroyed\n",
      "who wrote life liberty and the pur\n",
      "how many high schools are in the us\n",
      "what does quotations do in search\n",
      "what county is catonsville md in\n",
      "where was princess diana from\n",
      "what is the song pumped up kicks about?\n",
      "how a silencer works\n",
      "what composer used sound mass\n",
      "how many apple store are there in total?\n",
      "how big is cornhole hole\n",
      "who is is the singer westlife\n",
      "what is the capacity of the cowboy stadium\n",
      "what is the cultural background of blues\n",
      "when was alaska a state\n",
      "when did pearl harbor get bombed\n",
      "what languages are spoken in south africa\n",
      "what are corporation balance\n",
      "how long is a flat membrane roof good for?\n",
      "what is an asset account\n",
      "what countries are in central america?\n",
      "where did the harpy eagle came from\n",
      "when was the first mary poppins book written\n",
      "what was coco chanel's real first name?\n",
      "where is rough and ready, ca\n",
      "where is tracie spencer now\n",
      "how many days it take for neptune to orbit once\n",
      "who were the singers in sister act\n",
      "what did mia hamm do his work\n",
      "how does sagebrush effect community idaho\n",
      "how lisa loeb\n",
      "how did the highwaymen get their name 1800\n",
      "what is a law enforcement murder book\n",
      "who is the current chief justice of the u.s. supreme court?\n",
      "how old was monica lewinsky during the affair\n",
      "how people live in africa\n",
      "what is the best record in mlb history\n",
      "who qualifies as a domestic partner in ca\n",
      "what did ronald reagan do as president\n",
      "how many muscles in the body\n",
      "when was supply chain management developed\n",
      "when is carnival in trinidad for 2011\n",
      "what is commercial health insurance - blue cross blue shield\n",
      "where did the first airplane fly\n",
      "how is the pothole formed\n",
      "where in the bible that palestine have no land in jerusalem\n",
      "what is the dave matthews band so popular\n",
      "what did native americans  do all day\n",
      "what county is oakhurst, nj in\n",
      "where does apple operate\n",
      "what was \"freedom summer\"?\n",
      "what district is sacramento?\n",
      "what year was digicel founded in trinidad\n",
      "how much does cloud 10 cost wikipedia\n",
      "what are rocker arms?\n",
      "how does delaware support its claim to being the first state?\n",
      "what is neo lubrication\n",
      "what branch of the military is delta force\n",
      "what are warehouse spreadsheets used for\n",
      "how old is beatrice author\n",
      "what is 9/11 bombings\n",
      "what is sump pump  used for\n",
      "what is the organic layer in an amoled screen\n",
      "what are stocks and bonds\n"
     ]
    },
    {
     "name": "stdout",
     "output_type": "stream",
     "text": [
      "how many 1969 dodge coronets were made?\n",
      "what are the factors of production for digital cameras\n",
      "how did neil armstrong affect the united states\n",
      "where was the outsiders book wrote at\n",
      "what temperature is a salt ice bath\n",
      "what is the address of mother's park & ride in wayne nj\n",
      "how is asp.net different from .net\n",
      "where did the persian war take place\n",
      "where were the winter olympics in 2006\n",
      "what is the legal definition of \"natural born citizen\"?\n",
      "how tall are the members of tlc\n",
      "what is ast and alt on complete metabolic panel\n",
      "how old old is xp operating system\n",
      "what does add my two cents mean\n",
      "when is world war hulk movie come\n",
      "who makes nexen tires\n",
      "who is on the quarter\n",
      "where is bloemfontein in africa\n",
      "what is the prognosis of stomach cancer\n",
      "what is a cervix childbirth\n",
      "what is the value of understanding cross-cultural psychology?\n",
      "what are stink bombs made of\n",
      "how many albums has eminem sold in his career\n",
      "who won the women's world cup\n",
      "when did kurt cobain kill himself\n",
      "what kind of earthquake was haiti\n",
      "how long has pilkington company existed\n",
      "what are club seats\n",
      "what does  moat pic service mean in geico?\n",
      "how many miles of interstates are there in the united states?\n",
      "what are the health effects  of drinking bottled water\n",
      "what county is st. elizabeth mo in\n",
      "what are mnemonic devices\n",
      "what are the quad muscles\n",
      "who killed julius caesar\n",
      "what is the location of coldwater ms\n",
      "what are loan originations\n",
      "what was henry clay's political party\n",
      "who were the gop presidential hopefuls in 2006\n",
      "who is the world's oldest living person\n",
      "how many men does the american military have in it\n",
      "what was pepsico's market price per share last year\n",
      "how much water is the human body made of\n",
      "who created earth day\n",
      "who wrote the song cocaine\n",
      "what is the enzyme responsible for transferring electrons to oxygen in the electron transport chain?\n",
      "what is the main source of power in today's america factories?\n",
      "how do you get hepatitis c\n",
      "what is the first icarly episode\n",
      "what is high sticking in hockey\n",
      "when did the cold war start\n",
      "when did expos become nationals\n",
      "how many kids does archie manning have\n",
      "where do women ejeculation exactly coming from\n",
      "who controlled alaska before us?\n",
      "how did tammy faye messner die?\n",
      "how many gold medals usa won for basketball\n",
      "what songs are on the new lady gaga album\n",
      "who is heisman trophy named after\n",
      "where does matt hasselbeck live\n",
      "what is an array in programming\n",
      "how many series in hockey before the stanley cup\n",
      "who are the two senators of louisiana\n",
      "where did columbus really land in 1492?\n",
      "how do they harvest caviar?\n",
      "what committees are joint committees\n",
      "what latitude is tropic of cancer\n",
      "what ever happened to the survivors of the 1989 california earthquake\n",
      "who did john f kennedy run against?\n",
      "what is a rock quarry\n",
      "what is the title of hobbes main work\n",
      "what was the first video to air on mtv\n",
      "how many wide is the state of virginia\n",
      "how long is the term for federal judges\n",
      "what municipal bond interest is taxable\n",
      "what is sanskrit shri\n",
      "what was the first honda car\n",
      "what is the population of algoma wi for 2010\n",
      "who played the drums in the band cream back in 1968\n",
      "where are facial sinuses\n",
      "how long can you be in the supreme court\n",
      "what is and where is hydraulic fluid found and used for\n",
      "what does 1 year mean to the planet\n",
      "how much of earth is covered ocean water\n",
      "when was washington elected president\n",
      "who is the guy in the wheelchair who is smart\n",
      "who is the new mayor of sherwood oregon\n",
      "what is new orleans la first basketball team named\n",
      "how many whales are in the world\n",
      "how did j.p morgan become a wealthy man?\n",
      "where is the real mona lisa located?\n",
      "who discovered planet neptune\n",
      "when did talk radio begin in the u.s.?\n",
      "what is feedback mechanism in plants during respiration\n",
      "what is my resting heart rate at age 24\n",
      "who was the first person to climb the mount of the holy cross\n",
      "when album love always released\n",
      "what size drill to tap 1/4 in tap\n",
      "how do i measure the shot put throw\n",
      "what is a code white in weather\n",
      "what is a cache and dash?\n",
      "what is a magnolias kingdom?\n",
      "what is codeine syrup?\n",
      "what fantasy american football means\n",
      "what states has the electric chair\n",
      "what are superannuation contributions?\n",
      "what are add ons\n",
      "what area code is 810\n",
      "how many grape farms in united states\n",
      "who holds records for most weeks spent at number one as female artist\n",
      "what is benzene used for\n",
      "what is cubic ft\n",
      "where is dear john filmed at\n",
      "what edition of book of mormon had 103 sections\n",
      "when is susan smith eligible for parole\n",
      "when was the milton hershey school founded?\n",
      "what does estee lauder do\n",
      "what is metal music about\n",
      "who did cuddy get engaged to on house\n",
      "how big can texel guinea pigs become\n",
      "how many cylinders mitsubishi galant 1997\n",
      "who wrote the song feelin alright\n",
      "what are use taxes?\n",
      "what year was mario popular\n",
      "who voices wolowitz mother?\n",
      "what is the purpose of vitamin d\n",
      "how long should i wear my cock ring\n",
      "how long was angelina on the jersey shore?\n",
      "what county in texas is conroe located in\n",
      "where is henry viii buried\n",
      "how do i determine size needed for german world war 2 helmet\n",
      "where do flesh eating bacteria live\n",
      "what is the first video game ever\n",
      "where was kite runner filmed\n",
      "what happened to the new condos built at st clair ave and mt vernon in columbus ohio\n",
      "what were the major obstacles facing the industrial revolution/\n",
      "how does black pepper grow\n",
      "how many stories is an imax\n",
      "what is rfid equipment\n",
      "what city is ami box  juke made?\n",
      "what do ancients myths explain\n",
      "what were the major economic activities of the early canadians\n",
      "when did andrea doria sink\n",
      "what is homebrew for wii?\n",
      "what year did the beatles came out with the song i wanna hold your hand\n",
      "what is the disease osteonecrosis of the jaw?\n",
      "who is elizabeth from general hospital who are the boys fathers\n",
      "what did lawrence joshua chamberlain do?\n",
      "what is human chorionic\n",
      "what countries were depended on ussr after 1945\n",
      "who sings the rap song that uses spencer davis beat?\n",
      "who jumped the fence at gettysburg during the civil war?\n",
      "what is the name for the oldest island in the hawaiian hot spots\n",
      "how did dali's works change over time\n",
      "what is sympathetic stimulation\n",
      "who is cindy sheehan and what was her 'peace camp'\n",
      "what is bevo in text terms\n",
      "what kind of legal remedy is it to ask someone to fulfill there promise\n",
      "who is fontana ca named after?\n",
      "where was the super bowl in 1991\n",
      "what race is zendaya coleman\n",
      "who was the leader of the sons of liberty\n",
      "what naturally occurring isotopes does cobalt have\n",
      "what percentage of england is christian\n",
      "who is minka kelly's father\n",
      "what causes brain freeze\n",
      "when was coca cola invented\n",
      "what is the word for lung cancer?\n",
      "what is the rationale for outsourcing in firms\n",
      "how many representative in congress 2011\n",
      "what track was biker boyz filmed at?\n",
      "who is the inside guy on people's court\n",
      "what states are on pacific daylight time\n",
      "what is a high energy lithium battery\n",
      "what does tonneau mean on a watch?\n",
      "who plays \"the frog\" on ncis\n",
      "where is quetzaltenango in guatemala?\n",
      "when did hitler kill himself\n",
      "where is good morning america studio\n",
      "what year was the 8 track invented\n",
      "what is modified agi\n",
      "what is an element on a periodic table\n",
      "what operating system does the zune run?\n",
      "how are sheep slaughtered\n",
      "what is the difference between inside glazed outside glaze\n",
      "how many teams are in the world cup\n",
      "what are some advantages that donald trump has had\n",
      "how many spots on the blackhawks roster were turned over\n",
      "what car company makes the sunbeam\n",
      "what kind of material was able to survive near the sun during the development of the solar system\n",
      "where is modesto california\n",
      "what is .17 hmr caliber\n",
      "what is the width of a 1995 toyota 4 runner\n",
      "how do we calculate the cost of ordering inventory,pp?\n",
      "what is a sacrifice in baseball\n",
      "what is the largest credit union\n",
      "when is lincoln heights new season begin?\n",
      "how does flexible spending account work\n",
      "who shot abraham lincoln\n",
      "what is the biggest virus\n",
      "how often is the florida legislature in session\n",
      "what is scurvy disease\n",
      "what machines are called les flippers in france?\n",
      "what kind of cut is tri tip\n",
      "what is the deepest muscle in your body\n",
      "what happened to mitzi kapture\n",
      "when was the lady gaga judas song released\n",
      "where is kos from?\n",
      "what is the narration of the story ethan frome told in?\n",
      "how many missions has the us sent to mars\n",
      "how many bytes in an unsigned int c++\n",
      "who said give me liberty or give me death\n",
      "how much of california is below sea level\n",
      "who is the book the catcher in the rye by?\n",
      "what war led to pearl harbor\n",
      "what is prince williams last name\n",
      "what is the defensive line in football called\n",
      "what did the supreme court determine in dred scott v. sandford?\n",
      "what does barefoot and pregnant mean\n",
      "what are they like in tropical grassland in plant\n",
      "what is negligence in tort?\n",
      "who played guitar on the kiss album, creatures of the night\n",
      "what do ua's detect\n",
      "what are dialysis tubes\n",
      "where translation on dna happens\n",
      "what is prefix phone number\n",
      "what does the networking tab in task manager show?\n",
      "what is definition of psychotic\n",
      "what is renaissance english\n",
      "where is heron [formular] place of birth\n",
      "how much sulfur dioxide is in propane\n",
      "what significant event happened to rip van winkle\n",
      "when did pee wee herman hosts saturday night live\n",
      "how much will a transfusion of platelet apheresis raise the platelet count\n",
      "who was the first to argue that the sun was the center of the universe\n",
      "how many episodes of lost were there\n",
      "how much is 7 teaspoons'\n",
      "what we talkin about band member\n",
      "what do people usually give up for lent\n",
      "when is the wv state fair\n"
     ]
    },
    {
     "name": "stdout",
     "output_type": "stream",
     "text": [
      "what does gringo mean\n",
      "what is a brindle boxer\n",
      "who is the richest man alive in houston?\n",
      "how latin america has changed us culture\n",
      "what are the rivers in india\n",
      "when does sons of anarchy return 2011\n",
      "when did strawberry shortcake dolls appear\n",
      "what is evoked otoacoustic emissions\n",
      "what is bracketing in photography\n",
      "who destroyed street cars\n",
      "where does the return address go on mail\n",
      "how many brothels were there in the united states in 1840's\n",
      "who invented geothermal energy technology\n",
      "what is right to set off payments\n",
      "what implication(s) does the law of conservation of matter have for humans?\n",
      "where is mint mark on liberty standing half\n",
      "what genre is where the red fern grows\n",
      "how many gray wolves are in the world\n",
      "what antigen in present in type o+ and o- blood\n",
      "what is polyester in packaging pet\n",
      "what is another name for cpu\n",
      "what is a discipline of study\n",
      "what produces primary xylem?\n",
      "what printmaking process doesn't require the text to be reversed\n",
      "who do they say the son of man ...\n",
      "what you need short story\n",
      "how often are meetings held for businesses\n",
      "what is a constant in math?\n",
      "what a margarita contains\n",
      "how much is 1 tablespoon of water\n",
      "what is a ti 82?\n",
      "what happened to john starks\n",
      "how did wild bill's father die\n",
      "where is mark sanchez from\n",
      "when did the uk labour government replace the conservative government?\n",
      "when does v start\n",
      "who is e from entourage\n",
      "when did germans enter paris in ww2\n",
      "what is squash the sport\n",
      "what does an advocacy website promote?\n",
      "what is the main primary bronchus\n",
      "what is bones job\n",
      "who was the runner up for miss usa\n",
      "when was andy griffith born\n",
      "what is the drinking and driving act\n",
      "who is henry sampson jr.\n",
      "how deep can be drill for deep underwater\n",
      "what is the highest mountain in america and where is is located?\n",
      "what is rda for vitamin b12\n",
      "what is a contingent fee with an attorney\n",
      "how deep is the atlantic ocean\n",
      "when does into the wild 30 seconds to mars concert dvd come out?\n",
      "how many presidential terms did fdr serve\n",
      "what is a llc company?\n",
      "where  is kj 52 from\n",
      "what is considered to be a disasters\n",
      "what is the length of a nautical mile\n",
      "where is chayanne from?\n",
      "what would michael phelps like to see\n",
      "what is a gsm cell phone\n",
      "where is basque spoken\n",
      "what is a leecher torrent?\n",
      "what is carbon 14 dating is a type of ?\n",
      "what are the obstetric emergencies\n",
      "what is a pci port used for\n",
      "what is the third theory of language acquisition.\n",
      "what video format will play in a dvd player\n",
      "what affects the money supply\n",
      "how are glacier caves formed?\n",
      "what is in the alpine mountain systems\n",
      "what was british honduras previously called\n",
      "how many professional hockey teams in canada\n",
      "what produces calcitonin\n",
      "who created the populist party\n",
      "what is a lapping machine\n",
      "where are the kidneys in your body\n",
      "who is a utilization manager\n",
      "how much is hot yoga growing yearly\n",
      "who has renee zellweger dated\n",
      "what is june known for?\n",
      "how does the e coli bacteria cause death\n",
      "what is a vm server\n",
      "how does agreement show grammatical relation\n",
      "what is melissa and joey about\n",
      "who plays angie lopez\n",
      "who killed general warren in bunker hill\n",
      "what type of chain on a honda cbr1100xx\n",
      "how did mohammed gandhi die\n",
      "when was the song help written\n",
      "what type of batteries are 357 (lr44)\n",
      "how much hp does 2005 kawasaki 636 have\n",
      "how much time can store on dvd dl\n",
      "where sophia loren lives in italy\n",
      "what greek god is a hunter\n",
      "how did paul bragg die\n",
      "how school librarians support students with disabilities in europe\n",
      "what are the  4 largest cities in the u.s\n",
      "where do the stripes go on the service charlies\n",
      "what religions used henna\n",
      "who played derwin davis on the first 2 episodes of the tv show the game\n",
      "how hydrogen fuel for cars work\n",
      "how does nanotechnology affect health\n",
      "what country has the most muslims in the world\n",
      "what county is erie colorado\n",
      "where is university of nelson mandela metropolitan located\n",
      "how many canals in mandibular first molar\n",
      "how many people visit crater lake national park each year\n",
      "how did streets in lower 9th ward new orleans get their names\n",
      "who was ho chi minh in vietnam war\n",
      "what is us dollar worth based on\n",
      "what nationality is wendy williams\n",
      "how many miles is harvard university from yale university?\n",
      "what does the term \"mens rea\" mean\n",
      "how many teams start nhl playoffs\n",
      "what is angry all the time about\n",
      "when was raphael born\n",
      "where was blue mountain state filmed at\n",
      "what are the parts of a hand called\n",
      "when was the last eruption of mount augustine\n",
      "what are the three ossicles\n",
      "what is a four lokos\n",
      "how old were golden girls at time of show\n",
      "what do acarina eat?\n",
      "what are the mountain ranges of massachusetts\n",
      "what is an intradermal nevus\n",
      "who created facebook\n",
      "where latin\n",
      "how big or small a visible light can get\n",
      "when were the first firemen\n",
      "what is the federal death tax\n",
      "what console of the seventh generation sells best\n",
      "how is 5 hour glucose tolerance test performed\n",
      "what do biologists do\n",
      "what does the goddess athena tell odysseus he is to do?\n",
      "what is managerial engineering\n",
      "what is the newest suite life on deck episode\n",
      "what is melloco entero\n",
      "what country is madrid spain in\n",
      "who was the killer in scream 3\n",
      "what is the official language of america?\n",
      "how many words are in a short story\n",
      "when does embryo secrete hgh\n",
      "what are the colors of newfoundland and labrador\n",
      "what are the 4 eras of time which one do we live in\n",
      "what material is a mouse pad made out of?\n",
      "what is lean manufacturing and who developed\n",
      "what is a major trend in land plant evolution\n",
      "where did people go and drink during the prohibition\n",
      "what is the coleman report for white flight?\n",
      "when is jla 1 scheduled for release\n",
      "what are some chinese inventions\n",
      "what is the disk defragmenter tool\n",
      "what movement was elizabeth cady stanton a part of\n",
      "what is firewire used for\n",
      "what are the actual sizes of scale models\n",
      "who funds whale wars\n",
      "who owns hamburger helper\n",
      "how many horsepower does a bugatti veyron have\n",
      "what is the function of the hard palate\n",
      "what religions are considered christian\n",
      "what is civil engineering about\n",
      "what version minecraft free\n",
      "what are the major airports in mexico\n",
      "where was giovanni schiaparelli born?\n",
      "when did the us stop producing vacuum tubes\n",
      "who invented the thermometer\n",
      "what does cta stand for afrotc\n",
      "what is level of agreement mean\n",
      "what causes cardiomyopathy\n",
      "who created bing\n",
      "what cords are used for in wiccan\n",
      "how is schizophrenia diagnosed?\n",
      "who pulmonary hypertension\n",
      "what are leaf lobe\n",
      "what do u give for 9 yr wedding anniversary\n",
      "how does taste differ from the other senses?\n",
      "what is impingement of the shoulder\n",
      "what country in the middle east did france take control of after ww1\n",
      "what is the format of the canadian citizenship test\n",
      "how many episodes of mnemosyne\n",
      "when was bloody kansas in\n",
      "what is a bad beat in poker\n",
      "what is in a will\n",
      "how many spanish speaking people are there in the us\n",
      "what is surname and given name\n",
      "where do cruises dock in new york city\n",
      "what are stalagmites and stalactites\n",
      "what country has a single solid color flag\n",
      "what are some countries\n",
      "how many people have mariah carey dated?\n",
      "who sang cool jerk\n",
      "what did i miss on newest storm chasers episode\n",
      "what is human skin made of\n",
      "what is the comanche housing made from\n",
      "who is joel grey married to\n",
      "what versions of windows do not have powershell\n",
      "when was bow wow born\n",
      "what is the main disadvantage of using algorithms\n",
      "when is the house of night book awakened coming out\n",
      "how many quarterbacks played for the redskins in 1980\n",
      "what is a harlot in the bible\n",
      "who made hubble telescope\n",
      "when did gary moore die\n",
      "where does the word woman comes from\n",
      "where the streets have no name filming location\n",
      "what does new jersey flag presents\n",
      "who regulates hipaa\n",
      "what are the busiest airports in the world\n",
      "what is the name of mountains along california\n",
      "who is victoria jackson from saturday night live\n",
      "what is george washington university known for\n",
      "what made the civil war different from others\n",
      "what is prince of monaco last name\n",
      "how many us soldiers killed in iraq war\n",
      "what is the names of the men who died in n.m. riot\n",
      "what are knowledge skills abilities\n",
      "what are the levels of hell\n",
      "what is non-profit infrastructure\n",
      "where was the auto industry started\n",
      "how much are the harry potter movies worth\n",
      "how does an earthworm eat & digests food.\n",
      "what was the song of the year 2010 grammy?\n",
      "what do jehovah witnesses believe\n",
      "who are jennifer aniston's parents\n",
      "who won the 2009 super bowl\n",
      "how fire extinguisher works\n",
      "where do prosecutors get evidence for criminal court\n",
      "what year did reds win world series\n",
      "what is only constitutional leadership position in house of representatives\n",
      "what is jerry lewis real name\n",
      "what is the difference between diabetic and adiabatic process\n",
      "who is the rap singer in right round with kesha in the background? *(dancer)*\n",
      "what percent of providers have electronic health records\n",
      "who plays mary poppins in the movie\n",
      "how many countries are member of the eu?\n",
      "what is the world's largest religious population?\n",
      "who dies jill, lauren, stephanie or brooke\n",
      "who killed erica cain\n",
      "what does informal logic mean\n",
      "what age group is generation x\n",
      "what it takes aerosmith album\n",
      "what spanish speaking countries have the most world cup titles\n",
      "where is the youtube headquarters\n",
      "who plays snape in harry potter\n",
      "who is julia roberts married to\n",
      "where in the world are smallpox common\n",
      "how many people in world today\n",
      "what kind of person was thomas paine\n"
     ]
    },
    {
     "name": "stdout",
     "output_type": "stream",
     "text": [
      "what is the name for an old horse-drawn vehicle\n",
      "how is traffic from palmdale to santa clarita?\n",
      "how was marijuana discovered\n",
      "who is on the hundred dollar bill\n",
      "what is schedule 4 drugs\n",
      "how much square feet is an acre\n",
      "what is 5 1 arm mortgage\n",
      "what are geologists currently researching\n",
      "what division is boise state football\n",
      "what is the lombardi trophy made of?\n",
      "how are public schools funded\n",
      "how did the new york red bulls started in the mls\n",
      "who sings better off dead in better off dead\n",
      "what is a forward in soccer\n",
      "who wrote white christmas\n",
      "what is metformin used for\n",
      "what county is cambria wi in\n",
      "what are four thirds cameras\n",
      "what are web related servers\n",
      "when was the declaration of independence  signed?\n",
      "where does cellular respiration occur\n",
      "who was john f kennedy up against\n",
      "what was galileo galilei's personality\n",
      "where is the rhine river located on a map\n",
      "how big is auburndale florida\n",
      "where can i play pokemon cards\n",
      "how far is reevesville,sc?\n",
      "how did joan crawford die?\n",
      "what is lifespan development in psychology\n",
      "when was pope benedict xvi elected?\n",
      "where does ray lamontagne live\n",
      "what generation am i\n",
      "what does the name \"soros\" mean?\n",
      "what is the population of kennewick, wa\n",
      "what is blood urea\n",
      "what a wonderful world covers\n",
      "who is iowa's state senator?\n",
      "how many years of bugs bunny\n",
      "who wrote what's my name rihanna\n",
      "how many british soldiers were missing\n",
      "what size engine does a chevrolet cavalier have\n",
      "when did thomas jefferson become president\n",
      "when did at&t retire analog wireless\n",
      "how many black people live in green bay\n",
      "when does air bag deploy\n",
      "what day is the federal holiday for martin luther king jr.\n",
      "how does lsd impact the human body\n",
      "where are the former renaissance ships?\n",
      "what does a master sergeant in the air force do\n",
      "what is an information technology manager\n",
      "what is a mimio board\n",
      "who did james bond work for\n",
      "what is (sic)\n",
      "how many wives did henry the 8th have\n",
      "when did marvin gaye\n",
      "what are herbivores in finding nemo\n",
      "how is public policy created\n",
      "what percent of illegal immigrants are from mexico and europe\n",
      "what brought about the great depression\n",
      "how big did girl scout cookie boxes used to be\n",
      "how many fire station are in los angeles\n",
      "what artist has won the most grammys\n",
      "what is a luxeon led\n",
      "who do i talk to about federal grants\n",
      "where is vitamin d found\n",
      "how many episodes of bo bo bo bo bo bo bo\n",
      "who are past pittsburgh steelers football coaches\n",
      "how can hoa collect unpaid fees on property\n",
      "what to look for with gi bleeding\n",
      "what is the name of the main male character in the last song that miley falls in love with\n",
      "what did movie theaters do for sound before synchronized sound was introduced into film\n",
      "how did king herod die\n",
      "what happened in the 90's\n",
      "when was july 4 th declare a federal holiday\n",
      "what is the internal pressure of a bomb calorimeter\n",
      "where was ms-13 originally from\n",
      "who shot franz ferdinand\n",
      "who does chris humphries play for\n",
      "how many camera phones\n",
      "what are the ingredients of alka-seltzer\n",
      "what was the date of pearl harbor\n",
      "what day is the feast of st joseph's?\n",
      "who is the amber alert named after?\n",
      "how did apollo creed die\n",
      "what is ischemia or infarction?\n",
      "where did world war 1 start\n",
      "how many music awards has katy perry won?\n",
      "what is the song heart shaped box about\n",
      "where was all roads lead home filmed\n",
      "what was distinguished about the stamp act from previous taxes\n",
      "when is the first day of spring\n",
      "how many towers are in the luxor las vegas\n",
      "what was the germans' last offensive on the western front during world war 2\n",
      "what states in the us has more suicide rate 2009?\n",
      "what state is the capital in\n",
      "where are the ten commandments in the bible\n",
      "what happened to superman in the comics\n",
      "what is wheat grain found in?\n",
      "when was the ancient greek republic was formed and on what date\n",
      "what team was the movie the replacements based on\n",
      "what is the california sales taxes\n",
      "what did the hollywood blacklist have to do with mccarthy\n",
      "what is the name of the six-part comic book mini-series based on a character in call of duty: modern warfare 2?\n",
      "where is the seed located in an artichoke\n",
      "what is bourbon made of\n",
      "what is spelt flour\n",
      "what are schedule 1 drugs according to iowa state law\n",
      "how old was anna nicole smith when she meet her old husband\n",
      "who starred in the drama emergency\n",
      "what is older pyramid or stonehedge\n",
      "where is cane from the young and the restless\n",
      "what classes are considered humanities\n",
      "how many social classes existed in the han dynasty\n",
      "what is olivia's brother's name?\n",
      "how many gold gloves does barry larkin have\n",
      "what is a redshirt freshman football player\n",
      "how did the arrival of the horse affect the pawnee indians\n",
      "what is the population of qingdao\n",
      "where did the vietnamese settle in america\n",
      "who is gavin rossdale married to\n",
      "where is south beach in miami\n",
      "when was the great fire in chicago\n",
      "when was malcolm x assassinated\n",
      "what is ut testing\n",
      "what does the green mean on the mexican flag\n",
      "how many cells are produced during the cell cycle\n",
      "what is the sign for degrees\n",
      "when do i plant triticale\n",
      "how many people live in memphis tennessee\n",
      "what movie won the academy award for best picture in 2000\n",
      "who was the first civilian to make a magnetic compass\n",
      "what started the riots in newark, nj 1967\n",
      "what the multiple endings of john say about its possible authorship;\n",
      "when was srv born\n",
      "what countries are under the buddhism religion\n",
      "what is vitamin b12 used for\n",
      "what kind of poem is \"this is just to say\"\n",
      "what is a normal alkaline phosphatase blood reading\n",
      "who is ezekiel in the bible\n",
      "what race was thaddeus stevens\n",
      "who wrote the song a little more country than that>\n",
      "what president was theodore roosevelt\n",
      "what is a slugs slime made out of\n",
      "what is el mate\n",
      "what is the full name of the first lady and the vp wife\n",
      "what does oklahoma produce\n",
      "how many died in hiroshima and nagasaki\n",
      "what is the language of mali\n",
      "what is the difference in meaning of fraud and illegal acts\n",
      "what is captcha code\n",
      "how many district are in west bengal\n",
      "who has won the most grammys\n",
      "who wrote  nature boy\n",
      "what year did south africa become a team in rugby\n",
      "how is a telephone pagers made\n",
      "what is a landed immigrant in canada\n",
      "what is cta used for\n",
      "how does lex luthor die in superman\n",
      "what kind a is tilapia\n",
      "how was a lawyer called in latin\n",
      "who makes blackberry\n",
      "what county is san jose in?\n",
      "how many mhz is arm9 base\n",
      "how much energy can be passed along each trophic level\n",
      "what are the two initials of the first us president to resign from office\n",
      "what is diet pepsi flavored with\n",
      "what time does the cape come on?\n",
      "where is testosterone produced\n",
      "what does a roman numeral l stand for?\n",
      "how does a cell function\n",
      "how old are the massey brothers\n",
      "what is black hairy tongue disease\n",
      "what is wonton soup made of\n",
      "what are the jets new york jets?\n",
      "how does rainfall in new york affect the environment?\n",
      "what county is galveston in texas\n",
      "how much total wealth in usa\n",
      "where was the fugitive slave law made\n",
      "how is christianity viewed in australia\n",
      "what is denver's oldest operating hotel?\n",
      "what does the class mean for sdhc cards?\n",
      "what freezes faster? hot or cold water?\n",
      "what phase clinical trial new drug application\n",
      "what are the names of the ll divos\n",
      "what is a jennifer convertible sofa\n",
      "who is sara evans married to\n",
      "who plays ethan in my babysitter's a vampire\n",
      "who has nellie furtado collaborated with\n",
      "what is fuel oil used for\n",
      "when did wwi begin\n",
      "what songs are used in the sucker punch trailer\n",
      "what is a dogs classification\n",
      "what was the main contribution of john maynard keynes made to economics\n",
      "what was the post modernist era in literature?\n",
      "what species does johnson grass in oklahoma belong to?\n",
      "what the names of destiny's child\n",
      "what makes a dwarf planet\n",
      "how many students go to santa barbara\n",
      "what county is jennings, la\n",
      "what antibodies are produced in large quantities\n",
      "who was john scott regarding the bible\n",
      "what does bruce jenner do\n",
      "how many rounds in boxing\n",
      "what year was air conditioning created\n",
      "when can you use a defibulator\n",
      "what is up with kent hovind\n",
      "how pays for nfl super bowl rings\n",
      "what is 1 mil guaranies in united states dollars\n",
      "what is mincemeat made of\n",
      "how is constitutionalism used in the american government today?\n",
      "what rank is the highest in the air force\n",
      "what does arraignment mean\n",
      "what is the use of a sales invoice?\n",
      "where is thomas more buried\n",
      "who has obama appointed to the supreme court\n",
      "when did ireland become republic\n",
      "what is a roll play games\n",
      "what is sealing contact?\n",
      "who is natalie portman married to\n",
      "what kind of horse was mr ed\n",
      "what happened in 1907\n",
      "where is loxahatchee fl at\n",
      "what is the normal inr range\n",
      "who all has debby ryan\n",
      "where is hickory located nc\n",
      "when was apple computer founded\n",
      "who is southwest airlines parent company\n",
      "when tonight show first started in 1962 everyone did this on camera\n"
     ]
    },
    {
     "name": "stdout",
     "output_type": "stream",
     "text": [
      "how is today special?\n",
      "how much chicago snow did we get in 1979\n",
      "who owns popeyes chicken\n",
      "how many vehicles are registered in the us\n",
      "what percent of total energy is solar energy\n",
      "when was me and bobby mcgee first recorded?\n",
      "what raid levels use striping\n",
      "how many stripes on the flag\n",
      "what is sign of cancer\n",
      "how many jets fly with the president's plane\n",
      "what types of trees, flowers, or plants are commonly found in canada\n",
      "what year did phil mellor die at iom tt wiki\n",
      "how many eukaryotic cells are in a animal?\n",
      "what is the 8-fold plan to end suffering\n",
      "what is the function of an epithelial free surface that is smooth?\n",
      "who deregulated the banks\n",
      "what is soulja boy's latest song\n",
      "what day does election results for a new governor start in nj\n",
      "how did edgar allan poe die?\n",
      "what cards do you need in poker to get a royal flush\n",
      "who was bush's national security advisor\n",
      "how many millions of years have great white sharks been around?\n",
      "what country is the largest stalagmite\n",
      "where is the valley at in los angeles\n",
      "how did women work for equal rights during the women's movement? were their efforts successful?\n",
      "who passed no child left behind\n",
      "where was the movie unstoppable directed\n",
      "what does auld lang syne mean\n",
      "what does it mean to form a more perfect union\n",
      "what are penises made out of\n",
      "where does penelope cruz come from?\n",
      "how do producers eat carnivores\n",
      "what is vat tax?\n",
      "what are the fundamentals of bretton woods system for fixed exchange rates\n",
      "what was dante alighieri contribution in the renaissance\n",
      "what generates gamma radiation\n",
      "what is selenium and how used\n",
      "what is kathmandu known for\n",
      "what is the tallest building in the western hemisphere?\n",
      "what is the name of the wizard of oz\n",
      "how many baseball teams usa\n",
      "when was mexican independence won\n",
      "who were the hijackers in 9-11\n",
      "what city is george washington university\n",
      "what is the name of the episode in full house when uncle jesse locked michelle out\n",
      "where is the processes tab located on windows xp\n",
      "how does the brain process language\n",
      "what months are in each season\n",
      "what are two languages in nigeria?\n",
      "what happened to stevie ray vaughan\n",
      "what was the movement of enslaved africans known as?\n",
      "what is soy made from\n",
      "how many users on mail.com\n",
      "what is the significance of greenwich england\n",
      "what are the names of airport pa\n",
      "what county is augusta,ga located in?\n",
      "what states have legalized prostitution\n",
      "what is the difference between multistage and cluster sampling\n",
      "what protects the vagina\n",
      "where is smoked salmon from\n",
      "who played the role of tracy turnblad in the original 1988 version of the movie \"hairspray\"?\n",
      "who sang the nights the lights went out\n",
      "what role do ombudsman play in the swedish government?\n",
      "when was the montgomery bill founded?\n",
      "what is a wii motion remote\n",
      "what are the characteristics of wild carrot?\n",
      "how is a computer used?\n",
      "how many days does the chinese new year last\n",
      "when is halley's comet next\n",
      "who was the last roman emperor and how old was he when he ruled\n",
      "what does the president of the usa do\n",
      "what is a webtrends profile\n",
      "what holiday is first weekend of september\n",
      "who discovered am and made the first successful amplitude-modulated transmission of voice?\n",
      "how did the tarantula get its name?\n",
      "how were europe colonist able to establish population centers in southern africa\n",
      "what is singapore's currency\n",
      "what two empires fought to control afghanistan\n",
      "when does the house of delegates meet in maryland\n",
      "when did sertraline come on the market\n",
      "who was more heroic gilgamesh or enkidu\n",
      "who was on the mayflower\n",
      "how did the penguins acquire sidney crosby\n",
      "when harry met sally case\n",
      "what is the primary language of south korea\n",
      "who is shem in the bible\n",
      "what did the augurs use to interpret the will of the gods?\n",
      "what is religions of thailand\n",
      "where does acid from stomach originate?\n",
      "what does the term means by paste and text\n",
      "who started world war i?\n",
      "when is international men's day\n",
      "how much caffeine is in a shot of espresso\n",
      "where are most of the natural gas\n",
      "what happens to queen elizabeth's old dresses\n",
      "how old is the singer bob seger\n",
      "what was life like for immigrant germans in  america\n",
      "what did paul snider, dorothy stratten's husband look\n",
      "what is a fret on a guitar\n",
      "where can i buy ruby gloom dvd\n",
      "when monopoly came out\n",
      "who won antm cycle 12\n",
      "what is dmitri mendeleev 4\n",
      "who is roseanne barr married to\n",
      "what is the difference between magic eye 3d illusions and 3d technology?\n",
      "what is \"my computer\" called for windows 7\n",
      "where are poison dart frog seen\n",
      "what is an .msi file\n",
      "who is massey oil don blankenship's father\n",
      "when they came for the jews\n",
      "what area code is 217\n",
      "what major agencies are studying earthquakes\n",
      "what does the professional designation master mean\n",
      "who was john r detroit\n",
      "what states are on the east coast\n",
      "how did john the dig die thirteenth tale\n",
      "what happened to duffy waldorf\n",
      "what are the three mental states in psychology\n",
      "how is rfid tag powered\n",
      "who started world war i\n",
      "what is a surveyors wheel\n",
      "who is leaving criminal minds\n",
      "how many world series did curt schilling have\n",
      "when was mumpsvax administered in 1960\n",
      "what are organic semiconductors and what is concept of homo and lumo in organic semiconductor\n",
      "how does the mls schedule work\n",
      "how did phone numbers get split 3 than 4\n",
      "how is slugging percentage calculated\n",
      "what are non-agency bond\n",
      "where is marijuana legal\n",
      "what is standard deviation in statistics\n",
      "what states does interstate 70 travel through\n",
      "what is the plot of the shawshank redemption?\n",
      "who founded walmart\n",
      "what is quasi judicial agency\n",
      "where is osaka japan\n",
      "what is the source of a superhero's powers?\n",
      "who discovered the sense of touch?\n",
      "how does heat stroke affect the heart\n",
      "what are some animals in a tigers environment\n",
      "who discovered the 2 moons of mars,phobos and deimos\n",
      "how do you know if a volcano is extinct\n",
      "who is norah jones parents\n",
      "who build the san juan capistrano mission\n",
      "what causes rogue waves\n",
      "when was purple haze by jimi hendrix made?\n",
      "what is 2nd or 3rd cousin once removed\n",
      "what causes destruction of the ozone layer\n",
      "what happened to the zodiac killer\n",
      "how many lungs does a human have\n",
      "how are pointe shoes made\n",
      "how does uv light activated fluorescence\n",
      "what is eggnog made of\n",
      "how many colleges are in illinois\n",
      "what is the minimalist trend\n",
      "what is brees daughter's name in desperate housewives\n",
      "what countries belong with the united nations\n",
      "how much does u.s. pay on health care per person\n",
      "who usually catches the football\n",
      "what does doug's father in law say about vegas before he leaves the hangover\n",
      "what was the main event for katherine dunham?\n",
      "what kind of transportation was there in the middle ages\n",
      "how do former volcanoes affect hydrothermal activity\n",
      "what are square diamonds called?\n",
      "when can st louis buy alcohol\n",
      "when character was king\n",
      "who are the current minority leaders in the house of representatives\n",
      "when was beyonce knowles discovered\n",
      "what is the function of the vas deferens?\n",
      "how many stripes are on the american flag\n",
      "what country does not have nuclear plants\n",
      "what is a millwright worker\n",
      "what channel is letterman on\n",
      "when did playstation 3 first launch\n",
      "how many redwall books are there\n",
      "what type of spider has the most eyes\n",
      "what year did martin luther king die\n",
      "how much is a gold 1986 american eagle worth?\n",
      "what is the ph of potato chips?\n",
      "when does the electoral college votes\n",
      "how many domain names are registered\n",
      "what did st.patrick do\n",
      "what are grits made from\n",
      "who played donna in that 70's show\n",
      "what are social security taxes\n",
      "what is the kanji for language\n",
      "what is in chapstick?\n",
      "who plays angie on george lopez\n",
      "where did the nickname packers come from green bay\n",
      "how many states and territories are within india?\n",
      "what is white chocolate made of\n",
      "where are mahindra tractors made\n",
      "who died on the florida gators college baseball team in 2010\n",
      "what was bernie madoff selling\n",
      "when to get wild chokecherry?\n",
      "what culture is it that children do not look adults in the eyes?\n",
      "how a rocket engine works\n",
      "how does a steam engine work\n",
      "how long does it take for seahorses to mate?\n",
      "who sang what a wonderful world\n",
      "what is the root word of ovaries\n",
      "where is shropshire, uk\n",
      "what is a right wing christian\n",
      "what it is a pilot study\n",
      "where is c-reactive protein made\n",
      "how many pokemon versions\n",
      "what is mpeg4  avc or sp/asp\n",
      "what month is the president inaugurated\n",
      "when is administrative pro day\n",
      "how did magic johnson get aids\n",
      "what does s in ulysses s grant stand for\n"
     ]
    },
    {
     "name": "stdout",
     "output_type": "stream",
     "text": [
      "when was the battle at tombstone fought\n",
      "when were forever stamps introduced\n",
      "who shot malcolm x\n",
      "how much does united states spend on health care\n",
      "who owns land rover\n",
      "how long before symptoms of deadly mushrooms\n",
      "where was tycho brahe when he discovered mars\n",
      "what are the players in quidditch?\n",
      "who is on the ways and means committee\n",
      "what is extreme right wing\n",
      "where is bubbles the chimp now\n",
      "what is the hangover 2 about?\n",
      "how many states have open carry gun laws\n",
      "what do you call to the grade six pupils?\n",
      "what does leeroy jenkins mean\n",
      "what is romania like?\n",
      "what is the lmm engine\n",
      "what kind of books does debbie macomber writes\n",
      "what ancient cultures had marketplaces\n",
      "what did daniel interpret to nabucodonosor chapter 2,3\n",
      "what to do for low lymphocyte count\n",
      "what is the largest major league sport in the world?\n",
      "what are the different types of cross country skiing\n",
      "what is minimum wage of 2010\n",
      "who is the actor that plays harry potter\n",
      "how is canada's health care\n",
      "how much of us 75 is 4 lane\n",
      "how old julio cesar chavez when he fought de la hoya\n",
      "what is ethernet gigabit\n",
      "how many consecutive games did ken jennings win?\n",
      "what is the name of the family guy episode where lois's sister has a baby\n",
      "who discovered nuclear power\n",
      "where does american airlines fly into italy\n",
      "what is the highest point in oahu\n",
      "who is plato in the iditarod\n",
      "where is monica lewinsky today\n",
      "who made facebook\n",
      "what happens  to the light independent reactions of photosynthesis?\n",
      "what does the royal family do\n",
      "what radio station are the boston bruins on?\n",
      "what was the first oil company to operate at prudhoe bay\n",
      "what south dakota county is wakonda in\n",
      "how did seminole war end\n",
      "when did jack lalanne die\n",
      "what part of the bp oil spill affected the water\n",
      "who did richard nixon refer to as the  silent majority\n",
      "what year did aerosmith i dont want to miss a thing\n",
      "what countries are very near to haiti?\n",
      "how was the moon formed\n",
      "what state is pike's peak in?\n",
      "how fast is one g\n",
      "what font does a business letter require\n",
      "who is stronger kid buu or super android 17\n",
      "where did the money for the new scoreboard in milwaukee come from\n",
      "what is prince william's last name\n",
      "what is the mortality rate of sepsis\n",
      "what is sexual reproductive health rights?\n",
      "where are sumitomo tires made\n",
      "what was the name the first electronic handheld calculator\n",
      "how do you use a subjective complement\n",
      "where is the great basin located on a us map\n",
      "how much does a bugatti veyron cost\n",
      "what are shrooms the drug\n",
      "where did the mayflower land\n",
      "what are metaphors used for\n",
      "what is tasha from the backyardigans\n",
      "what the name of the song krs 1 and dnice made\n",
      "what is planned value cost\n",
      "what record company was john lennon with\n",
      "where has gil byrd coached?\n",
      "how many taxis in ny\n",
      "how did scrubs end\n",
      "how are storm names determined?\n",
      "how old a child pedophile crime\n",
      "what is the average american income\n",
      "what is plural for platypus\n",
      "how many ports are there in networking\n",
      "how long does a back waxing last\n",
      "when did f15s first fly\n",
      "how tennessee became a state\n",
      "how does grecian formula work?\n",
      "where was wyclef jean born?\n",
      "what is the role of heredity\n",
      "how was the phone invented\n",
      "who is the junior senator of nc\n",
      "where all deserts once lake\n",
      "what is a form of legal ownership\n",
      "what is the mortality rate for lightning strikes\n",
      "where in gospel of mark does the disciples question christ deity\n",
      "what is a base si unit\n",
      "what is a chronograph watch\n",
      "when editing precision means\n",
      "how many amendments in the us constitution\n",
      "when was james madison in the house of representatives\n",
      "how much did internet fraud amount to\n",
      "how did the chernobyl nuclear disaster affect nature\n",
      "when barack obama was born\n",
      "what is the origin of fiona\n",
      "how many seasons of grey's anatomy are there\n",
      "what is the real name of a white tiger\n",
      "how many episodes are in the first season of misfits\n",
      "what group took home the award for best rock album at the australian recording industry association (aria) music awards?\n",
      "what school district is alvin in?\n",
      "how many times has a player hit for the cycle\n",
      "how long did the roman empire last\n",
      "what kind of dog is hooch in turner and hooch\n",
      "how many websites on world wide web\n",
      "where is dia de los muertos celebrated\n",
      "what is the purpose of north american free trade agreement\n",
      "what building did the romans accidentally burn\n",
      "who invented the television\n",
      "how will i feel after my rhizotomy surgery?\n",
      "where does cashmere come from\n",
      "what is pci interface\n",
      "how old do you need to be to play professional football in the canadian league\n",
      "when does season 9 of bleach begin\n",
      "who killed robert kennedy\n",
      "what is the population of snohomish washington? per year\n",
      "what was john adams doing to help france\n",
      "how many decatherms in a therm\n",
      "what is general average sacrifice\n",
      "what is adem disease\n",
      "what country is turkey in\n",
      "what town is laurel hollow ny in\n",
      "how many countries have english as an official language\n",
      "who contacted muhammad\n",
      "what singer married his cousin\n",
      "when did classification of races begin\n",
      "when was eddie and the cruisers 1 and 2 released?\n",
      "what goods are imported in the democratic republic of congo\n",
      "what is rob from mario\n",
      "who was the player for the detroit lions that wayne fontes did a tribute to\n",
      "what negative element was introduced into the the campaign between andrew jackson and john ouincy adams\n",
      "what is an agents job role in film\n",
      "what is a millionth of a meter\n",
      "what is the complete ground state electron configuration for the iron atom\n",
      "what was the name of the magazine all teenager read in 2000s\n",
      "what does the temporal lobe part of the brain do\n",
      "how are the archegonia of the fern and pine cone similar\n",
      "where is gocheok dong  branch\n",
      "what happen to the boys that played in \"overboard\"?\n",
      "where is bastille day celebrated\n",
      "what song is sung in 6 foot 7 foot\n",
      "what is a .pac file\n",
      "what county is northville mi\n",
      "who was charged with murder after the massacre at my lai\n",
      "what is in mylanta\n",
      "who wrote serenity prayer\n",
      "what are the largest islands in the world\n",
      "what is uniform commercial code article 4a\n",
      "what form of decay does not change the atomic number of them decaying atom?\n",
      "what westerners include in pain and suffering\n",
      "who owns bakers footwear\n",
      "where is jamestown north carolina\n",
      "how many hours apart do navy seals run\n",
      "where was john wayne born\n",
      "how many blind people are there in the us\n",
      "what is the female symbol called\n",
      "what is a full job time??\n",
      "who is the group enigma\n",
      "what board does ps3 sept 2007 have\n",
      "what lyndon b johnson like to as a boy\n",
      "how many schools are in the big ten\n",
      "what is the name of the founder of doha\n",
      "what are the primary components of globalization that affect how the practice of medicine takes place in the u.s.?\n",
      "how many verses does the chapter 21 of the book of joshua have according to the aleppo codex\n",
      "what school did oprah winfrey help\n",
      "when does college football training camp start\n",
      "how many us planes were hijacked to cuba?\n",
      "what are anti inflammatories\n",
      "what is an aircraft  interception\n",
      "what cheese is made from goat's milk\n",
      "what color is the eiffel tower\n",
      "what countries allow gays to openly serve in the military\n",
      "what caused ww\n",
      "what is leasehold; real estate\n",
      "what is iron made of\n",
      "who is anderson cooper's mother\n",
      "what is in the preamble of the constitution\n",
      "who played dumbledore in harry potter\n",
      "what were hamilton's goals for establishing a national bank\n",
      "what is the arid vegetation\n",
      "where did lyndon b johnson tour to announce his war on poverty?\n",
      "when was the first automobile\n",
      "what county is orono maine in\n",
      "what type of sound does a rooster make?\n",
      "how many land rovers have landed on mars\n",
      "what are the catholic gifts of the holy spirit\n",
      "when an ekg has t wave inversion in lead 2\n",
      "where did the film the family that preys take place at\n",
      "what causes phthisis bulbi after birth\n",
      "what happens when the baroreceptor reflex is activated\n",
      "how well did \"brenda's got a baby\" do on the charts\n",
      "who does afge represent\n",
      "who is james marsters dating\n",
      "what to make with linen\n",
      "what does the universal law of gravitation state\n",
      "what are cytotoxic lymphocytes\n",
      "what do porcupines eat\n",
      "how many seats are in phenix city stadium\n",
      "who made the aqueduct\n",
      "what causes an afterimage\n",
      "what is the most successful video game series\n",
      "what are projection headlights\n",
      "what is sherlock holmes job\n",
      "when was the first world wide web created\n",
      "how are the directions of the velocity and force vectors related in a circular motion\n",
      "when was saddle creek founded\n",
      "what is the name of the author who wrote chitty chitty bang bang and the james bond novels?\n",
      "what is the jewish bible called\n",
      "what does metes and bounds mean\n",
      "how big are baby zebras when born\n",
      "who is paul avery to the zodiac killings\n",
      "when did xbox release\n",
      "what state was the civil war in\n",
      "where is robert palmer now\n",
      "how do you find the mean of the squares of the first 10 counting numbers\n",
      "when does the next season of nurse jackie start\n",
      "what people used mayan numeral system\n",
      "what is the population of north america\n",
      "who is leonard in big bang\n",
      "what is middle class in the us\n",
      "where does ground pepper come from\n",
      "how lcd monitors work\n",
      "what is aluminum nitrate used for\n",
      "what are the goals of the organization of american states\n",
      "how did bleeding sumner lead to the civil war\n",
      "what is the speed class for camera\n",
      "when do geese lose their down\n",
      "what are the ten things god cursed pharaoh with\n",
      "who was in the women's ncaa 1994 final four\n",
      "where is modem on wan radio internet?\n",
      "who gets a w2 form\n",
      "what are spoilers for\n",
      "how south african leaders are elected\n",
      "who sang that song-a change is going to come\n",
      "what is the largest whale\n",
      "when was the first super bowl\n",
      "what is section eight housing\n",
      "what happened to steelix on the troop nick\n"
     ]
    },
    {
     "name": "stdout",
     "output_type": "stream",
     "text": [
      "who is bj's wholesale club\n",
      "when did they establish the song rocketeer\n",
      "when was america pioneered\n",
      "when did playhouse square reopen?\n",
      "what is 1/10 net 30\n",
      "what are the economics of the netherlands\n",
      "what is a good leg press\n",
      "when was jesus baptized\n",
      "what is muse's lead singer's name\n",
      "what is wrong with gary busey's face\n",
      "what branch of army was dwight d eisenhower in\n",
      "how much does 1952 us 1/2 franc weight\n",
      "who wrote rhythm of the ancient mariner\n",
      "where did erisa come from\n",
      "what is that dot on the forehead of indian women\\\n",
      "when was bandaranaike airport built\n",
      "who owns smirnoff\n",
      "what is cu the element\n",
      "where are cover girl cosmetics sold\n",
      "what county is wilton ca in\n",
      "what cars have smart key systems\n",
      "who hit the first home run at riverfront stadium?\n",
      "how many terms did calvin coolidge serve\n",
      "who is juliet huddy dating\n",
      "what about me moving pictures\n",
      "what are lobbying groups\n",
      "who owns joe's crab shack\n",
      "who wrote stand by me\n",
      "what happened to lynne on real housewives of orange county\n",
      "what is the ideal mean radiant temperature\n",
      "what was terri irwin's cougar named\n",
      "what city is oregon state university in\n",
      "what are american people of japanese descent called\n",
      "what is considered a large car\n",
      "who put the bible in verses\n",
      "what is el morro in puerto rico\n",
      "what are sata power connector\n",
      "what cable company carry comcast sportsnet\n",
      "what is alcohol content of beer per volume\n",
      "who moved my cheese synopsis\n",
      "who is the girl in imagination movers\n",
      "how old was arnold in terminator 3\n",
      "what year did the last monkeys go into space\n",
      "what is the icd 9 code for anterior synechiae\n",
      "what can silk be used for\n",
      "what is raster wiki\n",
      "who owns the texas rangers\n",
      "who overthrows france\n",
      "who are the founder of mcafee associates company\n",
      "what is a bus adapter in a computer?\n",
      "what percentile is my income of 140,000 of the population?\n",
      "what is the largest university in the us\n",
      "what is the biggest standard size for longboards?\n",
      "what does a vote to table a motion mean?\n",
      "where is the human thigh located?\n",
      "what is hdmi out\n",
      "where are the internal and external iliac arteries\n",
      "what are  the  official languages of nigeria\n",
      "who replaced nikita khrushchev\n",
      "when is frank pallone up for reelection\n",
      "what did bull run end for the north\n",
      "where was the first canal in panama located\n",
      "what state is new orleans in\n",
      "who sung the banana boat song\n",
      "when slavery abolished\n",
      "where are flip flops made at\n",
      "what does life insurance cover?\n",
      "when was the internet started\n",
      "what state is mn\n",
      "what terminal is delta at lax\n",
      "who are the characters in 90210 in season 3\n",
      "what was the nickname of the 1967 red sox team that outperformed expectations and made it to the world series\n",
      "how active can one be with copd\n",
      "who was the republican candidate for president in the 1969 elections\n",
      "how do forensic auditors examine financial reporting\n",
      "what does a silver dollar 1873 coin look like\n",
      "where did halley's comet come from\n",
      "when did the titanic sink\n",
      "who composed the singapore national anthem\n",
      "what is hosting a website\n",
      "how is single malt scotch made\n",
      "when was the constitution written\n",
      "who made the wwe too cool song\n",
      "how is paper measured\n",
      "what year was gulf war\n",
      "what were the problems with dalton's original laws?\n",
      "what was the crude death rate in 1990?\n",
      "what year does the short story \"there will come soft rains\" take place?\n",
      "where in texas is martin county?\n",
      "where is the person who played \"joey stivic\" in all in the family\n",
      "what is the symbol for euro\n",
      "who is the writer of the beowulf poem?\n",
      "what are the songs from the music man\n",
      "what happened on april 11 1861 at fort sumter\n",
      "what is in ultram\n",
      "what is  file based system\n",
      "who is the mayor of chicago 2011\n",
      "what is sims language\n",
      "what are new covenant church\n",
      "how much is a yen coin\n",
      "when president nixon resigns\n",
      "what nerves run through the humerus\n",
      "what do maggots turn into to?\n",
      "what year did keeping up with the kardashians begin\n",
      "what is in caffeine\n",
      "who accompanied king louis the vii of france on the second crusade\n",
      "when did the word fuck begin\n",
      "who was the foreman in gone with the wind\n",
      "what can i do with a masters of fine arts degree\n",
      "what is the truth in negotiations act act\n",
      "how much does the speaker of the house make'\n",
      "what was the distance of evacuation from the russian nuclear meltdown\n",
      "what do mucous membranes secrete\n",
      "who won the sc election 2010\n",
      "what is colonial americans day in usa\n",
      "what did 7 year old hitler look like\n",
      "what countries are in cono sur\n",
      "what is it like at mount rushmore?\n",
      "where did the british defeat of rommel\n",
      "how is human height measured\n",
      "who was the king during macbeth's time\n",
      "what is lost purchasing power\n",
      "when is the feast of st. rita\n",
      "who sang sun city\n",
      "when did the civil rights movement begin\n",
      "when was the declaration of independence signing\n",
      "what did isaac newton do\n",
      "who originally did the song, free by zac brown band\n",
      "what does a timing belt do\n",
      "who kill franz ferdinand ww1\n",
      "what is lockton affinity\n",
      "what are the characteristics of bryophytes\n",
      "how many people died at the pentagon in 9 11\n",
      "how often do elk have sex\n",
      "how did the pendulum improve upon earlier clocks?\n",
      "what is a mms message\n",
      "how much does it cost to set up hydroelectric\n",
      "who is harrison ford married to\n",
      "what is the main type of restaurant\n",
      "how do you make an older version of windows movie maker compatible with the new live version\n",
      "when us subprime mortgage market collapse\n",
      "what country are bongo drums from?\n",
      "where can i find shantytowns during the great depression\n",
      "what is the lowest temperature ever recorded in antarctica\n",
      "what is a store confectioner\n",
      "when did coca cola first come out\n",
      "who produced loyal to the game?\n",
      "what are a and r reps\n",
      "how can plant gases slow erosion\n",
      "who created imdb\n",
      "how did elvis presley contribute to the popularity of rock and roll?\n",
      "who founded the cdc\n",
      "how many championships brian kelly coached\n",
      "where is j.cole from\n",
      "what is steam by valve corporation\n",
      "what society is collectivist\n",
      "when did mass unemployment start?\n",
      "what does por una cabeza mean\n",
      "what county is tacoma washington in\n",
      "what is corpus christi holiday\n",
      "what do do the colors on the flag of palma de mallorca mean?\n",
      "what does cf mean in legal citation?\n",
      "what glows in the dark\n",
      "what states are in the eastern standard time zone?\n",
      "how does egg substitute effect the cake if u put in\n",
      "what is the term used to describe a period o high anti- communist feelings in the us\n",
      "what is an arc in a story plot\n",
      "what time did the dallas september 8, 2010 tornado hit\n",
      "what state is new england in\n",
      "what was berlin blockade problem\n",
      "when was the trogan war\n",
      "who have presidents pardoned\n",
      "who financed the movie the adjustment bureau\n",
      "what does the family leave act\n",
      "where is pitbull from\n",
      "who worked out the reactions that occur in the dark reactions of photosynthesis?\n",
      "how many nuclear countries in the world\n",
      "what is a mule in coins\n",
      "what was the criticism of the new deal\n",
      "how were letters sealed in the 1800s\n",
      "what part of the government governs the us post office?\n",
      "what is an sd memory card reader\n",
      "what time will kate/will wedding start in united states\n",
      "what does a lion need\n",
      "how many seasons heroes\n",
      "what creates sonic boom\n",
      "when did they show cartoons in movie theaters\n",
      "how many users do twitter have\n",
      "who killed count dracula\n",
      "who is in the group trinity 5 7\n",
      "what powers are specific to a particular house of congress?\n",
      "how bad burns go to burn center\n",
      "what was the ratings of the final episode la reina del sur\n",
      "what were the disease like in the great depression ?\n",
      "what zones are tropical\n",
      "what chili wants wiki\n",
      "what criminal act did whoopi goldberg commit\n",
      "what teams won super bowl\n",
      "what did chaucer do\n",
      "what food group is alcohol\n",
      "how many for profit colleges in the usa\n",
      "how many airports in israel\n",
      "what happened in 1877 in us\n",
      "what is the scientific name of a cardinal bird\n",
      "who was director of secret service in 1963\n",
      "what do cyberstalkers do\n",
      "what is a hosting company on a website\n",
      "what is the book of verses james frey reads in his book?\n",
      "how are aircraft radial engines built\n",
      "what is the voltage of a medical defibrillator\n",
      "where is dora from\n",
      "what does am and pm stand for\n",
      "what structure is disulfide bonds\n",
      "how are business ethics different in africa and united states\n",
      "what is the resolution of a standard dvd?\n",
      "how did land armstrong become famous\n",
      "who was in great britain before the anglo-saxons ?\n",
      "where does the expression \"knocking on wood\" come from\n",
      "how long is the tarzan movie\n",
      "what is the year round climate in santa fe new mexico\n",
      "what shape are arrondissement organized\n",
      "who invented egg rolls\n",
      "when was the first nfl madden game released\n",
      "who shot john lennon?\n",
      "when was steven tyler born\n",
      "what is base operations & maintenance\n",
      "what is considered the mainland of hawaii\n",
      "how many classes of vitamins\n"
     ]
    },
    {
     "name": "stdout",
     "output_type": "stream",
     "text": [
      "what track and field event for me?\n",
      "where is the original a team\n",
      "what key is ludacris move bitch in?\n",
      "what model years did the ford focus zx3 have the zetec engine\n",
      "what will happen to the hills cast members now\n",
      "how do you determine pump frame type\n",
      "how many albums has dmx sold to this date\n",
      "what is david from the bible diet\n",
      "what country is dubai in\n",
      "what is tmz stand for\n",
      "when is it memorial day\n",
      "what county is north myrtle beach in sc\n",
      "who was in full metal jacket\n",
      "when did lucy stone died\n",
      "where was the tsunami in 2005\n",
      "what is a community property state\n",
      "what are the effects of low progesterone levels in a woman\n",
      "what state is jakarta in?\n",
      "what are the colors of a rainbow\n",
      "who sings i am a man of constant sorrow\n",
      "what is baume hydrochloric acid\n",
      "when a cell divides\n",
      "where is the rosetta stone located in 2010\n",
      "what are the 7 continents\n",
      "where was skiing originated\n",
      "how many consoles has xbox 360 sold\n",
      "what is reagan known for\n",
      "what region of france is montargis in?\n",
      "what is \"thin film\" technology\n",
      "what is dave batista doing now\n",
      "where did winston churchill go to school\n",
      "how did sen wayne morse die?\n",
      "how did lena horne impact the harlem renaissance\n",
      "what episode on how i met your mother is tantrum\n",
      "who is on the $10. bill\n",
      "when is lunar new year 2011\n",
      "what where the most important factors that led to the defeat of the democrates in 1968?\n",
      "what are the sulfas\n",
      "who is sam's father on one live to live\n",
      "what is an assist in basketball\n",
      "how big do sebaceous cysts get\n",
      "what is a good bank road?\n",
      "who has been co-hosts on the view?\n",
      "what does the foia apply to\n",
      "when is rose bowl game in 2012\n",
      "what is jello made of\n",
      "what does low self esteem mean\n",
      "where is valley village ca\n",
      "how much money did charlie chaplin make in any year in the 1920\n",
      "what is peat moss good for growing?\n",
      "who was the president when benjamin franklin was alive\n",
      "what bands played at munich oktoberfest 2010\n",
      "when will ie9 be released\n",
      "how the capital of brazil, brasilia was created\n",
      "when did egg mcmuffin get invented\n",
      "where do you find iodine\n",
      "what does xylem transport\n",
      "how do africans view the slave trade\n",
      "what is puerto rico currency\n",
      "where is keith whitley from\n",
      "what does the name \"meister\" mean in german\n",
      "how much was game boy color when it came out\n",
      "what year were skittles made\n",
      "what is the source of geothermal energy\n",
      "what is the rule of the 9s\n",
      "how are the # of electrons in each shell determined\n",
      "where was the shining filmed\n",
      "what is a synthetic conduit\n",
      "what is non binding?\n",
      "who was the first one to invent medicine\n",
      "what number is big brown\n",
      "what countries legalize marijuana\n",
      "what does the idea of effective nuclear charge tell us\n",
      "what is social security card used for\n",
      "what year did disney's animal kingdom lodge open\n",
      "what temperatures can koi live in?\n",
      "how many pawns in chess\n",
      "how did the african slave trade affect africans in terms of economy\n",
      "how did barry white die?\n",
      "when does black friday start for christmas\n",
      "what are the top three laws in science\n",
      "what is the pill in limitless\n",
      "where would you be standing on june 21 if the sun were directly overhead at noon.\n",
      "what is in black and white pudding\n",
      "who is anderson cooper's mom?\n",
      "what is a unit numbering system?\n",
      "how much does vector marketing salary a week\n",
      "what percentage of irish people get an education\n",
      "where are the web templates for visual studio 2010 express\n",
      "what is roxio dla\n",
      "what is bb statistics\n",
      "what origin is the name sabotage\n",
      "what did benedict arnold die\n",
      "what country did wine originate in\n",
      "how do pineapples grow\n",
      "what causes a deficiency in adenosine deaminase\n",
      "what leaves are in pharaoh ramses 2 mummy\n",
      "what is a normal ejection fraction\n",
      "who wrote the song in the mood\n",
      "how is a backpack made\n",
      "what type of light does digital alarm clock use\n",
      "who is lance on suite life of zack and cody\n",
      "what is the anarchy symbol called\n",
      "what is firebird server\n",
      "what happened to original pink power rangers\n",
      "how did congress vote on the 22nd amendment\n",
      "what does a cutter do\n",
      "what was the height of the inca empire\n",
      "how long has 4-h been around\n",
      "when did the civil war start and where\n",
      "what does shut the fuck up mean in spanish?\n",
      "who said \"a picture is worth a thousand words\"?\n",
      "what years was the 18th century\n",
      "who wrote west side story\n",
      "what type of ecosystem does stingrays live in\n",
      "how kimberlite pipes form\n",
      "where in oregon is albany\n",
      "where do crocodiles live\n",
      "what day is 2011 super bowl?\n",
      "what is a newsgroup message\n",
      "what is a cmm machine\n",
      "what type of business is walmart\n",
      "what is a duvet cover used for\n",
      "what school did zach thomas play for before making it in to the nfl\n",
      "what are d.o. of medicine\n",
      "what is the type of democracy in which all citizens have the right to make  government decisions\n",
      "what is the social norm approach?\n",
      "where was martin luther king shot?\n",
      "what does karma mean in buddhism\n",
      "what can be powered by wind\n",
      "what year did isaac newton die\n",
      "who was mr big on sex and the city\n",
      "what is chep pallet\n",
      "what is the formula for calcium nitrate\n",
      "what is a day care for?\n",
      "what is the definition of a map\n",
      "who played the lead roles in the movie leaving las vegas\n",
      "what is homebrew for wii\n",
      "what is general chu chicken\n",
      "how many mvps has kobe bryant won\n",
      "what happened during the starving time in jamestown?\n",
      "how many seasons were there of the wire\n",
      "how old r dylan and cole sprouse\n",
      "when did marlins start\n",
      "what is nicki minaj real name\n",
      "how much did yankee stadium cost\n",
      "how is jerky made\n",
      "who is on blink 182 album cover\n",
      "how many amendments in us\n",
      "when did proof die\n",
      "where does the word baptism come from\n",
      "what is doxycycline hyclate used for\n",
      "who is flo from progressive\n",
      "who is st patty?\n",
      "what are the different translations for the bible\n",
      "how do you play spades\n",
      "where is la palma africa\n",
      "what are points on a mortgage\n",
      "how do insulin syringes work\n",
      "what county is bethlehem pa in\n",
      "what county is jacksonville florida in\n",
      "what does alkali do to liquids?\n",
      "what year was smokey the bear invented\n",
      "where was martin luther born\n",
      "what did tycho brahe do\n",
      "who has brad pitt dated\n",
      "what are heritable traits\n",
      "where is the tibia location\n",
      "what is the oath of allegiance of the united states\n",
      "what species is a spider\n",
      "how many muslims live in the united kingdom?\n",
      "what is a notary for\n",
      "what is a d.o. stand for medical doctor\n",
      "what is google openid\n",
      "what type of land is savannah\n",
      "what state was john mccain a senator in during the 2008 election\n",
      "who won the 1967 nba championship\n",
      "where is the brisket from\n",
      "what does uncle sam represent to the american people\n",
      "how did women's role change during the war\n",
      "when was pokemon first started\n",
      "how much of our universe does plasma make up\n",
      "where is cougar town filmed\n",
      "who said tv is a vast wasteland\n",
      "what part of the pig do pork chops come from\n",
      "what is the la tour de france\n",
      "what does gloria in excelsis deo mean\n",
      "how a water pump works\n",
      "who is mary matalin married to\n",
      "what is customary at shiva\n",
      "how was the president involved in the gulf war\n",
      "how many days are in a leap year\n",
      "what does righteousness mean\n",
      "when did dr.carter g woodson die\n",
      "when does the royal standard fly?\n",
      "who wrote second corinthians\n",
      "what is the latest season of psych\n",
      "how often does ham station need to id?\n",
      "who are all of the jonas brothers\n",
      "when was mary anderson born\n",
      "when did spongebob first air\n",
      "what is an army specialist\n",
      "how long to take iwo jima\n",
      "what is the color puce\n",
      "what city was the convention when gerald ford was nominated\n",
      "what does continuous improvement mean\n",
      "what does s.h.i.e.l.d stand for\n",
      "what is atherosclerotic heart disease\n",
      "what is a neuro tract\n",
      "where is a famous alluvial plain\n",
      "what are circumpolar constellations\n",
      "what creates a cloud\n",
      "what is paresthesias of hands\n",
      "who sang black velvet\n",
      "how many grams in a troy ounce of gold\n",
      "what is in fruitcake\n",
      "where does angela davis currently work\n",
      "how did david carradine die\n",
      "what year did mexico gain independence from spain\n",
      "what is stent surgery\n",
      "where is humboldt ks\n",
      "when did qing dynasty begin\n",
      "who wrote a rose is a rose is a rose\n",
      "who designed the statue of liberty\n",
      "what are some six sigma tools used\n",
      "when to use semicolon\n",
      "what are private labels\n",
      "how many numbers on a credit card\n",
      "when did the movie deep blue sea come out\n",
      "who is basketball star antoine walker\n",
      "what would be the deliverables\n",
      "what is adoration catholic church\n",
      "where is al jazeera based\n",
      "what is petit lemans\n",
      "what is in a hot toddy\n",
      "what is the actresses name that played in walk that line?\n",
      "what is the measurements of saturn's moons\n",
      "what causes heart disease\n",
      "what is preciosa crystal?\n",
      "where fourth of july came from\n",
      "what food is in afghan\n",
      "what is the concept of \"wellness\" ?\n",
      "what is the population of san francisco\n"
     ]
    },
    {
     "name": "stdout",
     "output_type": "stream",
     "text": [
      "what does human sperm consist of?\n",
      "when was the tacoma bridge collapse?\n",
      "what is a group of deer called\n",
      "what is the ingredient in mustard\n",
      "where does a flea live\n",
      "what county is coatesville indiana located in\n",
      "what are land parcels\n",
      "who are the members of the climax blues band?\n",
      "how did harmon killebrew get strong\n",
      "what does a liquid oxygen plant look like\n",
      "what religion is primary in africa?\n",
      "what is a monarch to a monarchy\n",
      "who is the founder of twitter\n",
      "what was the actress who played the pink power ranger\n",
      "how much is centavos in mexico\n",
      "how much did waterboy grossed\n",
      "what is the main component of vaccines\n",
      "how is whooping cough distinguished from similar diseases\n",
      "how many humps on a camel\n",
      "what does hair testing show\n",
      "how does interlibrary loan work\n",
      "what are some legal uses of meth\n",
      "what is the purpose of child support?\n",
      "who owns youtube\n",
      "what county is bolingbrook il in?\n",
      "what was the first year of kentucky derby\n",
      "what is in a tequila sunrise?\n",
      "what is a letterbox movie\n",
      "what is range in math\n",
      "what are the lateral and median apertures of the brain?\n",
      "what year was the eiffel tower made\n",
      "how does a dim sum restaurant work\n",
      "who did mr bojangles\n",
      "what is korean money called\n",
      "how many players on a side for a football game\n",
      "how did john f. kennedy die?\n",
      "how many members are in the house of representatives\n",
      "what are layers of the ionosphere\n",
      "what countries did immigrants come from during the immigration\n",
      "what is sado masochism\n",
      "who sang momma told me not to come\n",
      "what relates to erosion\n",
      "when was how the west was won filmed?\n",
      "what were 3 important things that douglas macarthur did?\n",
      "what is a google in math\n",
      "what is a fy quarter\n",
      "how many books are included in the protestant bible?\n",
      "what is the function of the liver\n",
      "who made the matrix\n",
      "how are antibodies used in\n",
      "what order is the moth\n",
      "who wrote the song for star wars\n",
      "what is the si unit of pressure\n",
      "what percentage of water in in the body\n",
      "what causes a small bowel obstruction\n",
      "where is the 2011 mlb all star game location\n",
      "who sang i want to dance with somebody\n",
      "who invaded north africa during ww2\n",
      "how old was sue lyon when she made lolita\n",
      "what is a 28 day cycle?\n",
      "where is the sermon on the mount in the bible\n",
      "who first synthesized heroin\n",
      "what is the fundamental theorem of calculus used for\n",
      "who created massey ferguson\n",
      "what are procedure codes terms in coding?\n",
      "what are the parts of plant stems?\n",
      "where was hillary clinton born\n",
      "what is the prostate for?\n",
      "how many asian indians live in usa\n",
      "who wrote the song hallelujah\n",
      "who is dr. jb danquah\n",
      "where was the first real roller coaster\n",
      "what was the name of the uss john kennedy before\n",
      "who set the world record for women for high jump\n",
      "what years was the c5 vette produced\n",
      "what bacteria grow on macconkey agar\n",
      "what is brown flax\n",
      "what part of the earth's structure is believed to consist of tectonic plates\n",
      "what is sodium hypochlorite solution\n",
      "who make airbus\n",
      "what can sql 2005 do\n",
      "what is active learning strategies\n",
      "how african americans were immigrated to the us\n",
      "what is name of national anthem song of switzerland\n",
      "what became of rich on price is right\n",
      "where is big pokey from\n",
      "how jameson irish whiskey is made\n",
      "what is a popular people meter\n",
      "when did ms .drgs go into effect\n",
      "what makes of the united states\n",
      "what is rock of ages about\n",
      "what happened to george o'malley on grey's anatomy?\n",
      "how long was mickie james with wwe?\n",
      "what year was president kennedy president?\n",
      "what day is st. patricks day\n",
      "when did texas become a state\n",
      "what is the great basin area\n",
      "where do the mohawks live\n",
      "what circuit court is maryland\n",
      "what kind of school is mit\n",
      "who was daniel j daly?\n",
      "what year was christianity introduced to sub-saharan africa\n",
      "what was the city of mithridates\n",
      "who makes skittles?\n",
      "where elephants live\n",
      "when the body is systemic\n",
      "what is the erb/heart\n",
      "when did ww1 end?\n",
      "what company is cricket wireless by\n",
      "what states allow same sex marriage\n",
      "what is a wwii theater\n",
      "who is suicide tna\n"
     ]
    }
   ],
   "source": [
    "for k in fn:# fn:\n",
    "    for qid, q in questions[k].items():\n",
    "        print(q)\n",
    "        sent_words[qid] = sentence2words(q)\n",
    "    d = data[k]\n",
    "    for qaid in d.index:\n",
    "        sent_words[qaid] = sentence2words(d.get_value(qaid, 'Sentence'))"
   ]
  },
  {
   "cell_type": "code",
   "execution_count": 19,
   "metadata": {},
   "outputs": [],
   "source": [
    "#first_word = lambda sent : sent[:sent.find(' ')]\n",
    "first_token = lambda tokens : tokens[0]\n",
    "second_token = lambda tokens : UNKNOWN_WORD if len(tokens) == 1 else tokens[1]\n",
    "first_two_tokens = lambda tokens : ' '.join(tokens[:2])"
   ]
  },
  {
   "cell_type": "code",
   "execution_count": 20,
   "metadata": {},
   "outputs": [],
   "source": [
    "for k in fn:\n",
    "    for col, func in [('token1', first_token), ('token2', second_token), ('token12', first_two_tokens)]:\n",
    "        qids = list(set(data[k]['QuestionID']))\n",
    "        tmp = Series(map(func, map(lambda qid : sent_words[qid]['words'], qids)), index=qids)\n",
    "        data[k][col] = tmp[data[k]['QuestionID']].values"
   ]
  },
  {
   "cell_type": "code",
   "execution_count": 21,
   "metadata": {},
   "outputs": [],
   "source": [
    "def get_question_type(data_x):\n",
    "    qtype = deepcopy(Series(data_x['token1'], index=data_x.index))\n",
    "    qtype[data_x['token12'] == 'what year'] = 'time'\n",
    "    qtype[data_x['token1'] == 'when'] = 'time'\n",
    "    qtype[data_x['token12'] == 'how many'] = 'number'\n",
    "    qtype[data_x['token1'] == 'where'] = 'place'\n",
    "    qtype[data_x['token1'] == 'who'] = 'person'\n",
    "    return qtype"
   ]
  },
  {
   "cell_type": "code",
   "execution_count": 22,
   "metadata": {},
   "outputs": [
    {
     "data": {
      "text/plain": [
       "(5, 338, 286)"
      ]
     },
     "execution_count": 22,
     "metadata": {},
     "output_type": "execute_result"
    }
   ],
   "source": [
    "len(set(data_trn.token1)), len(set(data_trn.token12)), len(set(data_trn.token2))"
   ]
  },
  {
   "cell_type": "code",
   "execution_count": 23,
   "metadata": {},
   "outputs": [],
   "source": [
    "for k in fn:\n",
    "    data[k]['qtype'] = get_question_type(data[k])"
   ]
  },
  {
   "cell_type": "code",
   "execution_count": 24,
   "metadata": {},
   "outputs": [
    {
     "name": "stdout",
     "output_type": "stream",
     "text": [
      "dev \n",
      "\n",
      "what        56.194690\n",
      "how         12.035398\n",
      "when        11.946903\n",
      "where       10.000000\n",
      "who          9.646018\n",
      "whatever     0.176991\n",
      "Name: token1, dtype: float64\n",
      "what is      14.424779\n",
      "what are     10.265487\n",
      "when did      9.203540\n",
      "how many      6.725664\n",
      "where is      5.132743\n",
      "what does     4.070796\n",
      "what was      3.982301\n",
      "what year     3.539823\n",
      "when was      2.743363\n",
      "who is        2.743363\n",
      "Name: token12, dtype: float64\n",
      "\n",
      "\n",
      "trn \n",
      "\n",
      "what     49.695481\n",
      "how      20.859528\n",
      "who      12.568762\n",
      "when      9.228880\n",
      "where     7.647348\n",
      "Name: token1, dtype: float64\n",
      "what is      19.965619\n",
      "how many      7.509823\n",
      "what are      4.705305\n",
      "when was      3.408644\n",
      "what does     3.163065\n",
      "when did      2.991159\n",
      "who is        2.946955\n",
      "where is      2.946955\n",
      "how did       2.254420\n",
      "what was      1.940079\n",
      "Name: token12, dtype: float64\n",
      "\n",
      "\n",
      "test \n",
      "\n",
      "what     52.956189\n",
      "how      16.205870\n",
      "who      11.569545\n",
      "where    10.421097\n",
      "when      8.847299\n",
      "Name: token1, dtype: float64\n",
      "what is      22.288388\n",
      "what are      5.827308\n",
      "when did      5.784772\n",
      "how many      5.019141\n",
      "what year     3.487877\n",
      "where was     2.934921\n",
      "where is      2.892386\n",
      "what does     2.722246\n",
      "who is        2.254360\n",
      "how did       2.254360\n",
      "Name: token12, dtype: float64\n",
      "\n",
      "\n"
     ]
    }
   ],
   "source": [
    "for k in fn:\n",
    "    print(k, '\\n')\n",
    "    for tk in ['token1', 'token12']:\n",
    "        print(data[k][tk].value_counts().head(10) / float(data[k].shape[0]) * 100)\n",
    "    print('\\n')"
   ]
  },
  {
   "cell_type": "code",
   "execution_count": 25,
   "metadata": {},
   "outputs": [],
   "source": [
    "import math\n",
    "\n",
    "words_idf = dict()\n",
    "for tp in tps:\n",
    "    words_idf[tp] = dict()\n",
    "\n",
    "for tp in tps:\n",
    "    for qaid in sent_words:\n",
    "        for word in set(sent_words[qaid][tp]):\n",
    "            if (word in words_idf[tp]) == True:\n",
    "                words_idf[tp][word] = words_idf[tp][word] + 1\n",
    "            else:\n",
    "                words_idf[tp][word] = 1\n",
    "\n",
    "DocNum = len(sent_words)\n",
    "for tp in tps:\n",
    "    for w in words_idf[tp]:\n",
    "        words_idf[tp][w] = math.log(DocNum / words_idf[tp][w], 2)\n"
   ]
  },
  {
   "cell_type": "code",
   "execution_count": 26,
   "metadata": {},
   "outputs": [],
   "source": [
    "def count_num_cooccur_weight(x, y, tp):\n",
    "    z = set(x) & set(y)\n",
    "    s = 0\n",
    "    for w in z:\n",
    "        s = s + words_idf[tp][w]\n",
    "    return s"
   ]
  },
  {
   "cell_type": "code",
   "execution_count": 27,
   "metadata": {},
   "outputs": [],
   "source": [
    "#word embedding:\n",
    "# readEmbedFile\n",
    "from word2vec_util import * \n",
    "wordvecs = readEmbedFile(word2vec_fn)\n",
    "dim = EMBEDDING_DIM\n",
    "\n",
    "wordset2 = set()\n",
    "for tp in tps:\n",
    "    for w in words_idf[tp]:\n",
    "        wordset2.add(w)\n",
    "\n",
    "new_wv=dict()\n",
    "for w in wordvecs:\n",
    "    if (w in wordset2) == True:\n",
    "        new_wv[w] = wordvecs[w]\n",
    "wordvecs = new_wv\n",
    "new_wv = dict()"
   ]
  },
  {
   "cell_type": "code",
   "execution_count": 28,
   "metadata": {},
   "outputs": [],
   "source": [
    "#using this!!!\n",
    "def count_wv_dis(x, y):\n",
    "    vx = [0 for c in range(dim)]\n",
    "    wn = 0\n",
    "    for w in x:\n",
    "        if w in wordvecs:\n",
    "            wn = wn + 1\n",
    "            for d in range(dim):\n",
    "                vx[d] += wordvecs[w][d]\n",
    "    if wn > 0:\n",
    "        for d in range(dim):\n",
    "            vx[d] /= wn\n",
    "    vy = [0 for c in range(dim)]\n",
    "    wn = 0\n",
    "    for w in y:\n",
    "        if w in wordvecs:\n",
    "            wn = wn + 1\n",
    "            for d in range(dim):\n",
    "                vy[d] += wordvecs[w][d]\n",
    "    if wn > 0:\n",
    "        for d in range(dim):\n",
    "            vy[d] /= wn\n",
    "    dis = 0;\n",
    "    for d in range(dim):\n",
    "        dis += (vx[d] - vy[d])*(vx[d] - vy[d])\n",
    "    return 0 - dis # larger, better\n",
    "\n",
    "def count_wv_dis_weight(x, y, tp):\n",
    "    vx = [0 for c in range(dim)]\n",
    "    wn = 0\n",
    "    for w in x:\n",
    "        if w in wordvecs:\n",
    "            wn = wn + words_idf[tp][w]\n",
    "            for d in range(dim):\n",
    "                vx[d] += wordvecs[w][d]*words_idf[tp][w]\n",
    "    if wn > 0:\n",
    "        for d in range(dim):\n",
    "            vx[d] /= wn\n",
    "    vy = [0 for c in range(dim)]\n",
    "    wn = 0\n",
    "    for w in y:\n",
    "        if w in wordvecs:\n",
    "            wn = wn + words_idf[tp][w]\n",
    "            for d in range(dim):\n",
    "                vy[d] += wordvecs[w][d]*words_idf[tp][w]\n",
    "    if wn > 0:\n",
    "        for d in range(dim):\n",
    "            vy[d] /= wn\n",
    "    dis = 0;\n",
    "    for d in range(dim):\n",
    "        dis += (vx[d] - vy[d])*(vx[d] - vy[d])\n",
    "    return 0 - dis # larger, better\n",
    "\n",
    "# for k in fn:\n",
    "#     d = data[k]\n",
    "#     for tp in tps:\n",
    "#         func = lambda qaid : count_wv_dis_weight(sent_words[qaid][tp], sent_words[d.get_value(qaid, 'QuestionID')][tp], tp)\n",
    "#         features[k][tp] = d['QAID'].apply(func)"
   ]
  },
  {
   "cell_type": "code",
   "execution_count": 29,
   "metadata": {},
   "outputs": [
    {
     "name": "stdout",
     "output_type": "stream",
     "text": [
      "Found 35188 unique tokens.\n",
      "23 165\n"
     ]
    }
   ],
   "source": [
    "encode = lambda s : codecs.encode(s, 'UTF-8')\n",
    "ques_utf8 = {}\n",
    "sent_utf8 = {}\n",
    "for k in fn:\n",
    "    for qid, q in questions[k].items():\n",
    "        ques_utf8[qid] = q\n",
    "    d = data[k]\n",
    "    for qaid in d.index:\n",
    "        sent_utf8[qaid] = d.get_value(qaid, 'Sentence')\n",
    "\n",
    "texts = []\n",
    "texts.extend(ques_utf8.values())\n",
    "texts.extend(sent_utf8.values())\n",
    "tokenizer = Tokenizer(num_words=None)\n",
    "tokenizer.fit_on_texts(texts)\n",
    "ques_seq = {qid:tokenizer.texts_to_sequences([tx])[0] for qid, tx in ques_utf8.items()}\n",
    "sent_seq = {qaid:tokenizer.texts_to_sequences([tx])[0] for qaid, tx in sent_utf8.items()}\n",
    "word_index = tokenizer.word_index\n",
    "print('Found %s unique tokens.' % len(word_index))\n",
    "print(max([len(seq) for seq in ques_seq.values()]), max([len(seq) for seq in sent_seq.values()]))\n",
    "# MAX_SENT_SEQUENCE_LENGTH = max([max([len(seq) for seq in sents_seq[k]]) for k in fn])\n",
    "ques_len = Series([len(q) for q in ques_seq.values()])\n",
    "sent_len = Series([len(s) for s in sent_seq.values()])\n",
    "MAX_QUES_SEQUENCE_LENGTH, MAX_SENT_SEQUENCE_LENGTH = 20, 60"
   ]
  },
  {
   "cell_type": "code",
   "execution_count": 30,
   "metadata": {},
   "outputs": [],
   "source": [
    "word2vec = pd.read_csv(word2vec_fn, sep=' ', header=None, index_col=0, nrows=None, quoting=csv.QUOTE_NONE)\n",
    "embedding_index = {}\n",
    "for i, w in enumerate(word2vec.index):\n",
    "    embedding_index[w] = word2vec.values[i]\n",
    "\n",
    "embedding_matrix = np.zeros((len(word_index) + 1, EMBEDDING_DIM))\n",
    "for word, i in word_index.items():\n",
    "    embedding_vector = embedding_index.get(word)\n",
    "    if embedding_vector is not None:\n",
    "        # words not found in embedding index will be all-zeros.\n",
    "        embedding_matrix[i] = embedding_vector\n",
    "\n",
    "words_bag = set(word2vec.index)"
   ]
  },
  {
   "cell_type": "code",
   "execution_count": 31,
   "metadata": {},
   "outputs": [],
   "source": [
    "words_idf_series = {tp:Series(words_idf[tp].values(), index=words_idf[tp].keys()) for tp in words_idf}"
   ]
  },
  {
   "cell_type": "code",
   "execution_count": 32,
   "metadata": {},
   "outputs": [],
   "source": [
    "def words_of_sentence_to_vector(words, tp, use_weight=True):\n",
    "    shp = (len(words), EMBEDDING_DIM)\n",
    "    try:\n",
    "        if use_weight:\n",
    "            weight = np.repeat(words_idf_series[tp].loc[words], EMBEDDING_DIM).values.reshape(shp)\n",
    "            return (word2vec.loc[words] * weight).mean().values    \n",
    "        else:\n",
    "            return (word2vec.loc[words]).mean().values\n",
    "    except: # none of words are in word2vec\n",
    "        return np.zeros(shp)\n",
    "def get_sent_vetor_df(q_words):\n",
    "    q_vecs = dict(zip(q_words.keys(), map(lambda words : words_of_sentence_to_vector(words, 'words', use_weight=False), q_words.values())))\n",
    "    q_vecs = DataFrame(q_vecs).T\n",
    "    q_vecs_wgt = dict(zip(q_words.keys(), map(lambda words : words_of_sentence_to_vector(words, 'words', use_weight=True), q_words.values())))\n",
    "    q_vecs_wgt = DataFrame(q_vecs_wgt).T\n",
    "    #q_vecs_wgt.columns = map(lambda col : col)\n",
    "    q_vecs_merged = pd.concat([q_vecs, q_vecs_wgt], axis=1)\n",
    "    return q_vecs_merged"
   ]
  },
  {
   "cell_type": "code",
   "execution_count": null,
   "metadata": {},
   "outputs": [],
   "source": []
  },
  {
   "cell_type": "code",
   "execution_count": null,
   "metadata": {},
   "outputs": [],
   "source": []
  },
  {
   "cell_type": "markdown",
   "metadata": {},
   "source": [
    "## calculate features"
   ]
  },
  {
   "cell_type": "code",
   "execution_count": 33,
   "metadata": {},
   "outputs": [],
   "source": [
    "features = {key:DataFrame({}, index=data[key].index) for key in fn}\n",
    "features_trn = features['trn']\n",
    "features_dev = features['dev']\n",
    "features_test = features['test']\n",
    "tps_wgt = list(map(lambda v : v + '_wgt', tps))\n",
    "tps_wv = list(map(lambda v : v + '_wv', tps))\n",
    "tps_wv_wgt = list(map(lambda v : v + '_wgt', tps_wv))"
   ]
  },
  {
   "cell_type": "code",
   "execution_count": 34,
   "metadata": {},
   "outputs": [],
   "source": [
    "# words, stems\n",
    "for k in fn:\n",
    "    d = data[k]\n",
    "    for tp in tps:\n",
    "        func = lambda qaid : count_num_cooccur(sent_words[qaid][tp], sent_words[d.get_value(qaid, 'QuestionID')][tp])\n",
    "        features[k][tp] = d['QAID'].apply(func)\n",
    "        func = lambda qaid : count_num_cooccur_weight(sent_words[qaid][tp], sent_words[d.get_value(qaid, 'QuestionID')][tp], tp)\n",
    "        features[k][tp + '_wgt'] = d['QAID'].apply(func)\n",
    "        func = lambda qaid : count_wv_dis(sent_words[qaid][tp], sent_words[d.get_value(qaid, 'QuestionID')][tp])\n",
    "        features[k][tp + '_wv'] = d['QAID'].apply(func)\n",
    "        func = lambda qaid : count_wv_dis_weight(sent_words[qaid][tp], sent_words[d.get_value(qaid, 'QuestionID')][tp], tp)\n",
    "        features[k][tp + '_wv_wgt'] = d['QAID'].apply(func)"
   ]
  },
  {
   "cell_type": "code",
   "execution_count": 35,
   "metadata": {},
   "outputs": [],
   "source": [
    "# question type\n",
    "for k in fn:\n",
    "    f, d = features[k], data[k]\n",
    "    for col in ['token1', 'qtype']:\n",
    "        f[col] = data[k][col]\n",
    "    f['qtype_time'] = (d['qtype'] == 'time') + 0\n",
    "    f['qtype_number'] = (d['qtype'] == 'number') + 0\n",
    "    f['year'] = list(map(lambda sent : int(re.search('[0-9]{4}', sent) != None), d.Sentence))\n",
    "    f['number'] = list(map(lambda sent : int(re.search('[0-9]+', sent) != None), d.Sentence))\n",
    "    f['number'] = f['number'] - f['year']\n",
    "    f['num_unknown'] = list(map(lambda words : len(set(words) - words_bag), #np.sum(np.logical_not(np.in1d(words, word2vec.index)))\n",
    "                           map(lambda qaid : sent_words[qaid]['words'], d.index)))"
   ]
  },
  {
   "cell_type": "code",
   "execution_count": 36,
   "metadata": {},
   "outputs": [],
   "source": [
    "# qa_vectors = {}\n",
    "# for k in fn:\n",
    "#     q_words = {qid:sent_words[qid]['words'] for qid in set(data[k]['QuestionID'])}\n",
    "#     q_vec_df = get_sent_vetor_df(q_words)\n",
    "#     q_vec_df = q_vec_df.loc[data[k]['QuestionID']]\n",
    "#     q_vec_df.index = data[k].index\n",
    "#     a_words = {qaid:sent_words[qaid]['words'] for qaid in data[k].index}\n",
    "#     a_vec_df = get_sent_vetor_df(a_words)\n",
    "#     qa_vectors[k] = pd.concat([q_vec_df, a_vec_df], axis=1)"
   ]
  },
  {
   "cell_type": "code",
   "execution_count": null,
   "metadata": {},
   "outputs": [],
   "source": []
  },
  {
   "cell_type": "code",
   "execution_count": 37,
   "metadata": {},
   "outputs": [],
   "source": [
    "dummies = {}\n",
    "features_all = pd.concat(features.values(), axis=0)\n",
    "dummies_all = pd.get_dummies(features_all)"
   ]
  },
  {
   "cell_type": "code",
   "execution_count": 38,
   "metadata": {},
   "outputs": [
    {
     "data": {
      "text/plain": [
       "((23841, 31), (23841, 42))"
      ]
     },
     "execution_count": 38,
     "metadata": {},
     "output_type": "execute_result"
    }
   ],
   "source": [
    "features_all.shape, dummies_all.shape"
   ]
  },
  {
   "cell_type": "code",
   "execution_count": 39,
   "metadata": {},
   "outputs": [
    {
     "name": "stdout",
     "output_type": "stream",
     "text": [
      "dev 0 1130 (1130, 42) (1130, 12)\n",
      "trn 1130 21490 (20360, 42) (20360, 12)\n",
      "test 21490 23841 (2351, 42) (2351, 11)\n"
     ]
    }
   ],
   "source": [
    "idx = 0\n",
    "k_all = list(fn.keys())\n",
    "for i in range(len(k_all)):\n",
    "    k = k_all[i]\n",
    "    new_idx = idx + data[k].shape[0]\n",
    "    dummies[k] = dummies_all.iloc[idx:new_idx]\n",
    "    print(k, idx, new_idx, dummies[k].shape, data[k].shape)\n",
    "    idx = new_idx"
   ]
  },
  {
   "cell_type": "code",
   "execution_count": 40,
   "metadata": {},
   "outputs": [],
   "source": [
    "from sklearn.ensemble import RandomForestClassifier, AdaBoostClassifier\n",
    "from sklearn.svm import SVC\n",
    "from sklearn.linear_model import LogisticRegression"
   ]
  },
  {
   "cell_type": "code",
   "execution_count": 41,
   "metadata": {},
   "outputs": [],
   "source": [
    "from learning2rank.rank import RankNet, ListNet\n"
   ]
  },
  {
   "cell_type": "code",
   "execution_count": 42,
   "metadata": {},
   "outputs": [],
   "source": [
    "models = {}"
   ]
  },
  {
   "cell_type": "code",
   "execution_count": 43,
   "metadata": {},
   "outputs": [],
   "source": [
    "indiv = [1560, 'entropy', 3, 5, 5] # (0.68945635493254542,) # 0.68482672530291577,) [48, 'gini', 3, 2, 4] #(0.68573375478137377,) [1734, 'entropy', 5, 3, 4] # (0.68961935330982949,)  # 49, 'entropy', 13, 3, 5]\n",
    "models['rf'] = model_rf = RandomForestClassifier(n_estimators=indiv[0], criterion=indiv[1], \n",
    "                                                 max_depth=indiv[2], min_samples_split=indiv[3], \n",
    "                                                 min_samples_leaf=indiv[4], n_jobs=-1) # "
   ]
  },
  {
   "cell_type": "code",
   "execution_count": 44,
   "metadata": {},
   "outputs": [],
   "source": [
    "#models['ada'] = model_ada = AdaBoostClassifier(base_estimator=None, n_estimators=100, learning_rate=.5, algorithm='SAMME.R', random_state=None)"
   ]
  },
  {
   "cell_type": "code",
   "execution_count": 45,
   "metadata": {},
   "outputs": [],
   "source": [
    "models['lr_l1'] = model_lr_l1 = LogisticRegression(penalty='l1', n_jobs=-1)\n",
    "models['lr_l2'] = model_lr_l2 = LogisticRegression(penalty='l2', n_jobs=-1)"
   ]
  },
  {
   "cell_type": "code",
   "execution_count": 46,
   "metadata": {},
   "outputs": [],
   "source": [
    "#models['svm'] = model_svm = SVC(probability=True)"
   ]
  },
  {
   "cell_type": "code",
   "execution_count": 47,
   "metadata": {},
   "outputs": [],
   "source": [
    "rk_models = {}"
   ]
  },
  {
   "cell_type": "code",
   "execution_count": 48,
   "metadata": {},
   "outputs": [],
   "source": [
    "rk_models['ranknet'] = rk_model_ranknet = RankNet.RankNet()"
   ]
  },
  {
   "cell_type": "code",
   "execution_count": 49,
   "metadata": {},
   "outputs": [],
   "source": [
    "#rk_models['listnet'] = rk_model_listnet = ListNet.ListNet(silent=True)"
   ]
  },
  {
   "cell_type": "code",
   "execution_count": 57,
   "metadata": {},
   "outputs": [],
   "source": [
    "my_models = {}\n",
    "pair_ranker = PairWiseRanker(data_trn.QuestionID, dummies['trn'], list(data_trn.Label))"
   ]
  },
  {
   "cell_type": "code",
   "execution_count": 96,
   "metadata": {},
   "outputs": [
    {
     "data": {
      "text/plain": [
       "QAID\n",
       "Q1*D1-0           0\n",
       "Q1*D1-1           0\n",
       "Q1*D1-2           0\n",
       "Q1*D1-3           1\n",
       "Q1*D1-4           0\n",
       "Q2*D2-0           0\n",
       "Q2*D2-1           0\n",
       "Q2*D2-2           0\n",
       "Q2*D2-3           0\n",
       "Q2*D2-4           0\n",
       "Q2*D2-5           0\n",
       "Q2*D2-6           0\n",
       "Q5*D5-0           0\n",
       "Q5*D5-1           0\n",
       "Q5*D5-2           0\n",
       "Q5*D5-3           0\n",
       "Q5*D5-4           0\n",
       "Q5*D5-5           0\n",
       "Q5*D5-6           0\n",
       "Q5*D5-7           0\n",
       "Q6*D6-0           0\n",
       "Q6*D6-1           0\n",
       "Q6*D6-2           0\n",
       "Q6*D6-3           0\n",
       "Q6*D6-4           0\n",
       "Q6*D6-5           0\n",
       "Q6*D6-6           0\n",
       "Q7*D7-0           0\n",
       "Q7*D7-1           0\n",
       "Q7*D7-2           0\n",
       "                 ..\n",
       "Q3041*D2805-1     0\n",
       "Q3041*D2805-2     0\n",
       "Q3041*D2805-3     0\n",
       "Q3041*D2805-4     0\n",
       "Q3041*D2805-5     0\n",
       "Q3042*D2806-0     0\n",
       "Q3042*D2806-1     0\n",
       "Q3042*D2806-2     0\n",
       "Q3042*D2806-3     1\n",
       "Q3042*D2806-4     0\n",
       "Q3042*D2806-5     0\n",
       "Q3042*D2806-6     0\n",
       "Q3042*D2806-7     0\n",
       "Q3042*D2806-8     0\n",
       "Q3042*D2806-9     0\n",
       "Q3042*D2806-10    0\n",
       "Q3042*D2806-11    0\n",
       "Q3043*D2807-0     0\n",
       "Q3043*D2807-1     1\n",
       "Q3043*D2807-2     1\n",
       "Q3043*D2807-3     0\n",
       "Q3043*D2807-4     0\n",
       "Q3043*D2807-5     0\n",
       "Q3043*D2807-6     0\n",
       "Q3043*D2807-7     0\n",
       "Q3043*D2807-8     0\n",
       "Q3043*D2807-9     0\n",
       "Q3044*D2808-0     0\n",
       "Q3046*D2810-0     0\n",
       "Q3046*D2810-1     0\n",
       "Name: Label, Length: 20360, dtype: int64"
      ]
     },
     "execution_count": 96,
     "metadata": {},
     "output_type": "execute_result"
    }
   ],
   "source": [
    "data_trn.Label"
   ]
  },
  {
   "cell_type": "code",
   "execution_count": 51,
   "metadata": {},
   "outputs": [],
   "source": [
    "# from ParamGA import * \n",
    "# g = RFGA(data_trn.QuestionID, dummies['trn'], data_trn.Label, data_dev.QuestionID, dummies['dev'], data_dev.Label, pair_wise=False)\n",
    "# g.run(NPOP=30, NGEN=20, CXPB=0.5, MUTPB=0.5)"
   ]
  },
  {
   "cell_type": "code",
   "execution_count": 52,
   "metadata": {},
   "outputs": [],
   "source": [
    "indiv =[327, 'gini', 5, 5, 1] #  (0.69239713108760736,)  # [746, 'gini', 7, 6, 4] #[746, 'gini', 7, 6, 4] # 0.679 \n",
    "# (0.69028072897120518,) [352, 'entropy', 5, 4, 5] # (0.69001617870665499,) [1977, 'gini', 6, 4, 5]\n",
    "my_models['my_rf'] = my_models_rf = RandomForestClassifier(n_estimators=indiv[0], criterion=indiv[1], \n",
    "                                                 max_depth=indiv[2], min_samples_split=indiv[3], \n",
    "                                                 min_samples_leaf=indiv[4], n_jobs=-1)"
   ]
  },
  {
   "cell_type": "code",
   "execution_count": 53,
   "metadata": {},
   "outputs": [
    {
     "name": "stderr",
     "output_type": "stream",
     "text": [
      "c:\\python35\\lib\\site-packages\\sklearn\\linear_model\\logistic.py:1228: UserWarning: 'n_jobs' > 1 does not have any effect when 'solver' is set to 'liblinear'. Got 'n_jobs' = -1.\n",
      "  \" = {}.\".format(self.n_jobs))\n",
      "c:\\python35\\lib\\site-packages\\sklearn\\linear_model\\logistic.py:1228: UserWarning: 'n_jobs' > 1 does not have any effect when 'solver' is set to 'liblinear'. Got 'n_jobs' = -1.\n",
      "  \" = {}.\".format(self.n_jobs))\n"
     ]
    }
   ],
   "source": [
    "for mn, md in models.items():\n",
    "    md.fit(dummies['trn'].values, data_trn.Label)"
   ]
  },
  {
   "cell_type": "code",
   "execution_count": 54,
   "metadata": {},
   "outputs": [
    {
     "name": "stdout",
     "output_type": "stream",
     "text": [
      "load dataset\n"
     ]
    },
    {
     "name": "stderr",
     "output_type": "stream",
     "text": [
      "D:\\QA-rankit\\learning2rank\\utils\\NNfuncs.py:56: FutureWarning: reshape is deprecated and will raise in a subsequent release. Please use .values.reshape(...) instead\n",
      "  train_y, validate_y = np.split(fit_y[perm].astype(np.float32).reshape(len(fit_y), 1), [N_train])\n"
     ]
    },
    {
     "name": "stdout",
     "output_type": "stream",
     "text": [
      "The number of data, train: 19342 validate: 1018\n",
      "prepare initialized model!\n"
     ]
    },
    {
     "name": "stderr",
     "output_type": "stream",
     "text": [
      "  2%|█▎                                                                             | 86/5000 [00:00<00:30, 160.25it/s]"
     ]
    },
    {
     "name": "stdout",
     "output_type": "stream",
     "text": [
      "step: 100\n",
      "NDCG@100 | train: 0.06452294876005761, test: 0.23713152941749518\n"
     ]
    },
    {
     "name": "stderr",
     "output_type": "stream",
     "text": [
      "  4%|██▉                                                                           | 190/5000 [00:01<00:33, 144.84it/s]"
     ]
    },
    {
     "name": "stdout",
     "output_type": "stream",
     "text": [
      "step: 200\n",
      "NDCG@100 | train: 0.032579349827406574, test: 0.1912489490761268\n"
     ]
    },
    {
     "name": "stderr",
     "output_type": "stream",
     "text": [
      "  6%|████▌                                                                         | 294/5000 [00:02<00:32, 146.74it/s]"
     ]
    },
    {
     "name": "stdout",
     "output_type": "stream",
     "text": [
      "step: 300\n",
      "NDCG@100 | train: 0.2559710872457922, test: 0.2600356072897981\n"
     ]
    },
    {
     "name": "stderr",
     "output_type": "stream",
     "text": [
      "  8%|█████▉                                                                        | 377/5000 [00:02<00:32, 141.72it/s]"
     ]
    },
    {
     "name": "stdout",
     "output_type": "stream",
     "text": [
      "step: 400\n",
      "NDCG@100 | train: 0.023620651254141253, test: 0.1320915277310032\n"
     ]
    },
    {
     "name": "stderr",
     "output_type": "stream",
     "text": [
      " 10%|███████▌                                                                      | 482/5000 [00:03<00:31, 142.81it/s]"
     ]
    },
    {
     "name": "stdout",
     "output_type": "stream",
     "text": [
      "step: 500\n",
      "NDCG@100 | train: 0.04675524336942765, test: 0.03906581881938752\n"
     ]
    },
    {
     "name": "stderr",
     "output_type": "stream",
     "text": [
      " 12%|█████████▏                                                                    | 586/5000 [00:04<00:30, 144.02it/s]"
     ]
    },
    {
     "name": "stdout",
     "output_type": "stream",
     "text": [
      "step: 600\n",
      "NDCG@100 | train: 0.025861897998876705, test: 0.052107432422364125\n"
     ]
    },
    {
     "name": "stderr",
     "output_type": "stream",
     "text": [
      " 14%|██████████▋                                                                   | 684/5000 [00:05<00:32, 134.04it/s]"
     ]
    },
    {
     "name": "stdout",
     "output_type": "stream",
     "text": [
      "step: 700\n",
      "NDCG@100 | train: 0.26940621175844076, test: 0.31770731107801525\n"
     ]
    },
    {
     "name": "stderr",
     "output_type": "stream",
     "text": [
      " 16%|████████████▍                                                                 | 797/5000 [00:05<00:31, 133.05it/s]"
     ]
    },
    {
     "name": "stdout",
     "output_type": "stream",
     "text": [
      "step: 800\n",
      "NDCG@100 | train: 0.30758129732583506, test: 0.32820947586618443\n"
     ]
    },
    {
     "name": "stderr",
     "output_type": "stream",
     "text": [
      " 18%|█████████████▉                                                                | 891/5000 [00:06<00:31, 130.43it/s]"
     ]
    },
    {
     "name": "stdout",
     "output_type": "stream",
     "text": [
      "step: 900\n",
      "NDCG@100 | train: 0.3062598473392618, test: 0.31520753755952313\n"
     ]
    },
    {
     "name": "stderr",
     "output_type": "stream",
     "text": [
      " 20%|███████████████▍                                                              | 990/5000 [00:07<00:30, 129.50it/s]"
     ]
    },
    {
     "name": "stdout",
     "output_type": "stream",
     "text": [
      "step: 1000\n",
      "NDCG@100 | train: 0.26943234121650333, test: 0.33029457788182626\n"
     ]
    },
    {
     "name": "stderr",
     "output_type": "stream",
     "text": [
      " 22%|████████████████▊                                                            | 1092/5000 [00:08<00:30, 129.13it/s]"
     ]
    },
    {
     "name": "stdout",
     "output_type": "stream",
     "text": [
      "step: 1100\n",
      "NDCG@100 | train: 0.03896306767850353, test: 0.14236713504062415\n"
     ]
    },
    {
     "name": "stderr",
     "output_type": "stream",
     "text": [
      " 24%|██████████████████▍                                                          | 1198/5000 [00:09<00:29, 129.08it/s]"
     ]
    },
    {
     "name": "stdout",
     "output_type": "stream",
     "text": [
      "step: 1200\n",
      "NDCG@100 | train: 0.01572086599685292, test: 0.11463746774924458\n"
     ]
    },
    {
     "name": "stderr",
     "output_type": "stream",
     "text": [
      " 26%|███████████████████▉                                                         | 1292/5000 [00:10<00:29, 126.41it/s]"
     ]
    },
    {
     "name": "stdout",
     "output_type": "stream",
     "text": [
      "step: 1300\n",
      "NDCG@100 | train: 0.03127649073552252, test: 0.18666108775575477\n"
     ]
    },
    {
     "name": "stderr",
     "output_type": "stream",
     "text": [
      " 28%|█████████████████████▎                                                       | 1387/5000 [00:11<00:28, 126.02it/s]"
     ]
    },
    {
     "name": "stdout",
     "output_type": "stream",
     "text": [
      "step: 1400\n",
      "NDCG@100 | train: 0.07530712406755267, test: 0.11722181104180569\n"
     ]
    },
    {
     "name": "stderr",
     "output_type": "stream",
     "text": [
      " 30%|██████████████████████▉                                                      | 1487/5000 [00:11<00:27, 125.86it/s]"
     ]
    },
    {
     "name": "stdout",
     "output_type": "stream",
     "text": [
      "step: 1500\n",
      "NDCG@100 | train: 0.06625682898817271, test: 0.11766056323581134\n"
     ]
    },
    {
     "name": "stderr",
     "output_type": "stream",
     "text": [
      " 32%|████████████████████████▌                                                    | 1593/5000 [00:12<00:26, 126.21it/s]"
     ]
    },
    {
     "name": "stdout",
     "output_type": "stream",
     "text": [
      "step: 1600\n",
      "NDCG@100 | train: 0.1254209992579194, test: 0.12053400327017937\n"
     ]
    },
    {
     "name": "stderr",
     "output_type": "stream",
     "text": [
      " 34%|██████████████████████████▏                                                  | 1698/5000 [00:13<00:26, 126.24it/s]"
     ]
    },
    {
     "name": "stdout",
     "output_type": "stream",
     "text": [
      "step: 1700\n",
      "NDCG@100 | train: 0.08610544657487712, test: 0.12835733860570936\n"
     ]
    },
    {
     "name": "stderr",
     "output_type": "stream",
     "text": [
      " 36%|███████████████████████████▌                                                 | 1786/5000 [00:14<00:25, 126.12it/s]"
     ]
    },
    {
     "name": "stdout",
     "output_type": "stream",
     "text": [
      "step: 1800\n",
      "NDCG@100 | train: 0.26613852833557816, test: 0.2950314676734391\n"
     ]
    },
    {
     "name": "stderr",
     "output_type": "stream",
     "text": [
      " 38%|█████████████████████████████                                                | 1890/5000 [00:15<00:24, 124.81it/s]"
     ]
    },
    {
     "name": "stdout",
     "output_type": "stream",
     "text": [
      "step: 1900\n",
      "NDCG@100 | train: 0.16430467534706011, test: 0.031793418383738024\n"
     ]
    },
    {
     "name": "stderr",
     "output_type": "stream",
     "text": [
      " 40%|██████████████████████████████▌                                              | 1986/5000 [00:15<00:24, 124.41it/s]"
     ]
    },
    {
     "name": "stdout",
     "output_type": "stream",
     "text": [
      "step: 2000\n",
      "NDCG@100 | train: 0.15667559098769093, test: 0.11359575367311887\n"
     ]
    },
    {
     "name": "stderr",
     "output_type": "stream",
     "text": [
      " 42%|████████████████████████████████▏                                            | 2094/5000 [00:16<00:23, 125.06it/s]"
     ]
    },
    {
     "name": "stdout",
     "output_type": "stream",
     "text": [
      "step: 2100\n",
      "NDCG@100 | train: 0.248622601574151, test: 0.2205919484196808\n"
     ]
    },
    {
     "name": "stderr",
     "output_type": "stream",
     "text": [
      " 44%|█████████████████████████████████▋                                           | 2187/5000 [00:17<00:22, 125.60it/s]"
     ]
    },
    {
     "name": "stdout",
     "output_type": "stream",
     "text": [
      "step: 2200\n",
      "NDCG@100 | train: 0.2683453729661475, test: 0.310583504273359\n"
     ]
    },
    {
     "name": "stderr",
     "output_type": "stream",
     "text": [
      " 46%|███████████████████████████████████▎                                         | 2297/5000 [00:18<00:21, 126.09it/s]"
     ]
    },
    {
     "name": "stdout",
     "output_type": "stream",
     "text": [
      "step: 2300\n",
      "NDCG@100 | train: 0.02015702558866816, test: 0.05196784871540402\n"
     ]
    },
    {
     "name": "stderr",
     "output_type": "stream",
     "text": [
      " 48%|████████████████████████████████████▊                                        | 2391/5000 [00:18<00:20, 126.52it/s]"
     ]
    },
    {
     "name": "stdout",
     "output_type": "stream",
     "text": [
      "step: 2400\n",
      "NDCG@100 | train: 0.2915319078652978, test: 0.3119189968955469\n"
     ]
    },
    {
     "name": "stderr",
     "output_type": "stream",
     "text": [
      " 50%|██████████████████████████████████████▎                                      | 2488/5000 [00:19<00:19, 127.03it/s]"
     ]
    },
    {
     "name": "stdout",
     "output_type": "stream",
     "text": [
      "step: 2500\n",
      "NDCG@100 | train: 0.27514907148168327, test: 0.30291841969987904\n"
     ]
    },
    {
     "name": "stderr",
     "output_type": "stream",
     "text": [
      " 52%|███████████████████████████████████████▊                                     | 2585/5000 [00:20<00:19, 126.69it/s]"
     ]
    },
    {
     "name": "stdout",
     "output_type": "stream",
     "text": [
      "step: 2600\n",
      "NDCG@100 | train: 0.21548491068645426, test: 0.22725503409472067\n"
     ]
    },
    {
     "name": "stderr",
     "output_type": "stream",
     "text": [
      " 54%|█████████████████████████████████████████▎                                   | 2683/5000 [00:21<00:18, 126.66it/s]"
     ]
    },
    {
     "name": "stdout",
     "output_type": "stream",
     "text": [
      "step: 2700\n",
      "NDCG@100 | train: 0.23989794004596054, test: 0.2801596225835171\n"
     ]
    },
    {
     "name": "stderr",
     "output_type": "stream",
     "text": [
      " 56%|██████████████████████████████████████████▉                                  | 2792/5000 [00:21<00:17, 127.06it/s]"
     ]
    },
    {
     "name": "stdout",
     "output_type": "stream",
     "text": [
      "step: 2800\n",
      "NDCG@100 | train: 0.22609880484133993, test: 0.28335573592439234\n"
     ]
    },
    {
     "name": "stderr",
     "output_type": "stream",
     "text": [
      " 58%|████████████████████████████████████████████▎                                | 2881/5000 [00:22<00:16, 127.20it/s]"
     ]
    },
    {
     "name": "stdout",
     "output_type": "stream",
     "text": [
      "step: 2900\n",
      "NDCG@100 | train: 0.0569838519751908, test: 0.1737903616399549\n"
     ]
    },
    {
     "name": "stderr",
     "output_type": "stream",
     "text": [
      " 60%|██████████████████████████████████████████████                               | 2994/5000 [00:23<00:15, 127.66it/s]"
     ]
    },
    {
     "name": "stdout",
     "output_type": "stream",
     "text": [
      "step: 3000\n",
      "NDCG@100 | train: 0.11427936341274542, test: 0.2250801822896668\n"
     ]
    },
    {
     "name": "stderr",
     "output_type": "stream",
     "text": [
      " 62%|███████████████████████████████████████████████▋                             | 3094/5000 [00:24<00:14, 127.67it/s]"
     ]
    },
    {
     "name": "stdout",
     "output_type": "stream",
     "text": [
      "step: 3100\n",
      "NDCG@100 | train: 0.2919416482254902, test: 0.33507825239321604\n"
     ]
    },
    {
     "name": "stderr",
     "output_type": "stream",
     "text": [
      " 64%|█████████████████████████████████████████████████▎                           | 3199/5000 [00:25<00:14, 127.75it/s]"
     ]
    },
    {
     "name": "stdout",
     "output_type": "stream",
     "text": [
      "step: 3200\n",
      "NDCG@100 | train: 0.27130971650472996, test: 0.307541320776417\n"
     ]
    },
    {
     "name": "stderr",
     "output_type": "stream",
     "text": [
      " 66%|██████████████████████████████████████████████████▌                          | 3285/5000 [00:25<00:13, 127.00it/s]"
     ]
    },
    {
     "name": "stdout",
     "output_type": "stream",
     "text": [
      "step: 3300\n",
      "NDCG@100 | train: 0.2778811406435203, test: 0.32875095117832287\n"
     ]
    },
    {
     "name": "stderr",
     "output_type": "stream",
     "text": [
      " 68%|████████████████████████████████████████████████████▏                        | 3388/5000 [00:26<00:12, 127.10it/s]"
     ]
    },
    {
     "name": "stdout",
     "output_type": "stream",
     "text": [
      "step: 3400\n",
      "NDCG@100 | train: 0.03949830791630703, test: 0.05203737949740851\n"
     ]
    },
    {
     "name": "stderr",
     "output_type": "stream",
     "text": [
      " 70%|█████████████████████████████████████████████████████▊                       | 3491/5000 [00:27<00:11, 127.27it/s]"
     ]
    },
    {
     "name": "stdout",
     "output_type": "stream",
     "text": [
      "step: 3500\n",
      "NDCG@100 | train: 0.26875437781556993, test: 0.290220026395961\n"
     ]
    },
    {
     "name": "stderr",
     "output_type": "stream",
     "text": [
      " 72%|███████████████████████████████████████████████████████▍                     | 3599/5000 [00:28<00:10, 127.54it/s]"
     ]
    },
    {
     "name": "stdout",
     "output_type": "stream",
     "text": [
      "step: 3600\n",
      "NDCG@100 | train: 0.21826183243725603, test: 0.3087973349254077\n"
     ]
    },
    {
     "name": "stderr",
     "output_type": "stream",
     "text": [
      " 74%|████████████████████████████████████████████████████████▊                    | 3688/5000 [00:28<00:10, 127.69it/s]"
     ]
    },
    {
     "name": "stdout",
     "output_type": "stream",
     "text": [
      "step: 3700\n",
      "NDCG@100 | train: 0.28400110067783124, test: 0.3349349882081729\n"
     ]
    },
    {
     "name": "stderr",
     "output_type": "stream",
     "text": [
      " 76%|██████████████████████████████████████████████████████████▍                  | 3791/5000 [00:29<00:09, 127.87it/s]"
     ]
    },
    {
     "name": "stdout",
     "output_type": "stream",
     "text": [
      "step: 3800\n",
      "NDCG@100 | train: 0.24649418515104377, test: 0.2530445473064537\n"
     ]
    },
    {
     "name": "stderr",
     "output_type": "stream",
     "text": [
      " 78%|███████████████████████████████████████████████████████████▉                 | 3895/5000 [00:30<00:08, 128.00it/s]"
     ]
    },
    {
     "name": "stdout",
     "output_type": "stream",
     "text": [
      "step: 3900\n",
      "NDCG@100 | train: 0.023221962250920394, test: 0.12541794315486912\n"
     ]
    },
    {
     "name": "stderr",
     "output_type": "stream",
     "text": [
      " 80%|█████████████████████████████████████████████████████████████▍               | 3988/5000 [00:31<00:07, 127.49it/s]"
     ]
    },
    {
     "name": "stdout",
     "output_type": "stream",
     "text": [
      "step: 4000\n",
      "NDCG@100 | train: 0.29767236817441534, test: 0.3325218769487658\n"
     ]
    },
    {
     "name": "stderr",
     "output_type": "stream",
     "text": [
      " 82%|███████████████████████████████████████████████████████████████              | 4095/5000 [00:32<00:07, 127.67it/s]"
     ]
    },
    {
     "name": "stdout",
     "output_type": "stream",
     "text": [
      "step: 4100\n",
      "NDCG@100 | train: 0.2067843407732887, test: 0.23995510885662186\n"
     ]
    },
    {
     "name": "stderr",
     "output_type": "stream",
     "text": [
      " 84%|████████████████████████████████████████████████████████████████▋            | 4198/5000 [00:32<00:06, 127.80it/s]"
     ]
    },
    {
     "name": "stdout",
     "output_type": "stream",
     "text": [
      "step: 4200\n",
      "NDCG@100 | train: 0.2817340312200421, test: 0.3103084217299499\n"
     ]
    },
    {
     "name": "stderr",
     "output_type": "stream",
     "text": [
      " 86%|██████████████████████████████████████████████████████████████████▏          | 4299/5000 [00:33<00:05, 127.74it/s]"
     ]
    },
    {
     "name": "stdout",
     "output_type": "stream",
     "text": [
      "step: 4300\n",
      "NDCG@100 | train: 0.26110544549587156, test: 0.30214587298134377\n"
     ]
    },
    {
     "name": "stderr",
     "output_type": "stream",
     "text": [
      " 88%|███████████████████████████████████████████████████████████████████▌         | 4386/5000 [00:34<00:04, 127.64it/s]"
     ]
    },
    {
     "name": "stdout",
     "output_type": "stream",
     "text": [
      "step: 4400\n",
      "NDCG@100 | train: 0.2837803694167817, test: 0.3004920512022118\n"
     ]
    },
    {
     "name": "stderr",
     "output_type": "stream",
     "text": [
      " 90%|█████████████████████████████████████████████████████████████████████▏       | 4494/5000 [00:35<00:03, 127.86it/s]"
     ]
    },
    {
     "name": "stdout",
     "output_type": "stream",
     "text": [
      "step: 4500\n",
      "NDCG@100 | train: 0.1572578556819741, test: 0.22230695422306726\n"
     ]
    },
    {
     "name": "stderr",
     "output_type": "stream",
     "text": [
      " 92%|██████████████████████████████████████████████████████████████████████▋      | 4588/5000 [00:35<00:03, 127.47it/s]"
     ]
    },
    {
     "name": "stdout",
     "output_type": "stream",
     "text": [
      "step: 4600\n",
      "NDCG@100 | train: 0.2897765420796902, test: 0.2927936465550284\n"
     ]
    },
    {
     "name": "stderr",
     "output_type": "stream",
     "text": [
      " 94%|████████████████████████████████████████████████████████████████████████▏    | 4688/5000 [00:36<00:02, 127.28it/s]"
     ]
    },
    {
     "name": "stdout",
     "output_type": "stream",
     "text": [
      "step: 4700\n",
      "NDCG@100 | train: 0.27522400989309675, test: 0.293651844950127\n"
     ]
    },
    {
     "name": "stderr",
     "output_type": "stream",
     "text": [
      " 96%|█████████████████████████████████████████████████████████████████████████▊   | 4797/5000 [00:37<00:01, 127.45it/s]"
     ]
    },
    {
     "name": "stdout",
     "output_type": "stream",
     "text": [
      "step: 4800\n",
      "NDCG@100 | train: 0.27571442420936315, test: 0.2777803268534456\n"
     ]
    },
    {
     "name": "stderr",
     "output_type": "stream",
     "text": [
      " 98%|███████████████████████████████████████████████████████████████████████████▎ | 4887/5000 [00:38<00:00, 127.53it/s]"
     ]
    },
    {
     "name": "stdout",
     "output_type": "stream",
     "text": [
      "step: 4900\n",
      "NDCG@100 | train: 0.03949830791630703, test: 0.05203737949740851\n"
     ]
    },
    {
     "name": "stderr",
     "output_type": "stream",
     "text": [
      "100%|████████████████████████████████████████████████████████████████████████████▊| 4991/5000 [00:39<00:00, 127.66it/s]"
     ]
    },
    {
     "name": "stdout",
     "output_type": "stream",
     "text": [
      "step: 5000\n",
      "NDCG@100 | train: 0.2037654594049832, test: 0.18695026645892066\n"
     ]
    },
    {
     "name": "stderr",
     "output_type": "stream",
     "text": [
      "100%|█████████████████████████████████████████████████████████████████████████████| 5000/5000 [00:39<00:00, 127.20it/s]\n"
     ]
    },
    {
     "name": "stdout",
     "output_type": "stream",
     "text": [
      "save the model\n",
      "save the optimizer\n"
     ]
    },
    {
     "data": {
      "image/png": "[encoded data removed]",
      "text/plain": [
       "<matplotlib.figure.Figure at 0x1a6a036aa90>"
      ]
     },
     "metadata": {},
     "output_type": "display_data"
    }
   ],
   "source": [
    "# %%capture\n",
    "for mn in rk_models: # ['listnet']: # \n",
    "    args = {}\n",
    "    if mn == 'ranknet':\n",
    "        args = {} # {'batchsize':100, 'n_iter':5000, 'n_units1':512, 'n_units2':128, 'tv_ratio':0.95}\n",
    "    elif mn == 'listnet':\n",
    "        args = {'batchsize':100, 'n_epoch':1, 'n_units1':32, 'n_units2':16, 'tv_ratio':0.9}\n",
    "    rk_models[mn].fit(dummies['trn'].values, data_trn.Label, **args)\n",
    "\n",
    "# clear_output()"
   ]
  },
  {
   "cell_type": "code",
   "execution_count": 58,
   "metadata": {},
   "outputs": [
    {
     "data": {
      "text/plain": [
       "'binary'"
      ]
     },
     "execution_count": 58,
     "metadata": {},
     "output_type": "execute_result"
    }
   ],
   "source": [
    "from sklearn.utils.multiclass import type_of_target\n",
    "x = [[0],\n",
    " [0],\n",
    " [0],\n",
    " [1],\n",
    " [1],\n",
    " [1]]\n",
    "type_of_target(x)"
   ]
  },
  {
   "cell_type": "code",
   "execution_count": 59,
   "metadata": {},
   "outputs": [],
   "source": [
    "for mn in my_models:\n",
    "    pair_ranker.fit(my_models[mn], mn)"
   ]
  },
  {
   "cell_type": "code",
   "execution_count": 60,
   "metadata": {},
   "outputs": [],
   "source": [
    "#Series(model_rf.feature_importances_, index=features_trn.columns).sort_values(ascending=False)"
   ]
  },
  {
   "cell_type": "code",
   "execution_count": 61,
   "metadata": {},
   "outputs": [],
   "source": [
    "sfn = fn.keys() # specify a subset of fn"
   ]
  },
  {
   "cell_type": "code",
   "execution_count": 62,
   "metadata": {},
   "outputs": [],
   "source": [
    "preds = {k:{mn:md.predict_proba(dummies[k]) for mn, md in models.items()} for k in sfn}"
   ]
  },
  {
   "cell_type": "code",
   "execution_count": 63,
   "metadata": {},
   "outputs": [],
   "source": [
    "rk_preds = {k:{mn:md.predict(dummies[k].values) for mn, md in rk_models.items()} for k in sfn}"
   ]
  },
  {
   "cell_type": "code",
   "execution_count": 64,
   "metadata": {},
   "outputs": [],
   "source": [
    "my_preds = {k:{mn:pair_ranker.predict(data[k]['QuestionID'], dummies[k], mn) for mn in my_models} for k in sfn}"
   ]
  },
  {
   "cell_type": "code",
   "execution_count": 65,
   "metadata": {},
   "outputs": [],
   "source": [
    "ranks = {k:deepcopy(dummies[k]) for k in fn}\n",
    "dummy_rank_features = {k:deepcopy(dummies[k]) for k in fn}\n",
    "rank_trn, rank_dev, rank_test = ranks['trn'], ranks['dev'], ranks['test']\n",
    "all_tps = tps + tps_wgt + tps_wv + tps_wv_wgt + list(models.keys()) + list(rk_models.keys()) + list(my_models.keys())\n",
    "for k in sfn:\n",
    "    rk = ranks[k]\n",
    "    for col in ['QuestionID', 'SentenceID']:\n",
    "        rk[col] = data[k][col]\n",
    "    if k != 'test':\n",
    "        rk['Label'] = data[k]['Label']\n",
    "    for mn in models:\n",
    "        rk[mn] = preds[k][mn][:, 1] # larger is better\n",
    "    for mn in rk_models:\n",
    "        rk[mn] = rk_preds[k][mn][:, 0]\n",
    "    for mn in my_models:\n",
    "        rk[mn] = my_preds[k][mn]\n",
    "    grp = rk.groupby('QuestionID')\n",
    "    for tp in all_tps:\n",
    "        col = 'rank_' + tp\n",
    "        rk[col] = grp[tp].rank(method='min', ascending=False).astype(int)  \n",
    "        rk.sort_values(['QuestionID', col], inplace=True)\n",
    "        # add one Strictly Increasing Monotonically vector to avoid same ranks\n",
    "        b = np.ones(rk.shape[0]).cumsum()\n",
    "        rk[col] += b\n",
    "        grp = rk.groupby('QuestionID')\n",
    "        rk[col] = grp[col].rank(method='min', ascending=True).astype(int)  \n",
    "        dummy_rank_features[k][col] = rk[col]"
   ]
  },
  {
   "cell_type": "code",
   "execution_count": 66,
   "metadata": {
    "scrolled": false
   },
   "outputs": [
    {
     "name": "stdout",
     "output_type": "stream",
     "text": [
      "dev\n",
      "\t words                [ 0.66772  0.67436  0.66772  0.67436]\n",
      "\t stems                [ 0.66973  0.67913  0.66973  0.67913]\n",
      "\t words_not_stop       [ 0.66973  0.67913  0.66973  0.67913]\n",
      "\t stems_not_stop       [ 0.67604  0.6848   0.67604  0.6848 ]\n",
      "\t lemma                [ 0.67396  0.68272  0.67396  0.68272]\n",
      "\t lemma_not_stop       [ 0.67396  0.68272  0.67396  0.68272]\n",
      "\t words_wgt            [ 0.65171  0.65746  0.65171  0.65746]\n",
      "\t stems_wgt            [ 0.68458  0.69342  0.68458  0.69342]\n",
      "\t words_not_stop_wgt   [ 0.68458  0.69342  0.68458  0.69342]\n",
      "\t stems_not_stop_wgt   [ 0.67908  0.68725  0.67908  0.68725]\n",
      "\t lemma_wgt            [ 0.68048  0.68905  0.68048  0.68905]\n",
      "\t lemma_not_stop_wgt   [ 0.68048  0.68905  0.68048  0.68905]\n",
      "\t words_wv             [ 0.58868  0.58786  0.58868  0.58786]\n",
      "\t stems_wv             [ 0.59006  0.59082  0.59006  0.59082]\n",
      "\t words_not_stop_wv    [ 0.59006  0.59082  0.59006  0.59082]\n",
      "\t stems_not_stop_wv    [ 0.55255  0.55688  0.55255  0.55688]\n",
      "\t lemma_wv             [ 0.58425  0.58266  0.58425  0.58266]\n",
      "\t lemma_not_stop_wv    [ 0.58425  0.58266  0.58425  0.58266]\n",
      "\t words_wv_wgt         [ 0.59746  0.59821  0.59746  0.59821]\n",
      "\t stems_wv_wgt         [ 0.56289  0.56994  0.56289  0.56994]\n",
      "\t words_not_stop_wv_wgt [ 0.56289  0.56994  0.56289  0.56994]\n",
      "\t stems_not_stop_wv_wgt [ 0.56793  0.57271  0.56793  0.57271]\n",
      "\t lemma_wv_wgt         [ 0.60362  0.60949  0.60362  0.60949]\n",
      "\t lemma_not_stop_wv_wgt [ 0.60362  0.60949  0.60362  0.60949]\n",
      "\t lr_l1                [ 0.66148  0.66705  0.66148  0.66705]\n",
      "\t rf                   [ 0.66873  0.67206  0.66873  0.67206]\n",
      "\t lr_l2                [ 0.66136  0.66678  0.66136  0.66678]\n",
      "\t ranknet              [ 0.57535  0.58502  0.57535  0.58502]\n"
     ]
    }
   ],
   "source": [
    "for k in sfn:\n",
    "    if k in ['test', 'trn']:\n",
    "        continue\n",
    "    print(k)\n",
    "    rk = ranks[k]\n",
    "    for tp in all_tps:\n",
    "        col = 'rank_' + tp\n",
    "        rk.sort_values(['QuestionID', col], inplace=True)\n",
    "        grp = rk.Label.groupby(rk.QuestionID)\n",
    "        print('\\t', '{: <20}'.format(tp), np.round([MAP(grp), MRR(grp), MAP(grp, keep_no_ans=False), MRR(grp, keep_no_ans=False)], 5))"
   ]
  },
  {
   "cell_type": "code",
   "execution_count": 67,
   "metadata": {
    "scrolled": false
   },
   "outputs": [],
   "source": [
    "# #res = collections.defaultdict(dict)\n",
    "# print sfn, '\\n'\n",
    "# print ' ' * 15, '{: >15}\\t{: >15}'.format('MAP', 'MRR') \n",
    "# for tp in tps + tps_wgt + models.keys() + rk_models.keys() + my_models.keys(): # ['rf']: #\n",
    "#     print '{: >20}'.format(tp), \n",
    "#     for k in sfn:\n",
    "#         if k in ['test', 'trn']:\n",
    "#             continue\n",
    "#         col = 'rank_' + tp\n",
    "#         ranks[k][['QuestionID', 'SentenceID', col]].sort_values(['QuestionID', col]).to_csv('rank.txt', sep='\\t', header=False, index=False)\n",
    "#         out = commands.getoutput('python eval.py rank.txt %s' % fn[k])\n",
    "#         m = re.search('MAP: ([.0-9]+)\\nMRR ([.0-9]+)', out)\n",
    "#         print '\\t%f\\t%f' % (float(m.group(1)), float(m.group(2))),' ',\n",
    "#     print ''"
   ]
  },
  {
   "cell_type": "code",
   "execution_count": null,
   "metadata": {},
   "outputs": [],
   "source": []
  },
  {
   "cell_type": "code",
   "execution_count": 68,
   "metadata": {},
   "outputs": [],
   "source": [
    "def rank_and_evaluate(y, k):\n",
    "    '''\n",
    "    if k is 'test', then this func will only rank, not evaluate \n",
    "    '''\n",
    "    d = DataFrame({}, data[k].index)\n",
    "    d['y'] = y\n",
    "    cols = ['QuestionID', 'SentenceID']\n",
    "    if k != 'test':\n",
    "        cols.append('Label')\n",
    "    for col in cols:\n",
    "        d[col] = data[k][col]\n",
    "    \n",
    "    \n",
    "    grp = d.groupby('QuestionID')\n",
    "    d['rank'] = grp['y'].rank(method='min', ascending=False).astype(int)    \n",
    "    \n",
    "    d.sort_values(['QuestionID', 'rank'], inplace=True)\n",
    "    res = dict()\n",
    "    res['rank_df'] = d\n",
    "    if k == 'test':\n",
    "        return res\n",
    "    grp = d.Label.groupby(d.QuestionID)\n",
    "    res['my_MAP'] = MAP(grp, keep_no_ans=False)\n",
    "    res['my_MRR'] = MRR(grp, keep_no_ans=False)\n",
    "    d[['QuestionID', 'SentenceID', 'rank']].sort_values(['QuestionID', 'rank']).to_csv('rank.txt', sep='\\t', header=False, index=False)\n",
    "    out = subprocess.getoutput('python eval.py rank.txt %s' % fn[k])\n",
    "    m = re.search('MAP: ([.0-9]+)\\nMRR ([.0-9]+)', out)\n",
    "    res['MAP'] = float(m.group(1))\n",
    "    res['MRR'] = float(m.group(2))\n",
    "    return res    \n",
    "\n",
    "def save_final_rank(df, dst_fn='final_rank.txt', rank_col='rank', \n",
    "                    save_cols=['QuestionID', 'SentenceID', 'rank'], sort_by_cols=['QuestionID', 'rank'], re_rank=False):\n",
    "    if re_rank:\n",
    "        col = rank_col\n",
    "        df.sort_values(['QuestionID', col], inplace=True)\n",
    "        # add one Strictly Increasing Monotonically vector to avoid same ranks\n",
    "        b = np.ones(df.shape[0]).cumsum()\n",
    "        df[col] += b\n",
    "        grp = df.groupby('QuestionID')\n",
    "        df[col] = grp[col].rank(method='min', ascending=True).astype(int)  \n",
    "    df[save_cols].sort_values(sort_by_cols).to_csv(dst_fn, sep='\\t', header=False, index=False)    \n",
    "\n",
    "def resample(rt, Xs, Y):\n",
    "    if rt == None or rt == 0:\n",
    "        return Xs, Y\n",
    "    n = Y.shape[0]\n",
    "    n1 = Y.sum()\n",
    "    n0 = n - n1\n",
    "    cls_idx = np.arange(n)\n",
    "    pos_cls_idx = cls_idx[Y==1]\n",
    "    neg_cls_idx = cls_idx[Y==0]\n",
    "    pos_sample = np.random.choice(pos_cls_idx, size=int(n0 / float(rt)) - n1, )\n",
    "    new_cls_idx = np.concatenate([neg_cls_idx, pos_cls_idx, pos_sample])\n",
    "    np.random.shuffle(new_cls_idx)\n",
    "    print(n0, n1, n, int(n0 / float(rt)) - n1, new_cls_idx.shape)\n",
    "    new_Y = Y[new_cls_idx]\n",
    "    new_Xs = [X[new_cls_idx] for X in Xs]\n",
    "    return new_Xs, new_Y\n"
   ]
  },
  {
   "cell_type": "markdown",
   "metadata": {},
   "source": []
  },
  {
   "cell_type": "code",
   "execution_count": 69,
   "metadata": {},
   "outputs": [],
   "source": [
    "#ques_len.hist()"
   ]
  },
  {
   "cell_type": "code",
   "execution_count": 70,
   "metadata": {},
   "outputs": [],
   "source": [
    "#sent_len.hist()\n",
    "#sent_len[sent_len<200].hist()"
   ]
  },
  {
   "cell_type": "code",
   "execution_count": 71,
   "metadata": {},
   "outputs": [],
   "source": [
    "from keras.preprocessing.sequence import pad_sequences\n",
    "sent_pad = dict(zip(sent_seq.keys(), pad_sequences(sent_seq.values(), maxlen=MAX_SENT_SEQUENCE_LENGTH, padding='post', truncating='post')))\n",
    "ques_pad = dict(zip(ques_seq.keys(), pad_sequences(ques_seq.values(), maxlen=MAX_QUES_SEQUENCE_LENGTH, padding='post', truncating='post')))\n",
    "ques_as_sent_pad = dict(zip(ques_seq.keys(), pad_sequences(ques_seq.values(), maxlen=MAX_SENT_SEQUENCE_LENGTH, padding='post', truncating='post')))"
   ]
  },
  {
   "cell_type": "code",
   "execution_count": 72,
   "metadata": {},
   "outputs": [],
   "source": [
    "sent_pad_df = DataFrame(list(sent_pad.values()), index=sent_pad.keys())"
   ]
  },
  {
   "cell_type": "code",
   "execution_count": 73,
   "metadata": {},
   "outputs": [],
   "source": [
    "ques_pad_df = DataFrame(list(ques_pad.values()), index=ques_pad.keys())"
   ]
  },
  {
   "cell_type": "code",
   "execution_count": 74,
   "metadata": {},
   "outputs": [],
   "source": [
    "ques_as_sent_pad_df = DataFrame(list(ques_as_sent_pad.values()), index=ques_as_sent_pad.keys())"
   ]
  },
  {
   "cell_type": "code",
   "execution_count": 75,
   "metadata": {},
   "outputs": [],
   "source": [
    "paddata = collections.defaultdict(dict)\n",
    "for k in fn:\n",
    "    paddata[k] = {'ques':ques_pad_df.loc[data[k]['QuestionID']], \n",
    "                  'ques_as_sent':ques_as_sent_pad_df.loc[data[k]['QuestionID']],\n",
    "                  'sent':sent_pad_df.loc[data[k]['QAID']]}"
   ]
  },
  {
   "cell_type": "code",
   "execution_count": 76,
   "metadata": {},
   "outputs": [],
   "source": [
    "num_output_class = 1"
   ]
  },
  {
   "cell_type": "code",
   "execution_count": 77,
   "metadata": {},
   "outputs": [],
   "source": [
    "label = {}\n",
    "for k in sfn:\n",
    "    if k == 'test':\n",
    "        continue\n",
    "    tmp = data[k]['Label'].values\n",
    "    if num_output_class == 1:\n",
    "        label[k] = tmp\n",
    "    elif num_output_class == 2:\n",
    "        label[k] = np.array([1 - tmp, tmp]).T"
   ]
  },
  {
   "cell_type": "code",
   "execution_count": null,
   "metadata": {},
   "outputs": [],
   "source": []
  },
  {
   "cell_type": "markdown",
   "metadata": {},
   "source": [
    "## adapted CNN"
   ]
  },
  {
   "cell_type": "code",
   "execution_count": 78,
   "metadata": {},
   "outputs": [],
   "source": [
    "use_add_features = True\n",
    "num_output_class = 1\n",
    "features_used = dummy_rank_features\n",
    "add_features_dim = features_used['trn'].shape[1] if use_add_features else None\n",
    "X, Y = {}, {}\n",
    "for k in sfn:\n",
    "    X[k] = [paddata[k]['ques'].values, paddata[k]['sent'].values]\n",
    "    if k != 'test':\n",
    "        Y[k] = label[k]\n",
    "    if use_add_features:\n",
    "        X[k].append(features_used[k].values)"
   ]
  },
  {
   "cell_type": "code",
   "execution_count": 79,
   "metadata": {},
   "outputs": [],
   "source": [
    "from MyCNN import *\n",
    "cnn = MyCNN(embedding_matrix, word_index, MAX_QUES_SEQUENCE_LENGTH, MAX_SENT_SEQUENCE_LENGTH, add_features_dim)"
   ]
  },
  {
   "cell_type": "code",
   "execution_count": 80,
   "metadata": {},
   "outputs": [
    {
     "name": "stderr",
     "output_type": "stream",
     "text": [
      "D:\\QA-rankit\\MyCNN.py:27: UserWarning: Update your `Conv1D` call to the Keras 2 API: `Conv1D(100, 5, padding=\"same\", activation=\"relu\")`\n",
      "  conv = Conv1D(num_filters, filter_size, border_mode='same', activation='relu')(embedded_sequences)\n",
      "D:\\QA-rankit\\MyCNN.py:50: UserWarning: The `merge` function is deprecated and will be removed after 08/2017. Use instead layers from `keras.layers.merge`, e.g. `add`, `concatenate`, etc.\n",
      "  merged = merge(merged_layer_list, mode='concat', concat_axis=1)\n",
      "c:\\python35\\lib\\site-packages\\keras\\legacy\\layers.py:458: UserWarning: The `Merge` layer is deprecated and will be removed after 08/2017. Use instead layers from `keras.layers.merge`, e.g. `add`, `concatenate`, etc.\n",
      "  name=name)\n",
      "D:\\QA-rankit\\MyCNN.py:56: UserWarning: Update your `Model` call to the Keras 2 API: `Model(outputs=Tensor(\"ma..., inputs=[<tf.Tenso...)`\n",
      "  model = Model(input=merged_input, output=output)\n"
     ]
    }
   ],
   "source": [
    "cnn.init_model(num_filters=100, filter_size=5, pool_length=2, \n",
    "               denses=[100], dropouts=[0], activations=['relu'],\n",
    "               num_output_class=num_output_class)"
   ]
  },
  {
   "cell_type": "code",
   "execution_count": 81,
   "metadata": {},
   "outputs": [
    {
     "name": "stderr",
     "output_type": "stream",
     "text": [
      "D:\\QA-rankit\\MyCNN.py:65: UserWarning: The `nb_epoch` argument in `fit` has been renamed `epochs`.\n",
      "  self.model.fit(X, Y, *args, **kwargs)\n"
     ]
    },
    {
     "name": "stdout",
     "output_type": "stream",
     "text": [
      "Train on 20360 samples, validate on 1130 samples\n",
      "Epoch 1/2\n",
      "18200/20360 [=========================>....] - ETA: 365s - loss: 1.7777 - acc: 0.120 - ETA: 129s - loss: 0.9628 - acc: 0.660 - ETA: 103s - loss: 0.7690 - acc: 0.735 - ETA: 87s - loss: 0.7253 - acc: 0.772 - ETA: 67s - loss: 0.6221 - acc: 0.81 - ETA: 62s - loss: 0.5484 - acc: 0.83 - ETA: 53s - loss: 0.5111 - acc: 0.85 - ETA: 47s - loss: 0.4583 - acc: 0.87 - ETA: 44s - loss: 0.4323 - acc: 0.87 - ETA: 40s - loss: 0.4099 - acc: 0.88 - ETA: 37s - loss: 0.3739 - acc: 0.89 - ETA: 34s - loss: 0.3514 - acc: 0.90 - ETA: 32s - loss: 0.3256 - acc: 0.91 - ETA: 30s - loss: 0.3189 - acc: 0.91 - ETA: 28s - loss: 0.3211 - acc: 0.91 - ETA: 27s - loss: 0.3109 - acc: 0.91 - ETA: 26s - loss: 0.3009 - acc: 0.92 - ETA: 25s - loss: 0.2924 - acc: 0.92 - ETA: 25s - loss: 0.2965 - acc: 0.92 - ETA: 25s - loss: 0.2924 - acc: 0.92 - ETA: 25s - loss: 0.2915 - acc: 0.92 - ETA: 25s - loss: 0.2865 - acc: 0.92 - ETA: 24s - loss: 0.2874 - acc: 0.92 - ETA: 24s - loss: 0.2822 - acc: 0.92 - ETA: 24s - loss: 0.2708 - acc: 0.92 - ETA: 23s - loss: 0.2668 - acc: 0.92 - ETA: 22s - loss: 0.2610 - acc: 0.92 - ETA: 22s - loss: 0.2606 - acc: 0.92 - ETA: 21s - loss: 0.2611 - acc: 0.92 - ETA: 21s - loss: 0.2562 - acc: 0.92 - ETA: 20s - loss: 0.2535 - acc: 0.93 - ETA: 20s - loss: 0.2491 - acc: 0.93 - ETA: 20s - loss: 0.2462 - acc: 0.93 - ETA: 20s - loss: 0.2487 - acc: 0.93 - ETA: 19s - loss: 0.2446 - acc: 0.93 - ETA: 19s - loss: 0.2421 - acc: 0.93 - ETA: 19s - loss: 0.2415 - acc: 0.93 - ETA: 18s - loss: 0.2397 - acc: 0.93 - ETA: 18s - loss: 0.2373 - acc: 0.93 - ETA: 18s - loss: 0.2356 - acc: 0.93 - ETA: 18s - loss: 0.2325 - acc: 0.93 - ETA: 17s - loss: 0.2379 - acc: 0.93 - ETA: 17s - loss: 0.2348 - acc: 0.93 - ETA: 17s - loss: 0.2334 - acc: 0.93 - ETA: 17s - loss: 0.2370 - acc: 0.93 - ETA: 16s - loss: 0.2367 - acc: 0.93 - ETA: 16s - loss: 0.2351 - acc: 0.93 - ETA: 16s - loss: 0.2354 - acc: 0.93 - ETA: 16s - loss: 0.2348 - acc: 0.93 - ETA: 16s - loss: 0.2323 - acc: 0.93 - ETA: 16s - loss: 0.2312 - acc: 0.93 - ETA: 16s - loss: 0.2315 - acc: 0.93 - ETA: 15s - loss: 0.2300 - acc: 0.93 - ETA: 15s - loss: 0.2299 - acc: 0.93 - ETA: 15s - loss: 0.2295 - acc: 0.93 - ETA: 15s - loss: 0.2289 - acc: 0.93 - ETA: 15s - loss: 0.2271 - acc: 0.93 - ETA: 15s - loss: 0.2270 - acc: 0.93 - ETA: 15s - loss: 0.2263 - acc: 0.93 - ETA: 15s - loss: 0.2236 - acc: 0.93 - ETA: 14s - loss: 0.2238 - acc: 0.93 - ETA: 14s - loss: 0.2260 - acc: 0.93 - ETA: 14s - loss: 0.2251 - acc: 0.93 - ETA: 14s - loss: 0.2249 - acc: 0.93 - ETA: 14s - loss: 0.2248 - acc: 0.93 - ETA: 14s - loss: 0.2243 - acc: 0.93 - ETA: 14s - loss: 0.2223 - acc: 0.93 - ETA: 14s - loss: 0.2220 - acc: 0.93 - ETA: 14s - loss: 0.2206 - acc: 0.93 - ETA: 14s - loss: 0.2198 - acc: 0.93 - ETA: 14s - loss: 0.2184 - acc: 0.93 - ETA: 13s - loss: 0.2177 - acc: 0.93 - ETA: 13s - loss: 0.2169 - acc: 0.93 - ETA: 13s - loss: 0.2153 - acc: 0.93 - ETA: 13s - loss: 0.2147 - acc: 0.93 - ETA: 13s - loss: 0.2140 - acc: 0.93 - ETA: 13s - loss: 0.2127 - acc: 0.94 - ETA: 13s - loss: 0.2150 - acc: 0.93 - ETA: 13s - loss: 0.2137 - acc: 0.94 - ETA: 13s - loss: 0.2148 - acc: 0.93 - ETA: 12s - loss: 0.2143 - acc: 0.93 - ETA: 12s - loss: 0.2140 - acc: 0.93 - ETA: 12s - loss: 0.2140 - acc: 0.94 - ETA: 12s - loss: 0.2125 - acc: 0.94 - ETA: 12s - loss: 0.2117 - acc: 0.94 - ETA: 12s - loss: 0.2114 - acc: 0.94 - ETA: 12s - loss: 0.2102 - acc: 0.94 - ETA: 12s - loss: 0.2093 - acc: 0.94 - ETA: 12s - loss: 0.2100 - acc: 0.94 - ETA: 12s - loss: 0.2092 - acc: 0.94 - ETA: 12s - loss: 0.2089 - acc: 0.94 - ETA: 12s - loss: 0.2086 - acc: 0.94 - ETA: 12s - loss: 0.2078 - acc: 0.94 - ETA: 12s - loss: 0.2076 - acc: 0.94 - ETA: 12s - loss: 0.2081 - acc: 0.94 - ETA: 11s - loss: 0.2075 - acc: 0.94 - ETA: 11s - loss: 0.2076 - acc: 0.94 - ETA: 11s - loss: 0.2073 - acc: 0.94 - ETA: 11s - loss: 0.2068 - acc: 0.94 - ETA: 11s - loss: 0.2072 - acc: 0.94 - ETA: 11s - loss: 0.2073 - acc: 0.94 - ETA: 11s - loss: 0.2071 - acc: 0.94 - ETA: 11s - loss: 0.2070 - acc: 0.94 - ETA: 11s - loss: 0.2072 - acc: 0.94 - ETA: 11s - loss: 0.2070 - acc: 0.94 - ETA: 10s - loss: 0.2074 - acc: 0.94 - ETA: 10s - loss: 0.2067 - acc: 0.94 - ETA: 10s - loss: 0.2082 - acc: 0.94 - ETA: 10s - loss: 0.2070 - acc: 0.94 - ETA: 10s - loss: 0.2072 - acc: 0.94 - ETA: 10s - loss: 0.2073 - acc: 0.94 - ETA: 10s - loss: 0.2066 - acc: 0.94 - ETA: 10s - loss: 0.2064 - acc: 0.94 - ETA: 10s - loss: 0.2059 - acc: 0.94 - ETA: 9s - loss: 0.2070 - acc: 0.9408 - ETA: 9s - loss: 0.2061 - acc: 0.941 - ETA: 9s - loss: 0.2058 - acc: 0.941 - ETA: 9s - loss: 0.2062 - acc: 0.941 - ETA: 9s - loss: 0.2062 - acc: 0.941 - ETA: 9s - loss: 0.2059 - acc: 0.941 - ETA: 9s - loss: 0.2056 - acc: 0.941 - ETA: 9s - loss: 0.2047 - acc: 0.941 - ETA: 9s - loss: 0.2049 - acc: 0.941 - ETA: 9s - loss: 0.2046 - acc: 0.941 - ETA: 9s - loss: 0.2043 - acc: 0.941 - ETA: 8s - loss: 0.2037 - acc: 0.941 - ETA: 8s - loss: 0.2031 - acc: 0.941 - ETA: 8s - loss: 0.2023 - acc: 0.942 - ETA: 8s - loss: 0.2021 - acc: 0.942 - ETA: 8s - loss: 0.2018 - acc: 0.942 - ETA: 8s - loss: 0.2011 - acc: 0.942 - ETA: 8s - loss: 0.2009 - acc: 0.942 - ETA: 8s - loss: 0.2011 - acc: 0.942 - ETA: 8s - loss: 0.2002 - acc: 0.942 - ETA: 7s - loss: 0.2005 - acc: 0.942 - ETA: 7s - loss: 0.2007 - acc: 0.942 - ETA: 7s - loss: 0.2007 - acc: 0.942 - ETA: 7s - loss: 0.2003 - acc: 0.942 - ETA: 7s - loss: 0.2000 - acc: 0.943 - ETA: 7s - loss: 0.1995 - acc: 0.943 - ETA: 7s - loss: 0.1995 - acc: 0.943 - ETA: 7s - loss: 0.2000 - acc: 0.943 - ETA: 7s - loss: 0.2001 - acc: 0.943 - ETA: 7s - loss: 0.2002 - acc: 0.942 - ETA: 7s - loss: 0.1999 - acc: 0.943 - ETA: 7s - loss: 0.1993 - acc: 0.943 - ETA: 7s - loss: 0.1988 - acc: 0.943 - ETA: 6s - loss: 0.1992 - acc: 0.943 - ETA: 6s - loss: 0.1989 - acc: 0.943 - ETA: 6s - loss: 0.1990 - acc: 0.943 - ETA: 6s - loss: 0.1986 - acc: 0.943 - ETA: 6s - loss: 0.1985 - acc: 0.943 - ETA: 6s - loss: 0.1989 - acc: 0.943 - ETA: 6s - loss: 0.1991 - acc: 0.943 - ETA: 6s - loss: 0.1989 - acc: 0.943 - ETA: 6s - loss: 0.1979 - acc: 0.943 - ETA: 6s - loss: 0.1978 - acc: 0.943 - ETA: 6s - loss: 0.1977 - acc: 0.943 - ETA: 5s - loss: 0.1970 - acc: 0.944 - ETA: 5s - loss: 0.1966 - acc: 0.944 - ETA: 5s - loss: 0.1969 - acc: 0.943 - ETA: 5s - loss: 0.1970 - acc: 0.943 - ETA: 5s - loss: 0.1963 - acc: 0.944 - ETA: 5s - loss: 0.1966 - acc: 0.944 - ETA: 5s - loss: 0.1960 - acc: 0.944 - ETA: 5s - loss: 0.1961 - acc: 0.944 - ETA: 5s - loss: 0.1956 - acc: 0.944 - ETA: 5s - loss: 0.1950 - acc: 0.944 - ETA: 5s - loss: 0.1941 - acc: 0.944 - ETA: 5s - loss: 0.1943 - acc: 0.944 - ETA: 4s - loss: 0.1938 - acc: 0.945 - ETA: 4s - loss: 0.1936 - acc: 0.945 - ETA: 4s - loss: 0.1934 - acc: 0.945 - ETA: 4s - loss: 0.1929 - acc: 0.945 - ETA: 4s - loss: 0.1924 - acc: 0.945 - ETA: 4s - loss: 0.1925 - acc: 0.945 - ETA: 4s - loss: 0.1923 - acc: 0.945 - ETA: 4s - loss: 0.1930 - acc: 0.945 - ETA: 4s - loss: 0.1927 - acc: 0.945 - ETA: 4s - loss: 0.1928 - acc: 0.945 - ETA: 4s - loss: 0.1931 - acc: 0.945 - ETA: 4s - loss: 0.1929 - acc: 0.945 - ETA: 4s - loss: 0.1929 - acc: 0.945 - ETA: 3s - loss: 0.1925 - acc: 0.945 - ETA: 3s - loss: 0.1925 - acc: 0.945 - ETA: 3s - loss: 0.1929 - acc: 0.945 - ETA: 3s - loss: 0.1925 - acc: 0.945 - ETA: 3s - loss: 0.1921 - acc: 0.945 - ETA: 3s - loss: 0.1922 - acc: 0.945 - ETA: 3s - loss: 0.1921 - acc: 0.945 - ETA: 3s - loss: 0.1920 - acc: 0.945 - ETA: 3s - loss: 0.1917 - acc: 0.945 - ETA: 3s - loss: 0.1920 - acc: 0.945 - ETA: 3s - loss: 0.1915 - acc: 0.945 - ETA: 3s - loss: 0.1911 - acc: 0.945 - ETA: 3s - loss: 0.1914 - acc: 0.945 - ETA: 3s - loss: 0.1915 - acc: 0.945 - ETA: 3s - loss: 0.1920 - acc: 0.945 - ETA: 2s - loss: 0.1915 - acc: 0.945 - ETA: 2s - loss: 0.1914 - acc: 0.945 - ETA: 2s - loss: 0.1913 - acc: 0.945 - ETA: 2s - loss: 0.1910 - acc: 0.945 - ETA: 2s - loss: 0.1909 - acc: 0.945 - ETA: 2s - loss: 0.1906 - acc: 0.945 - ETA: 2s - loss: 0.1910 - acc: 0.945 - ETA: 2s - loss: 0.1907 - acc: 0.945 - ETA: 2s - loss: 0.1910 - acc: 0.945 - ETA: 2s - loss: 0.1918 - acc: 0.945 - ETA: 2s - loss: 0.1918 - acc: 0.945 - ETA: 2s - loss: 0.1919 - acc: 0.945 - ETA: 2s - loss: 0.1916 - acc: 0.945 - ETA: 2s - loss: 0.1913 - acc: 0.945 - ETA: 1s - loss: 0.1908 - acc: 0.94520360/20360 [==============================] - ETA: 1s - loss: 0.1909 - acc: 0.945 - ETA: 1s - loss: 0.1908 - acc: 0.945 - ETA: 1s - loss: 0.1907 - acc: 0.945 - ETA: 1s - loss: 0.1902 - acc: 0.945 - ETA: 1s - loss: 0.1898 - acc: 0.946 - ETA: 1s - loss: 0.1894 - acc: 0.946 - ETA: 1s - loss: 0.1891 - acc: 0.946 - ETA: 1s - loss: 0.1888 - acc: 0.946 - ETA: 1s - loss: 0.1889 - acc: 0.946 - ETA: 1s - loss: 0.1887 - acc: 0.946 - ETA: 1s - loss: 0.1884 - acc: 0.946 - ETA: 1s - loss: 0.1887 - acc: 0.946 - ETA: 1s - loss: 0.1883 - acc: 0.946 - ETA: 1s - loss: 0.1880 - acc: 0.946 - ETA: 0s - loss: 0.1874 - acc: 0.946 - ETA: 0s - loss: 0.1875 - acc: 0.946 - ETA: 0s - loss: 0.1875 - acc: 0.946 - ETA: 0s - loss: 0.1875 - acc: 0.946 - ETA: 0s - loss: 0.1873 - acc: 0.946 - ETA: 0s - loss: 0.1875 - acc: 0.946 - ETA: 0s - loss: 0.1876 - acc: 0.946 - ETA: 0s - loss: 0.1881 - acc: 0.946 - ETA: 0s - loss: 0.1884 - acc: 0.946 - ETA: 0s - loss: 0.1883 - acc: 0.946 - ETA: 0s - loss: 0.1879 - acc: 0.946 - 18s - loss: 0.1878 - acc: 0.9465 - val_loss: 0.3253 - val_acc: 0.8770\n",
      "Epoch 2/2\n"
     ]
    },
    {
     "name": "stdout",
     "output_type": "stream",
     "text": [
      "18450/20360 [==========================>...] - ETA: 12s - loss: 0.0477 - acc: 1.00 - ETA: 13s - loss: 0.1190 - acc: 0.97 - ETA: 13s - loss: 0.1450 - acc: 0.95 - ETA: 13s - loss: 0.1447 - acc: 0.95 - ETA: 13s - loss: 0.1441 - acc: 0.95 - ETA: 13s - loss: 0.1669 - acc: 0.95 - ETA: 13s - loss: 0.1667 - acc: 0.95 - ETA: 14s - loss: 0.1757 - acc: 0.94 - ETA: 14s - loss: 0.1790 - acc: 0.94 - ETA: 14s - loss: 0.1732 - acc: 0.94 - ETA: 14s - loss: 0.1673 - acc: 0.94 - ETA: 14s - loss: 0.1715 - acc: 0.94 - ETA: 14s - loss: 0.1780 - acc: 0.94 - ETA: 14s - loss: 0.1758 - acc: 0.94 - ETA: 14s - loss: 0.1727 - acc: 0.94 - ETA: 14s - loss: 0.1732 - acc: 0.94 - ETA: 15s - loss: 0.1722 - acc: 0.94 - ETA: 15s - loss: 0.1705 - acc: 0.94 - ETA: 15s - loss: 0.1699 - acc: 0.94 - ETA: 15s - loss: 0.1738 - acc: 0.94 - ETA: 14s - loss: 0.1748 - acc: 0.94 - ETA: 14s - loss: 0.1702 - acc: 0.94 - ETA: 14s - loss: 0.1708 - acc: 0.94 - ETA: 14s - loss: 0.1675 - acc: 0.95 - ETA: 14s - loss: 0.1662 - acc: 0.95 - ETA: 14s - loss: 0.1623 - acc: 0.95 - ETA: 14s - loss: 0.1606 - acc: 0.95 - ETA: 14s - loss: 0.1610 - acc: 0.95 - ETA: 14s - loss: 0.1592 - acc: 0.95 - ETA: 14s - loss: 0.1587 - acc: 0.95 - ETA: 14s - loss: 0.1619 - acc: 0.95 - ETA: 14s - loss: 0.1599 - acc: 0.95 - ETA: 14s - loss: 0.1585 - acc: 0.95 - ETA: 14s - loss: 0.1609 - acc: 0.95 - ETA: 14s - loss: 0.1619 - acc: 0.95 - ETA: 13s - loss: 0.1620 - acc: 0.95 - ETA: 13s - loss: 0.1606 - acc: 0.95 - ETA: 13s - loss: 0.1608 - acc: 0.95 - ETA: 13s - loss: 0.1609 - acc: 0.95 - ETA: 13s - loss: 0.1628 - acc: 0.95 - ETA: 13s - loss: 0.1637 - acc: 0.95 - ETA: 13s - loss: 0.1626 - acc: 0.95 - ETA: 12s - loss: 0.1610 - acc: 0.95 - ETA: 12s - loss: 0.1609 - acc: 0.95 - ETA: 12s - loss: 0.1613 - acc: 0.95 - ETA: 12s - loss: 0.1617 - acc: 0.95 - ETA: 13s - loss: 0.1608 - acc: 0.95 - ETA: 13s - loss: 0.1596 - acc: 0.95 - ETA: 12s - loss: 0.1616 - acc: 0.95 - ETA: 12s - loss: 0.1606 - acc: 0.95 - ETA: 12s - loss: 0.1620 - acc: 0.95 - ETA: 12s - loss: 0.1638 - acc: 0.95 - ETA: 12s - loss: 0.1645 - acc: 0.95 - ETA: 12s - loss: 0.1658 - acc: 0.95 - ETA: 12s - loss: 0.1647 - acc: 0.95 - ETA: 12s - loss: 0.1628 - acc: 0.95 - ETA: 12s - loss: 0.1639 - acc: 0.95 - ETA: 12s - loss: 0.1643 - acc: 0.95 - ETA: 12s - loss: 0.1651 - acc: 0.94 - ETA: 12s - loss: 0.1659 - acc: 0.94 - ETA: 12s - loss: 0.1672 - acc: 0.94 - ETA: 12s - loss: 0.1700 - acc: 0.94 - ETA: 12s - loss: 0.1693 - acc: 0.94 - ETA: 12s - loss: 0.1693 - acc: 0.94 - ETA: 12s - loss: 0.1685 - acc: 0.94 - ETA: 11s - loss: 0.1681 - acc: 0.94 - ETA: 11s - loss: 0.1688 - acc: 0.94 - ETA: 11s - loss: 0.1695 - acc: 0.94 - ETA: 11s - loss: 0.1686 - acc: 0.94 - ETA: 11s - loss: 0.1685 - acc: 0.94 - ETA: 11s - loss: 0.1679 - acc: 0.94 - ETA: 11s - loss: 0.1691 - acc: 0.94 - ETA: 11s - loss: 0.1691 - acc: 0.94 - ETA: 11s - loss: 0.1690 - acc: 0.94 - ETA: 11s - loss: 0.1692 - acc: 0.94 - ETA: 11s - loss: 0.1684 - acc: 0.94 - ETA: 11s - loss: 0.1683 - acc: 0.94 - ETA: 11s - loss: 0.1675 - acc: 0.94 - ETA: 11s - loss: 0.1657 - acc: 0.95 - ETA: 11s - loss: 0.1646 - acc: 0.95 - ETA: 11s - loss: 0.1651 - acc: 0.95 - ETA: 10s - loss: 0.1670 - acc: 0.94 - ETA: 10s - loss: 0.1671 - acc: 0.94 - ETA: 10s - loss: 0.1664 - acc: 0.95 - ETA: 10s - loss: 0.1660 - acc: 0.95 - ETA: 10s - loss: 0.1675 - acc: 0.94 - ETA: 10s - loss: 0.1679 - acc: 0.94 - ETA: 10s - loss: 0.1685 - acc: 0.94 - ETA: 10s - loss: 0.1695 - acc: 0.94 - ETA: 10s - loss: 0.1688 - acc: 0.94 - ETA: 10s - loss: 0.1685 - acc: 0.94 - ETA: 10s - loss: 0.1688 - acc: 0.94 - ETA: 10s - loss: 0.1691 - acc: 0.94 - ETA: 10s - loss: 0.1688 - acc: 0.94 - ETA: 10s - loss: 0.1695 - acc: 0.94 - ETA: 10s - loss: 0.1697 - acc: 0.94 - ETA: 10s - loss: 0.1703 - acc: 0.94 - ETA: 10s - loss: 0.1700 - acc: 0.94 - ETA: 10s - loss: 0.1698 - acc: 0.94 - ETA: 10s - loss: 0.1691 - acc: 0.94 - ETA: 10s - loss: 0.1695 - acc: 0.94 - ETA: 9s - loss: 0.1708 - acc: 0.9490 - ETA: 9s - loss: 0.1706 - acc: 0.948 - ETA: 9s - loss: 0.1713 - acc: 0.948 - ETA: 9s - loss: 0.1722 - acc: 0.948 - ETA: 9s - loss: 0.1719 - acc: 0.948 - ETA: 9s - loss: 0.1722 - acc: 0.948 - ETA: 9s - loss: 0.1720 - acc: 0.948 - ETA: 9s - loss: 0.1731 - acc: 0.948 - ETA: 9s - loss: 0.1734 - acc: 0.948 - ETA: 9s - loss: 0.1730 - acc: 0.948 - ETA: 9s - loss: 0.1726 - acc: 0.948 - ETA: 9s - loss: 0.1724 - acc: 0.949 - ETA: 9s - loss: 0.1726 - acc: 0.949 - ETA: 8s - loss: 0.1726 - acc: 0.948 - ETA: 8s - loss: 0.1726 - acc: 0.948 - ETA: 8s - loss: 0.1722 - acc: 0.948 - ETA: 8s - loss: 0.1734 - acc: 0.948 - ETA: 8s - loss: 0.1736 - acc: 0.948 - ETA: 8s - loss: 0.1728 - acc: 0.948 - ETA: 8s - loss: 0.1732 - acc: 0.948 - ETA: 8s - loss: 0.1738 - acc: 0.948 - ETA: 8s - loss: 0.1731 - acc: 0.948 - ETA: 8s - loss: 0.1726 - acc: 0.949 - ETA: 8s - loss: 0.1725 - acc: 0.949 - ETA: 8s - loss: 0.1722 - acc: 0.949 - ETA: 7s - loss: 0.1722 - acc: 0.949 - ETA: 7s - loss: 0.1726 - acc: 0.949 - ETA: 7s - loss: 0.1733 - acc: 0.948 - ETA: 7s - loss: 0.1731 - acc: 0.949 - ETA: 7s - loss: 0.1725 - acc: 0.949 - ETA: 7s - loss: 0.1730 - acc: 0.949 - ETA: 7s - loss: 0.1730 - acc: 0.949 - ETA: 7s - loss: 0.1725 - acc: 0.949 - ETA: 7s - loss: 0.1727 - acc: 0.949 - ETA: 7s - loss: 0.1725 - acc: 0.949 - ETA: 7s - loss: 0.1728 - acc: 0.949 - ETA: 6s - loss: 0.1726 - acc: 0.949 - ETA: 6s - loss: 0.1725 - acc: 0.949 - ETA: 6s - loss: 0.1722 - acc: 0.949 - ETA: 6s - loss: 0.1716 - acc: 0.949 - ETA: 6s - loss: 0.1715 - acc: 0.949 - ETA: 6s - loss: 0.1722 - acc: 0.949 - ETA: 6s - loss: 0.1724 - acc: 0.949 - ETA: 6s - loss: 0.1725 - acc: 0.949 - ETA: 6s - loss: 0.1730 - acc: 0.949 - ETA: 6s - loss: 0.1731 - acc: 0.949 - ETA: 6s - loss: 0.1733 - acc: 0.949 - ETA: 6s - loss: 0.1734 - acc: 0.949 - ETA: 6s - loss: 0.1734 - acc: 0.949 - ETA: 5s - loss: 0.1739 - acc: 0.948 - ETA: 5s - loss: 0.1740 - acc: 0.948 - ETA: 5s - loss: 0.1746 - acc: 0.948 - ETA: 5s - loss: 0.1747 - acc: 0.948 - ETA: 5s - loss: 0.1749 - acc: 0.948 - ETA: 5s - loss: 0.1749 - acc: 0.948 - ETA: 5s - loss: 0.1752 - acc: 0.948 - ETA: 5s - loss: 0.1748 - acc: 0.948 - ETA: 5s - loss: 0.1750 - acc: 0.948 - ETA: 5s - loss: 0.1741 - acc: 0.948 - ETA: 5s - loss: 0.1739 - acc: 0.948 - ETA: 5s - loss: 0.1740 - acc: 0.948 - ETA: 5s - loss: 0.1738 - acc: 0.948 - ETA: 5s - loss: 0.1739 - acc: 0.948 - ETA: 4s - loss: 0.1734 - acc: 0.948 - ETA: 4s - loss: 0.1732 - acc: 0.948 - ETA: 4s - loss: 0.1733 - acc: 0.948 - ETA: 4s - loss: 0.1731 - acc: 0.948 - ETA: 4s - loss: 0.1729 - acc: 0.948 - ETA: 4s - loss: 0.1730 - acc: 0.948 - ETA: 4s - loss: 0.1727 - acc: 0.948 - ETA: 4s - loss: 0.1726 - acc: 0.948 - ETA: 4s - loss: 0.1729 - acc: 0.948 - ETA: 4s - loss: 0.1730 - acc: 0.948 - ETA: 4s - loss: 0.1730 - acc: 0.948 - ETA: 4s - loss: 0.1733 - acc: 0.948 - ETA: 4s - loss: 0.1732 - acc: 0.948 - ETA: 4s - loss: 0.1732 - acc: 0.948 - ETA: 4s - loss: 0.1729 - acc: 0.948 - ETA: 4s - loss: 0.1724 - acc: 0.948 - ETA: 3s - loss: 0.1723 - acc: 0.948 - ETA: 3s - loss: 0.1720 - acc: 0.948 - ETA: 3s - loss: 0.1723 - acc: 0.948 - ETA: 3s - loss: 0.1725 - acc: 0.948 - ETA: 3s - loss: 0.1724 - acc: 0.948 - ETA: 3s - loss: 0.1729 - acc: 0.948 - ETA: 3s - loss: 0.1726 - acc: 0.948 - ETA: 3s - loss: 0.1723 - acc: 0.948 - ETA: 3s - loss: 0.1722 - acc: 0.948 - ETA: 3s - loss: 0.1723 - acc: 0.948 - ETA: 3s - loss: 0.1719 - acc: 0.948 - ETA: 3s - loss: 0.1718 - acc: 0.948 - ETA: 3s - loss: 0.1715 - acc: 0.948 - ETA: 3s - loss: 0.1716 - acc: 0.948 - ETA: 3s - loss: 0.1711 - acc: 0.949 - ETA: 2s - loss: 0.1706 - acc: 0.949 - ETA: 2s - loss: 0.1701 - acc: 0.949 - ETA: 2s - loss: 0.1701 - acc: 0.949 - ETA: 2s - loss: 0.1700 - acc: 0.949 - ETA: 2s - loss: 0.1701 - acc: 0.949 - ETA: 2s - loss: 0.1701 - acc: 0.949 - ETA: 2s - loss: 0.1700 - acc: 0.949 - ETA: 2s - loss: 0.1699 - acc: 0.949 - ETA: 2s - loss: 0.1698 - acc: 0.949 - ETA: 2s - loss: 0.1698 - acc: 0.949 - ETA: 2s - loss: 0.1694 - acc: 0.949 - ETA: 2s - loss: 0.1695 - acc: 0.949 - ETA: 2s - loss: 0.1691 - acc: 0.949 - ETA: 2s - loss: 0.1691 - acc: 0.949 - ETA: 2s - loss: 0.1689 - acc: 0.949 - ETA: 1s - loss: 0.1689 - acc: 0.949 - ETA: 1s - loss: 0.1689 - acc: 0.949 - ETA: 1s - loss: 0.1691 - acc: 0.949 - ETA: 1s - loss: 0.1691 - acc: 0.949 - ETA: 1s - loss: 0.1688 - acc: 0.9496"
     ]
    },
    {
     "name": "stdout",
     "output_type": "stream",
     "text": [
      "20360/20360 [==============================] - ETA: 1s - loss: 0.1684 - acc: 0.949 - ETA: 1s - loss: 0.1683 - acc: 0.949 - ETA: 1s - loss: 0.1689 - acc: 0.949 - ETA: 1s - loss: 0.1690 - acc: 0.949 - ETA: 1s - loss: 0.1696 - acc: 0.949 - ETA: 1s - loss: 0.1698 - acc: 0.949 - ETA: 1s - loss: 0.1698 - acc: 0.949 - ETA: 1s - loss: 0.1699 - acc: 0.949 - ETA: 1s - loss: 0.1696 - acc: 0.949 - ETA: 1s - loss: 0.1698 - acc: 0.949 - ETA: 0s - loss: 0.1703 - acc: 0.949 - ETA: 0s - loss: 0.1701 - acc: 0.949 - ETA: 0s - loss: 0.1702 - acc: 0.949 - ETA: 0s - loss: 0.1703 - acc: 0.949 - ETA: 0s - loss: 0.1700 - acc: 0.949 - ETA: 0s - loss: 0.1706 - acc: 0.949 - ETA: 0s - loss: 0.1706 - acc: 0.949 - ETA: 0s - loss: 0.1708 - acc: 0.949 - ETA: 0s - loss: 0.1707 - acc: 0.949 - ETA: 0s - loss: 0.1708 - acc: 0.949 - ETA: 0s - loss: 0.1708 - acc: 0.949 - ETA: 0s - loss: 0.1712 - acc: 0.949 - ETA: 0s - loss: 0.1711 - acc: 0.949 - ETA: 0s - loss: 0.1714 - acc: 0.949 - 18s - loss: 0.1713 - acc: 0.9491 - val_loss: 0.3445 - val_acc: 0.8761\n"
     ]
    }
   ],
   "source": [
    "#new_Xs, new_Y = resample(0, X['trn'], Y['trn'])\n",
    "cnn.fit(X['trn'], Y['trn'], validation_data=(X['dev'], Y['dev']), nb_epoch=2, batch_size=50) # data['trn'].shape[0]) # "
   ]
  },
  {
   "cell_type": "code",
   "execution_count": 82,
   "metadata": {},
   "outputs": [
    {
     "data": {
      "text/plain": [
       "'data/WikiQA-test.tsv'"
      ]
     },
     "execution_count": 82,
     "metadata": {},
     "output_type": "execute_result"
    }
   ],
   "source": [
    "fn['test']"
   ]
  },
  {
   "cell_type": "code",
   "execution_count": 83,
   "metadata": {},
   "outputs": [
    {
     "name": "stdout",
     "output_type": "stream",
     "text": [
      "dev\n",
      "my_MAP \t 0.690678284666\n",
      "my_MRR \t 0.69549929788\n",
      "MAP \t 0.6906782846655174\n",
      "MRR \t 0.6954992978802503\n"
     ]
    }
   ],
   "source": [
    "res = {}\n",
    "for k in sfn:\n",
    "    if k in ['trn', 'test']:\n",
    "        continue\n",
    "    y = cnn.predict(X[k])\n",
    "    res[k] = rank_and_evaluate(y[:, 0], k)\n",
    "    print(k)\n",
    "    for m in ['my_MAP', 'my_MRR', 'MAP', 'MRR']:\n",
    "        print(m, '\\t', res[k][m])"
   ]
  },
  {
   "cell_type": "code",
   "execution_count": 84,
   "metadata": {},
   "outputs": [],
   "source": [
    "# model.save('model/cnn_2d_%d_%f_%f.h5' % (add_features_dim, res['dev']['MRR'], res['testx']['MRR']))"
   ]
  },
  {
   "cell_type": "code",
   "execution_count": null,
   "metadata": {},
   "outputs": [],
   "source": []
  },
  {
   "cell_type": "markdown",
   "metadata": {
    "collapsed": true
   },
   "source": [
    "## adapted LSTM"
   ]
  },
  {
   "cell_type": "code",
   "execution_count": 85,
   "metadata": {},
   "outputs": [],
   "source": [
    "from MyLSTM import *"
   ]
  },
  {
   "cell_type": "code",
   "execution_count": 86,
   "metadata": {},
   "outputs": [],
   "source": [
    "# prepare X and Y\n",
    "use_add_features = True\n",
    "features_used = dummy_rank_features # dummies \n",
    "add_features_dim = features_used['trn'].shape[1] if use_add_features else None\n",
    "X, Y = {}, {}\n",
    "for k in sfn:\n",
    "    X[k] = [paddata[k]['ques_as_sent'].values, paddata[k]['sent'].values]\n",
    "    if k != 'test':\n",
    "        Y[k] = label[k]\n",
    "    if use_add_features:\n",
    "        X[k].append(features_used[k].values)"
   ]
  },
  {
   "cell_type": "code",
   "execution_count": 87,
   "metadata": {},
   "outputs": [],
   "source": [
    "model = MyLSTM(embedding_matrix, word_index, MAX_SENT_SEQUENCE_LENGTH, add_features_dim)"
   ]
  },
  {
   "cell_type": "code",
   "execution_count": 88,
   "metadata": {},
   "outputs": [
    {
     "name": "stderr",
     "output_type": "stream",
     "text": [
      "D:\\QA-rankit\\MyLSTM.py:30: UserWarning: Update your `LSTM` call to the Keras 2 API: `LSTM(64, recurrent_dropout=0)`\n",
      "  shared_lstm = LSTM(lstm_output_dim,dropout_U=0)\n",
      "D:\\QA-rankit\\MyLSTM.py:39: UserWarning: The `merge` function is deprecated and will be removed after 08/2017. Use instead layers from `keras.layers.merge`, e.g. `add`, `concatenate`, etc.\n",
      "  merged_vector = merge(merged_layer_list, mode='concat', concat_axis=-1, name='lstm_vec')\n",
      "c:\\python35\\lib\\site-packages\\keras\\legacy\\layers.py:458: UserWarning: The `Merge` layer is deprecated and will be removed after 08/2017. Use instead layers from `keras.layers.merge`, e.g. `add`, `concatenate`, etc.\n",
      "  name=name)\n",
      "D:\\QA-rankit\\MyLSTM.py:44: UserWarning: Update your `Model` call to the Keras 2 API: `Model(outputs=Tensor(\"de..., inputs=[<tf.Tenso...)`\n",
      "  self.model = Model(input=merged_input, output=predictions)\n"
     ]
    }
   ],
   "source": [
    "model.init_model(lstm_output_dim=64, denses=[64], dropouts=[0])"
   ]
  },
  {
   "cell_type": "code",
   "execution_count": 89,
   "metadata": {},
   "outputs": [
    {
     "name": "stderr",
     "output_type": "stream",
     "text": [
      "D:\\QA-rankit\\MyLSTM.py:68: UserWarning: The `nb_epoch` argument in `fit` has been renamed `epochs`.\n",
      "  self.model.fit(X, Y, *args, **kwargs)\n"
     ]
    },
    {
     "name": "stdout",
     "output_type": "stream",
     "text": [
      "Train on 20360 samples, validate on 1130 samples\n",
      "Epoch 1/2\n",
      "13568/20360 [==================>...........] - ETA: 836s - loss: 0.5305 - acc: 0.921 - ETA: 453s - loss: 0.4554 - acc: 0.921 - ETA: 328s - loss: 0.4156 - acc: 0.921 - ETA: 262s - loss: 0.3711 - acc: 0.933 - ETA: 223s - loss: 0.3509 - acc: 0.934 - ETA: 198s - loss: 0.3391 - acc: 0.932 - ETA: 180s - loss: 0.3241 - acc: 0.933 - ETA: 167s - loss: 0.3093 - acc: 0.935 - ETA: 155s - loss: 0.3005 - acc: 0.935 - ETA: 147s - loss: 0.2944 - acc: 0.935 - ETA: 141s - loss: 0.2747 - acc: 0.941 - ETA: 136s - loss: 0.2623 - acc: 0.944 - ETA: 131s - loss: 0.2698 - acc: 0.939 - ETA: 127s - loss: 0.2540 - acc: 0.944 - ETA: 122s - loss: 0.2507 - acc: 0.943 - ETA: 120s - loss: 0.2484 - acc: 0.943 - ETA: 117s - loss: 0.2448 - acc: 0.943 - ETA: 114s - loss: 0.2402 - acc: 0.944 - ETA: 112s - loss: 0.2449 - acc: 0.941 - ETA: 109s - loss: 0.2359 - acc: 0.944 - ETA: 107s - loss: 0.2367 - acc: 0.942 - ETA: 105s - loss: 0.2395 - acc: 0.941 - ETA: 104s - loss: 0.2344 - acc: 0.942 - ETA: 101s - loss: 0.2293 - acc: 0.944 - ETA: 99s - loss: 0.2267 - acc: 0.944 - ETA: 98s - loss: 0.2237 - acc: 0.94 - ETA: 96s - loss: 0.2220 - acc: 0.94 - ETA: 94s - loss: 0.2157 - acc: 0.94 - ETA: 93s - loss: 0.2134 - acc: 0.94 - ETA: 92s - loss: 0.2216 - acc: 0.94 - ETA: 90s - loss: 0.2188 - acc: 0.94 - ETA: 89s - loss: 0.2156 - acc: 0.94 - ETA: 88s - loss: 0.2156 - acc: 0.94 - ETA: 87s - loss: 0.2127 - acc: 0.94 - ETA: 86s - loss: 0.2089 - acc: 0.94 - ETA: 85s - loss: 0.2096 - acc: 0.94 - ETA: 84s - loss: 0.2083 - acc: 0.94 - ETA: 83s - loss: 0.2051 - acc: 0.94 - ETA: 82s - loss: 0.2009 - acc: 0.94 - ETA: 81s - loss: 0.2011 - acc: 0.94 - ETA: 80s - loss: 0.2038 - acc: 0.94 - ETA: 79s - loss: 0.2030 - acc: 0.94 - ETA: 78s - loss: 0.2048 - acc: 0.94 - ETA: 77s - loss: 0.2065 - acc: 0.94 - ETA: 77s - loss: 0.2046 - acc: 0.94 - ETA: 76s - loss: 0.2050 - acc: 0.94 - ETA: 75s - loss: 0.2024 - acc: 0.94 - ETA: 75s - loss: 0.2036 - acc: 0.94 - ETA: 74s - loss: 0.2026 - acc: 0.94 - ETA: 74s - loss: 0.2024 - acc: 0.94 - ETA: 73s - loss: 0.2005 - acc: 0.94 - ETA: 73s - loss: 0.1995 - acc: 0.94 - ETA: 72s - loss: 0.1967 - acc: 0.94 - ETA: 72s - loss: 0.1952 - acc: 0.94 - ETA: 71s - loss: 0.1948 - acc: 0.94 - ETA: 71s - loss: 0.1926 - acc: 0.94 - ETA: 70s - loss: 0.1927 - acc: 0.94 - ETA: 70s - loss: 0.1929 - acc: 0.94 - ETA: 69s - loss: 0.1933 - acc: 0.94 - ETA: 69s - loss: 0.1929 - acc: 0.94 - ETA: 68s - loss: 0.1913 - acc: 0.94 - ETA: 68s - loss: 0.1927 - acc: 0.94 - ETA: 68s - loss: 0.1902 - acc: 0.94 - ETA: 67s - loss: 0.1914 - acc: 0.94 - ETA: 67s - loss: 0.1917 - acc: 0.94 - ETA: 66s - loss: 0.1928 - acc: 0.94 - ETA: 66s - loss: 0.1920 - acc: 0.94 - ETA: 65s - loss: 0.1926 - acc: 0.94 - ETA: 65s - loss: 0.1909 - acc: 0.94 - ETA: 64s - loss: 0.1896 - acc: 0.94 - ETA: 64s - loss: 0.1879 - acc: 0.95 - ETA: 63s - loss: 0.1865 - acc: 0.95 - ETA: 63s - loss: 0.1859 - acc: 0.95 - ETA: 62s - loss: 0.1845 - acc: 0.95 - ETA: 62s - loss: 0.1861 - acc: 0.95 - ETA: 61s - loss: 0.1869 - acc: 0.95 - ETA: 61s - loss: 0.1867 - acc: 0.95 - ETA: 61s - loss: 0.1880 - acc: 0.95 - ETA: 60s - loss: 0.1878 - acc: 0.95 - ETA: 60s - loss: 0.1883 - acc: 0.95 - ETA: 59s - loss: 0.1886 - acc: 0.94 - ETA: 59s - loss: 0.1881 - acc: 0.94 - ETA: 59s - loss: 0.1872 - acc: 0.95 - ETA: 58s - loss: 0.1869 - acc: 0.95 - ETA: 58s - loss: 0.1874 - acc: 0.94 - ETA: 57s - loss: 0.1882 - acc: 0.94 - ETA: 57s - loss: 0.1880 - acc: 0.94 - ETA: 57s - loss: 0.1876 - acc: 0.94 - ETA: 56s - loss: 0.1865 - acc: 0.95 - ETA: 56s - loss: 0.1859 - acc: 0.95 - ETA: 56s - loss: 0.1854 - acc: 0.95 - ETA: 55s - loss: 0.1842 - acc: 0.95 - ETA: 55s - loss: 0.1845 - acc: 0.95 - ETA: 55s - loss: 0.1848 - acc: 0.95 - ETA: 54s - loss: 0.1859 - acc: 0.94 - ETA: 54s - loss: 0.1846 - acc: 0.95 - ETA: 54s - loss: 0.1837 - acc: 0.95 - ETA: 53s - loss: 0.1839 - acc: 0.95 - ETA: 53s - loss: 0.1831 - acc: 0.95 - ETA: 53s - loss: 0.1836 - acc: 0.95 - ETA: 53s - loss: 0.1834 - acc: 0.95 - ETA: 52s - loss: 0.1830 - acc: 0.95 - ETA: 52s - loss: 0.1833 - acc: 0.95 - ETA: 52s - loss: 0.1826 - acc: 0.95 - ETA: 52s - loss: 0.1815 - acc: 0.95 - ETA: 51s - loss: 0.1809 - acc: 0.95 - ETA: 51s - loss: 0.1803 - acc: 0.95 - ETA: 51s - loss: 0.1793 - acc: 0.95 - ETA: 50s - loss: 0.1795 - acc: 0.95 - ETA: 50s - loss: 0.1788 - acc: 0.95 - ETA: 50s - loss: 0.1781 - acc: 0.95 - ETA: 50s - loss: 0.1777 - acc: 0.95 - ETA: 49s - loss: 0.1773 - acc: 0.95 - ETA: 49s - loss: 0.1776 - acc: 0.95 - ETA: 49s - loss: 0.1773 - acc: 0.95 - ETA: 48s - loss: 0.1769 - acc: 0.95 - ETA: 48s - loss: 0.1760 - acc: 0.95 - ETA: 48s - loss: 0.1768 - acc: 0.95 - ETA: 48s - loss: 0.1761 - acc: 0.95 - ETA: 47s - loss: 0.1766 - acc: 0.95 - ETA: 47s - loss: 0.1761 - acc: 0.95 - ETA: 47s - loss: 0.1760 - acc: 0.95 - ETA: 47s - loss: 0.1762 - acc: 0.95 - ETA: 46s - loss: 0.1762 - acc: 0.95 - ETA: 46s - loss: 0.1770 - acc: 0.95 - ETA: 46s - loss: 0.1766 - acc: 0.95 - ETA: 45s - loss: 0.1764 - acc: 0.95 - ETA: 45s - loss: 0.1760 - acc: 0.95 - ETA: 45s - loss: 0.1759 - acc: 0.95 - ETA: 44s - loss: 0.1765 - acc: 0.95 - ETA: 44s - loss: 0.1758 - acc: 0.95 - ETA: 44s - loss: 0.1758 - acc: 0.95 - ETA: 43s - loss: 0.1763 - acc: 0.95 - ETA: 43s - loss: 0.1762 - acc: 0.95 - ETA: 43s - loss: 0.1755 - acc: 0.95 - ETA: 43s - loss: 0.1748 - acc: 0.95 - ETA: 42s - loss: 0.1752 - acc: 0.95 - ETA: 42s - loss: 0.1771 - acc: 0.95 - ETA: 42s - loss: 0.1773 - acc: 0.95 - ETA: 41s - loss: 0.1771 - acc: 0.95 - ETA: 41s - loss: 0.1769 - acc: 0.95 - ETA: 41s - loss: 0.1766 - acc: 0.95 - ETA: 41s - loss: 0.1769 - acc: 0.95 - ETA: 40s - loss: 0.1765 - acc: 0.95 - ETA: 40s - loss: 0.1767 - acc: 0.95 - ETA: 40s - loss: 0.1768 - acc: 0.95 - ETA: 39s - loss: 0.1762 - acc: 0.95 - ETA: 39s - loss: 0.1761 - acc: 0.95 - ETA: 39s - loss: 0.1763 - acc: 0.95 - ETA: 39s - loss: 0.1757 - acc: 0.95 - ETA: 38s - loss: 0.1763 - acc: 0.95 - ETA: 38s - loss: 0.1763 - acc: 0.95 - ETA: 38s - loss: 0.1765 - acc: 0.95 - ETA: 38s - loss: 0.1758 - acc: 0.95 - ETA: 37s - loss: 0.1754 - acc: 0.95 - ETA: 37s - loss: 0.1756 - acc: 0.95 - ETA: 37s - loss: 0.1752 - acc: 0.95 - ETA: 37s - loss: 0.1759 - acc: 0.95 - ETA: 36s - loss: 0.1752 - acc: 0.95 - ETA: 36s - loss: 0.1760 - acc: 0.95 - ETA: 36s - loss: 0.1756 - acc: 0.95 - ETA: 36s - loss: 0.1764 - acc: 0.95 - ETA: 35s - loss: 0.1760 - acc: 0.95 - ETA: 35s - loss: 0.1757 - acc: 0.95 - ETA: 35s - loss: 0.1751 - acc: 0.95 - ETA: 34s - loss: 0.1750 - acc: 0.95 - ETA: 34s - loss: 0.1742 - acc: 0.95 - ETA: 34s - loss: 0.1746 - acc: 0.95 - ETA: 34s - loss: 0.1745 - acc: 0.95 - ETA: 33s - loss: 0.1746 - acc: 0.95 - ETA: 33s - loss: 0.1748 - acc: 0.95 - ETA: 33s - loss: 0.1750 - acc: 0.95 - ETA: 33s - loss: 0.1761 - acc: 0.95 - ETA: 32s - loss: 0.1763 - acc: 0.95 - ETA: 32s - loss: 0.1763 - acc: 0.95 - ETA: 32s - loss: 0.1763 - acc: 0.95 - ETA: 32s - loss: 0.1764 - acc: 0.95 - ETA: 31s - loss: 0.1763 - acc: 0.95 - ETA: 31s - loss: 0.1758 - acc: 0.95 - ETA: 31s - loss: 0.1761 - acc: 0.95 - ETA: 30s - loss: 0.1762 - acc: 0.95 - ETA: 30s - loss: 0.1764 - acc: 0.95 - ETA: 30s - loss: 0.1767 - acc: 0.95 - ETA: 30s - loss: 0.1763 - acc: 0.95 - ETA: 29s - loss: 0.1772 - acc: 0.95 - ETA: 29s - loss: 0.1771 - acc: 0.95 - ETA: 29s - loss: 0.1774 - acc: 0.94 - ETA: 29s - loss: 0.1778 - acc: 0.94 - ETA: 29s - loss: 0.1772 - acc: 0.95 - ETA: 28s - loss: 0.1776 - acc: 0.95 - ETA: 28s - loss: 0.1777 - acc: 0.94 - ETA: 28s - loss: 0.1777 - acc: 0.94 - ETA: 28s - loss: 0.1776 - acc: 0.94 - ETA: 27s - loss: 0.1782 - acc: 0.94 - ETA: 27s - loss: 0.1778 - acc: 0.94 - ETA: 27s - loss: 0.1777 - acc: 0.94 - ETA: 27s - loss: 0.1773 - acc: 0.95 - ETA: 26s - loss: 0.1772 - acc: 0.94 - ETA: 26s - loss: 0.1768 - acc: 0.95 - ETA: 26s - loss: 0.1771 - acc: 0.94 - ETA: 26s - loss: 0.1766 - acc: 0.95 - ETA: 25s - loss: 0.1770 - acc: 0.94 - ETA: 25s - loss: 0.1771 - acc: 0.94 - ETA: 25s - loss: 0.1773 - acc: 0.94 - ETA: 25s - loss: 0.1775 - acc: 0.94 - ETA: 24s - loss: 0.1769 - acc: 0.94 - ETA: 24s - loss: 0.1777 - acc: 0.94 - ETA: 24s - loss: 0.1784 - acc: 0.94 - ETA: 24s - loss: 0.1780 - acc: 0.94 - ETA: 23s - loss: 0.1784 - acc: 0.94 - ETA: 23s - loss: 0.1780 - acc: 0.94 - ETA: 23s - loss: 0.1778 - acc: 0.9420360/20360 [==============================] - ETA: 23s - loss: 0.1773 - acc: 0.94 - ETA: 23s - loss: 0.1776 - acc: 0.94 - ETA: 22s - loss: 0.1776 - acc: 0.94 - ETA: 22s - loss: 0.1770 - acc: 0.94 - ETA: 22s - loss: 0.1772 - acc: 0.94 - ETA: 22s - loss: 0.1768 - acc: 0.95 - ETA: 21s - loss: 0.1772 - acc: 0.94 - ETA: 21s - loss: 0.1768 - acc: 0.95 - ETA: 21s - loss: 0.1771 - acc: 0.94 - ETA: 21s - loss: 0.1769 - acc: 0.95 - ETA: 20s - loss: 0.1766 - acc: 0.95 - ETA: 20s - loss: 0.1767 - acc: 0.95 - ETA: 20s - loss: 0.1773 - acc: 0.95 - ETA: 20s - loss: 0.1769 - acc: 0.95 - ETA: 19s - loss: 0.1772 - acc: 0.95 - ETA: 19s - loss: 0.1782 - acc: 0.94 - ETA: 19s - loss: 0.1779 - acc: 0.94 - ETA: 19s - loss: 0.1777 - acc: 0.94 - ETA: 19s - loss: 0.1774 - acc: 0.94 - ETA: 18s - loss: 0.1778 - acc: 0.94 - ETA: 18s - loss: 0.1781 - acc: 0.94 - ETA: 18s - loss: 0.1780 - acc: 0.94 - ETA: 18s - loss: 0.1777 - acc: 0.94 - ETA: 17s - loss: 0.1777 - acc: 0.94 - ETA: 17s - loss: 0.1781 - acc: 0.94 - ETA: 17s - loss: 0.1776 - acc: 0.94 - ETA: 17s - loss: 0.1775 - acc: 0.94 - ETA: 17s - loss: 0.1774 - acc: 0.94 - ETA: 16s - loss: 0.1768 - acc: 0.95 - ETA: 16s - loss: 0.1767 - acc: 0.95 - ETA: 16s - loss: 0.1767 - acc: 0.95 - ETA: 16s - loss: 0.1765 - acc: 0.95 - ETA: 15s - loss: 0.1766 - acc: 0.95 - ETA: 15s - loss: 0.1763 - acc: 0.95 - ETA: 15s - loss: 0.1758 - acc: 0.95 - ETA: 15s - loss: 0.1757 - acc: 0.95 - ETA: 15s - loss: 0.1760 - acc: 0.95 - ETA: 14s - loss: 0.1761 - acc: 0.95 - ETA: 14s - loss: 0.1760 - acc: 0.95 - ETA: 14s - loss: 0.1760 - acc: 0.95 - ETA: 14s - loss: 0.1764 - acc: 0.95 - ETA: 13s - loss: 0.1763 - acc: 0.95 - ETA: 13s - loss: 0.1763 - acc: 0.95 - ETA: 13s - loss: 0.1764 - acc: 0.95 - ETA: 13s - loss: 0.1764 - acc: 0.94 - ETA: 13s - loss: 0.1772 - acc: 0.94 - ETA: 12s - loss: 0.1773 - acc: 0.94 - ETA: 12s - loss: 0.1777 - acc: 0.94 - ETA: 12s - loss: 0.1778 - acc: 0.94 - ETA: 12s - loss: 0.1777 - acc: 0.94 - ETA: 11s - loss: 0.1774 - acc: 0.94 - ETA: 11s - loss: 0.1773 - acc: 0.94 - ETA: 11s - loss: 0.1776 - acc: 0.94 - ETA: 11s - loss: 0.1777 - acc: 0.94 - ETA: 11s - loss: 0.1780 - acc: 0.94 - ETA: 10s - loss: 0.1781 - acc: 0.94 - ETA: 10s - loss: 0.1781 - acc: 0.94 - ETA: 10s - loss: 0.1782 - acc: 0.94 - ETA: 10s - loss: 0.1783 - acc: 0.94 - ETA: 9s - loss: 0.1784 - acc: 0.9490 - ETA: 9s - loss: 0.1779 - acc: 0.949 - ETA: 9s - loss: 0.1777 - acc: 0.949 - ETA: 9s - loss: 0.1773 - acc: 0.949 - ETA: 9s - loss: 0.1772 - acc: 0.949 - ETA: 8s - loss: 0.1766 - acc: 0.949 - ETA: 8s - loss: 0.1765 - acc: 0.949 - ETA: 8s - loss: 0.1763 - acc: 0.949 - ETA: 8s - loss: 0.1763 - acc: 0.949 - ETA: 8s - loss: 0.1765 - acc: 0.949 - ETA: 7s - loss: 0.1764 - acc: 0.949 - ETA: 7s - loss: 0.1763 - acc: 0.949 - ETA: 7s - loss: 0.1763 - acc: 0.949 - ETA: 7s - loss: 0.1761 - acc: 0.949 - ETA: 6s - loss: 0.1764 - acc: 0.949 - ETA: 6s - loss: 0.1760 - acc: 0.949 - ETA: 6s - loss: 0.1760 - acc: 0.949 - ETA: 6s - loss: 0.1760 - acc: 0.949 - ETA: 6s - loss: 0.1760 - acc: 0.949 - ETA: 5s - loss: 0.1763 - acc: 0.949 - ETA: 5s - loss: 0.1762 - acc: 0.949 - ETA: 5s - loss: 0.1765 - acc: 0.949 - ETA: 5s - loss: 0.1769 - acc: 0.949 - ETA: 5s - loss: 0.1770 - acc: 0.949 - ETA: 4s - loss: 0.1773 - acc: 0.949 - ETA: 4s - loss: 0.1772 - acc: 0.949 - ETA: 4s - loss: 0.1777 - acc: 0.949 - ETA: 4s - loss: 0.1776 - acc: 0.948 - ETA: 3s - loss: 0.1775 - acc: 0.948 - ETA: 3s - loss: 0.1780 - acc: 0.948 - ETA: 3s - loss: 0.1782 - acc: 0.948 - ETA: 3s - loss: 0.1780 - acc: 0.948 - ETA: 3s - loss: 0.1781 - acc: 0.948 - ETA: 2s - loss: 0.1777 - acc: 0.948 - ETA: 2s - loss: 0.1775 - acc: 0.948 - ETA: 2s - loss: 0.1774 - acc: 0.948 - ETA: 2s - loss: 0.1777 - acc: 0.948 - ETA: 1s - loss: 0.1773 - acc: 0.948 - ETA: 1s - loss: 0.1774 - acc: 0.948 - ETA: 1s - loss: 0.1770 - acc: 0.948 - ETA: 1s - loss: 0.1767 - acc: 0.949 - ETA: 1s - loss: 0.1764 - acc: 0.949 - ETA: 0s - loss: 0.1765 - acc: 0.948 - ETA: 0s - loss: 0.1766 - acc: 0.948 - ETA: 0s - loss: 0.1764 - acc: 0.949 - ETA: 0s - loss: 0.1767 - acc: 0.948 - ETA: 0s - loss: 0.1769 - acc: 0.948 - 69s - loss: 0.1769 - acc: 0.9488 - val_loss: 0.3334 - val_acc: 0.8761\n",
      "Epoch 2/2\n"
     ]
    },
    {
     "name": "stdout",
     "output_type": "stream",
     "text": [
      "13760/20360 [===================>..........] - ETA: 52s - loss: 0.0806 - acc: 0.96 - ETA: 51s - loss: 0.1129 - acc: 0.96 - ETA: 52s - loss: 0.1890 - acc: 0.94 - ETA: 56s - loss: 0.1977 - acc: 0.94 - ETA: 58s - loss: 0.1801 - acc: 0.94 - ETA: 63s - loss: 0.1555 - acc: 0.95 - ETA: 62s - loss: 0.1446 - acc: 0.95 - ETA: 64s - loss: 0.1504 - acc: 0.95 - ETA: 65s - loss: 0.1522 - acc: 0.96 - ETA: 65s - loss: 0.1486 - acc: 0.96 - ETA: 64s - loss: 0.1526 - acc: 0.95 - ETA: 63s - loss: 0.1591 - acc: 0.95 - ETA: 63s - loss: 0.1606 - acc: 0.95 - ETA: 64s - loss: 0.1655 - acc: 0.95 - ETA: 63s - loss: 0.1640 - acc: 0.95 - ETA: 63s - loss: 0.1594 - acc: 0.95 - ETA: 64s - loss: 0.1574 - acc: 0.95 - ETA: 64s - loss: 0.1564 - acc: 0.95 - ETA: 63s - loss: 0.1637 - acc: 0.95 - ETA: 62s - loss: 0.1646 - acc: 0.95 - ETA: 62s - loss: 0.1645 - acc: 0.95 - ETA: 62s - loss: 0.1635 - acc: 0.95 - ETA: 61s - loss: 0.1612 - acc: 0.95 - ETA: 60s - loss: 0.1589 - acc: 0.95 - ETA: 61s - loss: 0.1555 - acc: 0.95 - ETA: 61s - loss: 0.1582 - acc: 0.95 - ETA: 61s - loss: 0.1671 - acc: 0.95 - ETA: 60s - loss: 0.1700 - acc: 0.95 - ETA: 59s - loss: 0.1701 - acc: 0.95 - ETA: 59s - loss: 0.1689 - acc: 0.95 - ETA: 60s - loss: 0.1649 - acc: 0.95 - ETA: 59s - loss: 0.1688 - acc: 0.95 - ETA: 59s - loss: 0.1668 - acc: 0.95 - ETA: 58s - loss: 0.1674 - acc: 0.95 - ETA: 58s - loss: 0.1666 - acc: 0.95 - ETA: 58s - loss: 0.1662 - acc: 0.95 - ETA: 58s - loss: 0.1642 - acc: 0.95 - ETA: 58s - loss: 0.1652 - acc: 0.95 - ETA: 57s - loss: 0.1654 - acc: 0.95 - ETA: 57s - loss: 0.1653 - acc: 0.95 - ETA: 57s - loss: 0.1635 - acc: 0.95 - ETA: 57s - loss: 0.1611 - acc: 0.95 - ETA: 57s - loss: 0.1627 - acc: 0.95 - ETA: 56s - loss: 0.1628 - acc: 0.95 - ETA: 56s - loss: 0.1630 - acc: 0.95 - ETA: 56s - loss: 0.1627 - acc: 0.95 - ETA: 55s - loss: 0.1626 - acc: 0.95 - ETA: 55s - loss: 0.1624 - acc: 0.95 - ETA: 55s - loss: 0.1625 - acc: 0.95 - ETA: 54s - loss: 0.1628 - acc: 0.95 - ETA: 54s - loss: 0.1631 - acc: 0.95 - ETA: 54s - loss: 0.1636 - acc: 0.95 - ETA: 53s - loss: 0.1638 - acc: 0.95 - ETA: 53s - loss: 0.1630 - acc: 0.95 - ETA: 53s - loss: 0.1622 - acc: 0.95 - ETA: 52s - loss: 0.1614 - acc: 0.95 - ETA: 52s - loss: 0.1634 - acc: 0.95 - ETA: 52s - loss: 0.1632 - acc: 0.95 - ETA: 52s - loss: 0.1624 - acc: 0.95 - ETA: 52s - loss: 0.1610 - acc: 0.95 - ETA: 52s - loss: 0.1605 - acc: 0.95 - ETA: 52s - loss: 0.1595 - acc: 0.95 - ETA: 52s - loss: 0.1613 - acc: 0.95 - ETA: 51s - loss: 0.1625 - acc: 0.95 - ETA: 51s - loss: 0.1633 - acc: 0.95 - ETA: 51s - loss: 0.1650 - acc: 0.95 - ETA: 51s - loss: 0.1649 - acc: 0.95 - ETA: 51s - loss: 0.1644 - acc: 0.95 - ETA: 51s - loss: 0.1638 - acc: 0.95 - ETA: 51s - loss: 0.1629 - acc: 0.95 - ETA: 50s - loss: 0.1620 - acc: 0.95 - ETA: 50s - loss: 0.1637 - acc: 0.95 - ETA: 50s - loss: 0.1645 - acc: 0.95 - ETA: 50s - loss: 0.1641 - acc: 0.95 - ETA: 49s - loss: 0.1638 - acc: 0.95 - ETA: 49s - loss: 0.1629 - acc: 0.95 - ETA: 49s - loss: 0.1615 - acc: 0.95 - ETA: 49s - loss: 0.1611 - acc: 0.95 - ETA: 49s - loss: 0.1617 - acc: 0.95 - ETA: 49s - loss: 0.1614 - acc: 0.95 - ETA: 48s - loss: 0.1618 - acc: 0.95 - ETA: 48s - loss: 0.1635 - acc: 0.95 - ETA: 48s - loss: 0.1624 - acc: 0.95 - ETA: 47s - loss: 0.1630 - acc: 0.95 - ETA: 47s - loss: 0.1622 - acc: 0.95 - ETA: 47s - loss: 0.1647 - acc: 0.95 - ETA: 47s - loss: 0.1657 - acc: 0.95 - ETA: 46s - loss: 0.1663 - acc: 0.95 - ETA: 46s - loss: 0.1665 - acc: 0.95 - ETA: 46s - loss: 0.1676 - acc: 0.95 - ETA: 46s - loss: 0.1686 - acc: 0.95 - ETA: 45s - loss: 0.1687 - acc: 0.95 - ETA: 45s - loss: 0.1686 - acc: 0.95 - ETA: 45s - loss: 0.1682 - acc: 0.95 - ETA: 44s - loss: 0.1682 - acc: 0.95 - ETA: 44s - loss: 0.1677 - acc: 0.95 - ETA: 44s - loss: 0.1669 - acc: 0.95 - ETA: 44s - loss: 0.1679 - acc: 0.95 - ETA: 43s - loss: 0.1681 - acc: 0.95 - ETA: 43s - loss: 0.1687 - acc: 0.95 - ETA: 43s - loss: 0.1692 - acc: 0.95 - ETA: 43s - loss: 0.1687 - acc: 0.95 - ETA: 43s - loss: 0.1689 - acc: 0.94 - ETA: 42s - loss: 0.1693 - acc: 0.94 - ETA: 42s - loss: 0.1685 - acc: 0.95 - ETA: 42s - loss: 0.1687 - acc: 0.95 - ETA: 42s - loss: 0.1690 - acc: 0.94 - ETA: 42s - loss: 0.1685 - acc: 0.95 - ETA: 42s - loss: 0.1696 - acc: 0.95 - ETA: 42s - loss: 0.1698 - acc: 0.94 - ETA: 41s - loss: 0.1699 - acc: 0.94 - ETA: 41s - loss: 0.1696 - acc: 0.94 - ETA: 41s - loss: 0.1703 - acc: 0.94 - ETA: 41s - loss: 0.1696 - acc: 0.94 - ETA: 41s - loss: 0.1699 - acc: 0.94 - ETA: 41s - loss: 0.1708 - acc: 0.94 - ETA: 40s - loss: 0.1705 - acc: 0.94 - ETA: 40s - loss: 0.1707 - acc: 0.94 - ETA: 40s - loss: 0.1702 - acc: 0.94 - ETA: 40s - loss: 0.1701 - acc: 0.94 - ETA: 39s - loss: 0.1696 - acc: 0.94 - ETA: 39s - loss: 0.1701 - acc: 0.94 - ETA: 39s - loss: 0.1696 - acc: 0.94 - ETA: 39s - loss: 0.1699 - acc: 0.94 - ETA: 39s - loss: 0.1701 - acc: 0.94 - ETA: 38s - loss: 0.1703 - acc: 0.94 - ETA: 38s - loss: 0.1707 - acc: 0.94 - ETA: 38s - loss: 0.1705 - acc: 0.94 - ETA: 38s - loss: 0.1698 - acc: 0.94 - ETA: 37s - loss: 0.1695 - acc: 0.94 - ETA: 37s - loss: 0.1693 - acc: 0.94 - ETA: 37s - loss: 0.1704 - acc: 0.94 - ETA: 37s - loss: 0.1708 - acc: 0.94 - ETA: 36s - loss: 0.1705 - acc: 0.94 - ETA: 36s - loss: 0.1706 - acc: 0.94 - ETA: 36s - loss: 0.1716 - acc: 0.94 - ETA: 36s - loss: 0.1714 - acc: 0.94 - ETA: 35s - loss: 0.1706 - acc: 0.94 - ETA: 35s - loss: 0.1701 - acc: 0.94 - ETA: 35s - loss: 0.1707 - acc: 0.94 - ETA: 35s - loss: 0.1699 - acc: 0.94 - ETA: 35s - loss: 0.1702 - acc: 0.94 - ETA: 34s - loss: 0.1696 - acc: 0.94 - ETA: 34s - loss: 0.1692 - acc: 0.94 - ETA: 34s - loss: 0.1689 - acc: 0.94 - ETA: 34s - loss: 0.1692 - acc: 0.94 - ETA: 34s - loss: 0.1694 - acc: 0.94 - ETA: 33s - loss: 0.1690 - acc: 0.94 - ETA: 33s - loss: 0.1690 - acc: 0.94 - ETA: 33s - loss: 0.1686 - acc: 0.94 - ETA: 33s - loss: 0.1685 - acc: 0.94 - ETA: 32s - loss: 0.1680 - acc: 0.94 - ETA: 32s - loss: 0.1675 - acc: 0.94 - ETA: 32s - loss: 0.1679 - acc: 0.94 - ETA: 32s - loss: 0.1674 - acc: 0.95 - ETA: 32s - loss: 0.1671 - acc: 0.95 - ETA: 32s - loss: 0.1676 - acc: 0.94 - ETA: 31s - loss: 0.1676 - acc: 0.94 - ETA: 31s - loss: 0.1673 - acc: 0.95 - ETA: 31s - loss: 0.1676 - acc: 0.94 - ETA: 31s - loss: 0.1673 - acc: 0.94 - ETA: 31s - loss: 0.1685 - acc: 0.94 - ETA: 30s - loss: 0.1688 - acc: 0.94 - ETA: 30s - loss: 0.1685 - acc: 0.94 - ETA: 30s - loss: 0.1691 - acc: 0.94 - ETA: 30s - loss: 0.1688 - acc: 0.94 - ETA: 29s - loss: 0.1688 - acc: 0.94 - ETA: 29s - loss: 0.1684 - acc: 0.94 - ETA: 29s - loss: 0.1687 - acc: 0.94 - ETA: 29s - loss: 0.1689 - acc: 0.94 - ETA: 29s - loss: 0.1690 - acc: 0.94 - ETA: 28s - loss: 0.1690 - acc: 0.94 - ETA: 28s - loss: 0.1690 - acc: 0.94 - ETA: 28s - loss: 0.1694 - acc: 0.94 - ETA: 28s - loss: 0.1706 - acc: 0.94 - ETA: 28s - loss: 0.1708 - acc: 0.94 - ETA: 27s - loss: 0.1705 - acc: 0.94 - ETA: 27s - loss: 0.1707 - acc: 0.94 - ETA: 27s - loss: 0.1708 - acc: 0.94 - ETA: 27s - loss: 0.1710 - acc: 0.94 - ETA: 26s - loss: 0.1706 - acc: 0.94 - ETA: 26s - loss: 0.1705 - acc: 0.94 - ETA: 26s - loss: 0.1704 - acc: 0.94 - ETA: 26s - loss: 0.1707 - acc: 0.94 - ETA: 26s - loss: 0.1706 - acc: 0.94 - ETA: 26s - loss: 0.1708 - acc: 0.94 - ETA: 25s - loss: 0.1708 - acc: 0.94 - ETA: 25s - loss: 0.1709 - acc: 0.94 - ETA: 25s - loss: 0.1710 - acc: 0.94 - ETA: 25s - loss: 0.1709 - acc: 0.94 - ETA: 25s - loss: 0.1712 - acc: 0.94 - ETA: 24s - loss: 0.1711 - acc: 0.94 - ETA: 24s - loss: 0.1712 - acc: 0.94 - ETA: 24s - loss: 0.1715 - acc: 0.94 - ETA: 24s - loss: 0.1722 - acc: 0.94 - ETA: 23s - loss: 0.1725 - acc: 0.94 - ETA: 23s - loss: 0.1723 - acc: 0.94 - ETA: 23s - loss: 0.1722 - acc: 0.94 - ETA: 23s - loss: 0.1718 - acc: 0.94 - ETA: 23s - loss: 0.1715 - acc: 0.94 - ETA: 23s - loss: 0.1713 - acc: 0.94 - ETA: 22s - loss: 0.1710 - acc: 0.94 - ETA: 22s - loss: 0.1703 - acc: 0.94 - ETA: 22s - loss: 0.1699 - acc: 0.94 - ETA: 22s - loss: 0.1706 - acc: 0.94 - ETA: 22s - loss: 0.1699 - acc: 0.94 - ETA: 21s - loss: 0.1704 - acc: 0.94 - ETA: 21s - loss: 0.1710 - acc: 0.94 - ETA: 21s - loss: 0.1711 - acc: 0.94 - ETA: 21s - loss: 0.1712 - acc: 0.94 - ETA: 21s - loss: 0.1715 - acc: 0.94 - ETA: 20s - loss: 0.1716 - acc: 0.94 - ETA: 20s - loss: 0.1715 - acc: 0.94 - ETA: 20s - loss: 0.1711 - acc: 0.94 - ETA: 20s - loss: 0.1712 - acc: 0.9487"
     ]
    },
    {
     "name": "stdout",
     "output_type": "stream",
     "text": [
      "20360/20360 [==============================] - ETA: 20s - loss: 0.1713 - acc: 0.94 - ETA: 19s - loss: 0.1712 - acc: 0.94 - ETA: 19s - loss: 0.1712 - acc: 0.94 - ETA: 19s - loss: 0.1709 - acc: 0.94 - ETA: 19s - loss: 0.1712 - acc: 0.94 - ETA: 19s - loss: 0.1712 - acc: 0.94 - ETA: 18s - loss: 0.1707 - acc: 0.94 - ETA: 18s - loss: 0.1707 - acc: 0.94 - ETA: 18s - loss: 0.1701 - acc: 0.94 - ETA: 18s - loss: 0.1698 - acc: 0.94 - ETA: 18s - loss: 0.1699 - acc: 0.94 - ETA: 17s - loss: 0.1696 - acc: 0.94 - ETA: 17s - loss: 0.1693 - acc: 0.94 - ETA: 17s - loss: 0.1691 - acc: 0.94 - ETA: 17s - loss: 0.1691 - acc: 0.94 - ETA: 17s - loss: 0.1689 - acc: 0.94 - ETA: 16s - loss: 0.1685 - acc: 0.94 - ETA: 16s - loss: 0.1689 - acc: 0.94 - ETA: 16s - loss: 0.1697 - acc: 0.94 - ETA: 16s - loss: 0.1706 - acc: 0.94 - ETA: 16s - loss: 0.1709 - acc: 0.94 - ETA: 15s - loss: 0.1710 - acc: 0.94 - ETA: 15s - loss: 0.1714 - acc: 0.94 - ETA: 15s - loss: 0.1718 - acc: 0.94 - ETA: 15s - loss: 0.1718 - acc: 0.94 - ETA: 15s - loss: 0.1719 - acc: 0.94 - ETA: 15s - loss: 0.1717 - acc: 0.94 - ETA: 14s - loss: 0.1719 - acc: 0.94 - ETA: 14s - loss: 0.1721 - acc: 0.94 - ETA: 14s - loss: 0.1722 - acc: 0.94 - ETA: 14s - loss: 0.1725 - acc: 0.94 - ETA: 14s - loss: 0.1723 - acc: 0.94 - ETA: 13s - loss: 0.1720 - acc: 0.94 - ETA: 13s - loss: 0.1722 - acc: 0.94 - ETA: 13s - loss: 0.1719 - acc: 0.94 - ETA: 13s - loss: 0.1714 - acc: 0.94 - ETA: 13s - loss: 0.1715 - acc: 0.94 - ETA: 12s - loss: 0.1711 - acc: 0.94 - ETA: 12s - loss: 0.1710 - acc: 0.94 - ETA: 12s - loss: 0.1709 - acc: 0.94 - ETA: 12s - loss: 0.1717 - acc: 0.94 - ETA: 12s - loss: 0.1717 - acc: 0.94 - ETA: 11s - loss: 0.1716 - acc: 0.94 - ETA: 11s - loss: 0.1716 - acc: 0.94 - ETA: 11s - loss: 0.1716 - acc: 0.94 - ETA: 11s - loss: 0.1713 - acc: 0.94 - ETA: 11s - loss: 0.1712 - acc: 0.94 - ETA: 10s - loss: 0.1711 - acc: 0.94 - ETA: 10s - loss: 0.1712 - acc: 0.94 - ETA: 10s - loss: 0.1712 - acc: 0.94 - ETA: 10s - loss: 0.1708 - acc: 0.94 - ETA: 10s - loss: 0.1709 - acc: 0.94 - ETA: 9s - loss: 0.1711 - acc: 0.9488 - ETA: 9s - loss: 0.1712 - acc: 0.948 - ETA: 9s - loss: 0.1712 - acc: 0.948 - ETA: 9s - loss: 0.1713 - acc: 0.948 - ETA: 9s - loss: 0.1709 - acc: 0.948 - ETA: 8s - loss: 0.1707 - acc: 0.948 - ETA: 8s - loss: 0.1713 - acc: 0.948 - ETA: 8s - loss: 0.1720 - acc: 0.948 - ETA: 8s - loss: 0.1722 - acc: 0.948 - ETA: 8s - loss: 0.1721 - acc: 0.948 - ETA: 7s - loss: 0.1722 - acc: 0.948 - ETA: 7s - loss: 0.1722 - acc: 0.948 - ETA: 7s - loss: 0.1724 - acc: 0.948 - ETA: 7s - loss: 0.1723 - acc: 0.948 - ETA: 7s - loss: 0.1720 - acc: 0.948 - ETA: 6s - loss: 0.1718 - acc: 0.948 - ETA: 6s - loss: 0.1720 - acc: 0.948 - ETA: 6s - loss: 0.1721 - acc: 0.948 - ETA: 6s - loss: 0.1721 - acc: 0.948 - ETA: 6s - loss: 0.1719 - acc: 0.948 - ETA: 5s - loss: 0.1720 - acc: 0.948 - ETA: 5s - loss: 0.1718 - acc: 0.948 - ETA: 5s - loss: 0.1717 - acc: 0.948 - ETA: 5s - loss: 0.1714 - acc: 0.948 - ETA: 5s - loss: 0.1712 - acc: 0.948 - ETA: 4s - loss: 0.1712 - acc: 0.948 - ETA: 4s - loss: 0.1713 - acc: 0.948 - ETA: 4s - loss: 0.1713 - acc: 0.948 - ETA: 4s - loss: 0.1711 - acc: 0.948 - ETA: 4s - loss: 0.1709 - acc: 0.948 - ETA: 3s - loss: 0.1710 - acc: 0.948 - ETA: 3s - loss: 0.1713 - acc: 0.948 - ETA: 3s - loss: 0.1712 - acc: 0.948 - ETA: 3s - loss: 0.1710 - acc: 0.948 - ETA: 3s - loss: 0.1707 - acc: 0.948 - ETA: 2s - loss: 0.1706 - acc: 0.948 - ETA: 2s - loss: 0.1703 - acc: 0.948 - ETA: 2s - loss: 0.1700 - acc: 0.949 - ETA: 2s - loss: 0.1697 - acc: 0.949 - ETA: 2s - loss: 0.1702 - acc: 0.949 - ETA: 1s - loss: 0.1702 - acc: 0.949 - ETA: 1s - loss: 0.1701 - acc: 0.948 - ETA: 1s - loss: 0.1701 - acc: 0.948 - ETA: 1s - loss: 0.1700 - acc: 0.948 - ETA: 1s - loss: 0.1698 - acc: 0.949 - ETA: 1s - loss: 0.1699 - acc: 0.948 - ETA: 0s - loss: 0.1702 - acc: 0.948 - ETA: 0s - loss: 0.1700 - acc: 0.948 - ETA: 0s - loss: 0.1702 - acc: 0.948 - ETA: 0s - loss: 0.1702 - acc: 0.948 - ETA: 0s - loss: 0.1702 - acc: 0.948 - 63s - loss: 0.1701 - acc: 0.9489 - val_loss: 0.3420 - val_acc: 0.8761\n"
     ]
    }
   ],
   "source": [
    "#np.random.seed(1337)\n",
    "model.fit(X['trn'], Y['trn'], validation_data=(X['dev'], Y['dev']), nb_epoch=2, batch_size=64)"
   ]
  },
  {
   "cell_type": "code",
   "execution_count": 90,
   "metadata": {},
   "outputs": [
    {
     "name": "stdout",
     "output_type": "stream",
     "text": [
      "dev\n",
      "my_MAP \t 0.673891250578\n",
      "my_MRR \t 0.677794901307\n",
      "MAP \t 0.6738912505777587\n",
      "MRR \t 0.6777949013068061\n"
     ]
    }
   ],
   "source": [
    "res = {}\n",
    "for k in sfn:\n",
    "    if k in ['trn', 'test']:\n",
    "        continue\n",
    "    y = model.predict(X[k])\n",
    "    res['y'] = y\n",
    "    res[k] = rank_and_evaluate(y, k)\n",
    "    print(k)\n",
    "    for m in ['my_MAP', 'my_MRR', 'MAP', 'MRR']:\n",
    "        print(m, '\\t', res[k][m])"
   ]
  },
  {
   "cell_type": "code",
   "execution_count": 91,
   "metadata": {},
   "outputs": [],
   "source": [
    "# model.save('model/lstm_2d_%d_%f_%f.h5' % (add_features_dim, res['dev']['MRR'], res['testx']['MRR']))"
   ]
  },
  {
   "cell_type": "code",
   "execution_count": 92,
   "metadata": {},
   "outputs": [],
   "source": [
    "# from keras.models import load_model\n",
    "# model = load_model('model/lstm.1337.709692.663293.h5')"
   ]
  },
  {
   "cell_type": "markdown",
   "metadata": {},
   "source": [
    "## predict and save"
   ]
  },
  {
   "cell_type": "code",
   "execution_count": 93,
   "metadata": {},
   "outputs": [
    {
     "name": "stdout",
     "output_type": "stream",
     "text": [
      "Done\n"
     ]
    }
   ],
   "source": [
    "# predict on test dataset\n",
    "k = 'test'\n",
    "y = model.predict(X[k])\n",
    "tres = rank_and_evaluate(y, k)\n",
    "save_final_rank(tres['rank_df'], dst_fn='final_rank.txt', rank_col='rank', \n",
    "                    save_cols=['QuestionID', 'SentenceID', 'rank'], sort_by_cols=['QuestionID', 'rank'], re_rank=False)\n",
    "\n",
    "print('Done')"
   ]
  },
  {
   "cell_type": "code",
   "execution_count": null,
   "metadata": {},
   "outputs": [],
   "source": []
  }
 ],
 "metadata": {
  "anaconda-cloud": {},
  "kernelspec": {
   "display_name": "Python 3",
   "language": "python",
   "name": "python3"
  },
  "language_info": {
   "codemirror_mode": {
    "name": "ipython",
    "version": 3
   },
   "file_extension": ".py",
   "mimetype": "text/x-python",
   "name": "python",
   "nbconvert_exporter": "python",
   "pygments_lexer": "ipython3",
   "version": "3.5.0"
  }
 },
 "nbformat": 4,
 "nbformat_minor": 1
}
