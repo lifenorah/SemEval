{
 "cells": [
  {
   "cell_type": "code",
   "execution_count": 35,
   "metadata": {},
   "outputs": [],
   "source": [
    "from __future__ import print_function\n",
    "import numpy as np\n",
    "from keras.datasets import mnist\n",
    "from keras.models import Sequential\n",
    "from keras.layers.core import Dense, Dropout, Activation\n",
    "from keras.optimizers import SGD, RMSprop, Adam\n",
    "from keras.utils import np_utils"
   ]
  },
  {
   "cell_type": "code",
   "execution_count": 3,
   "metadata": {},
   "outputs": [],
   "source": [
    "np.random.seed(1671)"
   ]
  },
  {
   "cell_type": "code",
   "execution_count": 45,
   "metadata": {},
   "outputs": [],
   "source": [
    "NB_EPOCH = 20\n",
    "BATCH_SIZE = 128\n",
    "VERBOSE = True\n",
    "NB_CLASSES = 10\n",
    "OPTIMIZER = Adam()\n",
    "N_HIDDEN = 128\n",
    "VALIDATION_SPLIT = 0.2\n",
    "DROPOUT = 0.3"
   ]
  },
  {
   "cell_type": "code",
   "execution_count": 37,
   "metadata": {},
   "outputs": [],
   "source": [
    "(X_train, y_train), (X_test, y_test) = mnist.load_data()"
   ]
  },
  {
   "cell_type": "code",
   "execution_count": 38,
   "metadata": {},
   "outputs": [
    {
     "name": "stdout",
     "output_type": "stream",
     "text": [
      "60000 train samples\n",
      "10000 test samples\n"
     ]
    }
   ],
   "source": [
    "RESHAPED = 784\n",
    "\n",
    "X_train = X_train.reshape(-1, RESHAPED)\n",
    "X_test = X_test.reshape(-1, RESHAPED)\n",
    "X_train = X_train.astype('float32')\n",
    "X_test = X_test.astype('float32')\n",
    "\n",
    "X_train /= 255\n",
    "X_test /= 255\n",
    "print(X_train.shape[0], 'train samples')\n",
    "print(X_test.shape[0], 'test samples')\n",
    "\n",
    "Y_train = np_utils.to_categorical(y_train, NB_CLASSES)\n",
    "Y_test = np_utils.to_categorical(y_test, NB_CLASSES)"
   ]
  },
  {
   "cell_type": "code",
   "execution_count": 39,
   "metadata": {},
   "outputs": [
    {
     "name": "stdout",
     "output_type": "stream",
     "text": [
      "_________________________________________________________________\n",
      "Layer (type)                 Output Shape              Param #   \n",
      "=================================================================\n",
      "dense_8 (Dense)              (None, 128)               100480    \n",
      "_________________________________________________________________\n",
      "activation_8 (Activation)    (None, 128)               0         \n",
      "_________________________________________________________________\n",
      "dropout_3 (Dropout)          (None, 128)               0         \n",
      "_________________________________________________________________\n",
      "dense_9 (Dense)              (None, 128)               16512     \n",
      "_________________________________________________________________\n",
      "activation_9 (Activation)    (None, 128)               0         \n",
      "_________________________________________________________________\n",
      "dropout_4 (Dropout)          (None, 128)               0         \n",
      "_________________________________________________________________\n",
      "dense_10 (Dense)             (None, 10)                1290      \n",
      "_________________________________________________________________\n",
      "activation_10 (Activation)   (None, 10)                0         \n",
      "=================================================================\n",
      "Total params: 118,282\n",
      "Trainable params: 118,282\n",
      "Non-trainable params: 0\n",
      "_________________________________________________________________\n"
     ]
    }
   ],
   "source": [
    "model = Sequential()\n",
    "model.add(Dense(N_HIDDEN, input_shape=(RESHAPED, )))\n",
    "model.add(Activation('relu'))\n",
    "model.add(Dropout(DROPOUT))\n",
    "model.add(Dense(N_HIDDEN))\n",
    "model.add(Activation('relu'))\n",
    "model.add(Dropout(DROPOUT))\n",
    "model.add(Dense(NB_CLASSES))\n",
    "model.add(Activation('softmax'))\n",
    "model.summary()"
   ]
  },
  {
   "cell_type": "code",
   "execution_count": 46,
   "metadata": {},
   "outputs": [],
   "source": [
    "model.compile(loss='categorical_crossentropy', optimizer=OPTIMIZER, metrics=['accuracy'])"
   ]
  },
  {
   "cell_type": "code",
   "execution_count": 47,
   "metadata": {},
   "outputs": [
    {
     "name": "stdout",
     "output_type": "stream",
     "text": [
      "Train on 48000 samples, validate on 12000 samples\n",
      "Epoch 1/20\n",
      "48000/48000 [==============================] - 2s - loss: 0.0727 - acc: 0.9779 - val_loss: 0.1004 - val_acc: 0.9767\n",
      "Epoch 2/20\n",
      "48000/48000 [==============================] - 2s - loss: 0.0640 - acc: 0.9806 - val_loss: 0.0973 - val_acc: 0.9773\n",
      "Epoch 3/20\n",
      "48000/48000 [==============================] - 2s - loss: 0.0618 - acc: 0.9798 - val_loss: 0.0959 - val_acc: 0.9769\n",
      "Epoch 4/20\n",
      "48000/48000 [==============================] - 2s - loss: 0.0616 - acc: 0.9815 - val_loss: 0.0906 - val_acc: 0.9785\n",
      "Epoch 5/20\n",
      "48000/48000 [==============================] - 2s - loss: 0.0595 - acc: 0.9813 - val_loss: 0.0881 - val_acc: 0.9785\n",
      "Epoch 6/20\n",
      "48000/48000 [==============================] - 2s - loss: 0.0572 - acc: 0.9822 - val_loss: 0.0827 - val_acc: 0.9808\n",
      "Epoch 7/20\n",
      "48000/48000 [==============================] - 2s - loss: 0.0546 - acc: 0.9828 - val_loss: 0.0895 - val_acc: 0.9804\n",
      "Epoch 8/20\n",
      "48000/48000 [==============================] - 2s - loss: 0.0528 - acc: 0.9830 - val_loss: 0.0846 - val_acc: 0.9797\n",
      "Epoch 9/20\n",
      "48000/48000 [==============================] - 2s - loss: 0.0516 - acc: 0.9835 - val_loss: 0.0864 - val_acc: 0.9807\n",
      "Epoch 10/20\n",
      "48000/48000 [==============================] - 2s - loss: 0.0487 - acc: 0.9841 - val_loss: 0.0877 - val_acc: 0.9802\n",
      "Epoch 11/20\n",
      "48000/48000 [==============================] - 2s - loss: 0.0513 - acc: 0.9827 - val_loss: 0.0834 - val_acc: 0.9811\n",
      "Epoch 12/20\n",
      "48000/48000 [==============================] - 2s - loss: 0.0469 - acc: 0.9846 - val_loss: 0.0838 - val_acc: 0.9811\n",
      "Epoch 13/20\n",
      "48000/48000 [==============================] - 2s - loss: 0.0457 - acc: 0.9850 - val_loss: 0.0855 - val_acc: 0.9801\n",
      "Epoch 14/20\n",
      "48000/48000 [==============================] - 2s - loss: 0.0447 - acc: 0.9854 - val_loss: 0.0845 - val_acc: 0.9812\n",
      "Epoch 15/20\n",
      "48000/48000 [==============================] - 2s - loss: 0.0428 - acc: 0.9858 - val_loss: 0.0881 - val_acc: 0.9787\n",
      "Epoch 16/20\n",
      "48000/48000 [==============================] - 2s - loss: 0.0433 - acc: 0.9859 - val_loss: 0.0851 - val_acc: 0.9806\n",
      "Epoch 17/20\n",
      "48000/48000 [==============================] - 2s - loss: 0.0404 - acc: 0.9872 - val_loss: 0.0842 - val_acc: 0.9817\n",
      "Epoch 18/20\n",
      "48000/48000 [==============================] - 2s - loss: 0.0383 - acc: 0.9877 - val_loss: 0.0919 - val_acc: 0.9794\n",
      "Epoch 19/20\n",
      "48000/48000 [==============================] - 2s - loss: 0.0411 - acc: 0.9860 - val_loss: 0.0932 - val_acc: 0.9794\n",
      "Epoch 20/20\n",
      "48000/48000 [==============================] - 2s - loss: 0.0356 - acc: 0.9887 - val_loss: 0.0895 - val_acc: 0.9808\n"
     ]
    }
   ],
   "source": [
    "history = model.fit(X_train, Y_train, batch_size=BATCH_SIZE, epochs=NB_EPOCH, verbose=VERBOSE, validation_split=VALIDATION_SPLIT)"
   ]
  },
  {
   "cell_type": "code",
   "execution_count": 48,
   "metadata": {},
   "outputs": [
    {
     "name": "stdout",
     "output_type": "stream",
     "text": [
      " 9696/10000 [============================>.] - ETA: 0s"
     ]
    }
   ],
   "source": [
    "score = model.evaluate(X_test, Y_test, verbose=VERBOSE)"
   ]
  },
  {
   "cell_type": "code",
   "execution_count": 49,
   "metadata": {},
   "outputs": [
    {
     "name": "stdout",
     "output_type": "stream",
     "text": [
      "Test score: 0.0903435140315\n"
     ]
    }
   ],
   "source": [
    "print('Test score:', score[0])"
   ]
  },
  {
   "cell_type": "code",
   "execution_count": 50,
   "metadata": {},
   "outputs": [
    {
     "name": "stdout",
     "output_type": "stream",
     "text": [
      "test accuracy: 0.9812\n"
     ]
    }
   ],
   "source": [
    "print('test accuracy:', score[1])"
   ]
  },
  {
   "cell_type": "code",
   "execution_count": null,
   "metadata": {},
   "outputs": [],
   "source": []
  }
 ],
 "metadata": {
  "kernelspec": {
   "display_name": "Python 3",
   "language": "python",
   "name": "python3"
  },
  "language_info": {
   "codemirror_mode": {
    "name": "ipython",
    "version": 3
   },
   "file_extension": ".py",
   "mimetype": "text/x-python",
   "name": "python",
   "nbconvert_exporter": "python",
   "pygments_lexer": "ipython3",
   "version": "3.5.0"
  }
 },
 "nbformat": 4,
 "nbformat_minor": 2
}
