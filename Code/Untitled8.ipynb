{
 "cells": [
  {
   "cell_type": "code",
   "execution_count": 2,
   "metadata": {},
   "outputs": [],
   "source": [
    "import nltk\n",
    "import os"
   ]
  },
  {
   "cell_type": "code",
   "execution_count": 17,
   "metadata": {},
   "outputs": [
    {
     "name": "stdout",
     "output_type": "stream",
     "text": [
      "['#  اختبار حمض الفانيليل مندليك\\n', '\\n', 'هو اختبار يستخدم لتشخيص الأورام التي تفرز الكاتيكولاَمين، من خلال تحديد كمية\\n', 'حَمْضُ الفانيليل مندليك في نَمُوْذَج البول لأربع وعشرين ساعة، كونه أكبر\\n', 'مُسْتَقْلَب بولي للنورأَبِينِفْرين، والإبِينيفرِين.\\n', '\\n', '#  اختبار دينتروفنيل الهيدرازين\\n', '\\n', 'هو اختبار لتحديد وجود بِيلَةُ الحَمْضِ الكيتونِيّ، ويستخدم في تشخيص داء بَولِ\\n', 'شَرابِ القَيقَب.\\n', '\\n', '#  ضخامة الاصابع\\n', '\\n', 'ضخامةُ الأصِابِع : زيادة حجم الأصابع في اليدين والقدمين.\\n', '\\n', '#  المصطلحات الطبية - الامراض الجلدية\\n', '\\n', '#  المصطلحات الطبية - الامراض الجلدية\\n', '\\n', 'تصنيف حسب : الصلة بالموضوع أ-ي A-Z الاكثر مشاهده الأقدم الأجدد\\n', '\\n', 'Scalp itching\\n', '\\n', 'حكة في فروة الراس\\n', '\\n', 'Fragile hair\\n', '\\n', 'ضعف الشعر\\n', '\\n', 'Black and white comedones\\n', '\\n', 'رؤوس سوداء وبيضاء\\n', '\\n', 'Sulfa allergy\\n', '\\n', 'حساسية الكبريت\\n', '\\n', 'Bed sore\\n', '\\n', 'قرحة الفراش\\n', '\\n', '(قرحة الضغط ,ناقبة)\\n', '\\n', 'Palmoplantar Hyperhidrosis\\n', '\\n', 'تعرق اليدين\\n', '\\n', '(فرط تعرق اليدين)\\n', '\\n', 'Exfoliative keratolysis\\n', '\\n', 'تقشر اليدين\\n', '\\n', '(انحلال القرنية التقشري, تقشر الراحية المتكرر)\\n', '\\n', '#  المصطلحات الطبية - الامراض الجلدية\\n', '\\n', '#  المصطلحات الطبية - الامراض الجلدية\\n', '\\n', 'تصنيف حسب : الصلة بالموضوع أ-ي A-Z الاكثر مشاهده الأقدم الأجدد\\n', '\\n', 'Greenhows disease\\n', '\\n', 'داء جرينهاوس\\n', '\\n', 'Oculodermal melanosis\\n', '\\n', 'تملن العين والجفن\\n', '\\n', 'Otas nevus\\n', '\\n', 'وحمة اوتا\\n', '\\n', 'Cheiropompholyx\\n', '\\n', 'تنفط اليد\\n', '\\n', 'Pompholyx\\n', '\\n', 'فاقوع\\n', '\\n', 'Dermatomegaly\\n', '\\n', 'تهدل الجلد\\n', '\\n', 'Photodistribution\\n', '\\n', 'توزيع الضوء\\n', '\\n', 'Ficosis\\n', '\\n', 'تينة\\n', '\\n', 'Red spots\\n', '\\n', 'بقع حمراء\\n', '\\n', 'Pale skin\\n', '\\n', 'شحوب الجلد\\n']\n"
     ]
    }
   ],
   "source": [
    "\n",
    "with open('all.dat', 'r', encoding='utf-8') as f:\n",
    "    content = f.readlines()\n",
    "    print(content[:100])\n",
    "    #sentences = nltk.sent_tokenize(text=content)"
   ]
  },
  {
   "cell_type": "code",
   "execution_count": null,
   "metadata": {},
   "outputs": [],
   "source": [
    "sentences"
   ]
  },
  {
   "cell_type": "code",
   "execution_count": null,
   "metadata": {},
   "outputs": [],
   "source": []
  }
 ],
 "metadata": {
  "kernelspec": {
   "display_name": "Python 3",
   "language": "python",
   "name": "python3"
  },
  "language_info": {
   "codemirror_mode": {
    "name": "ipython",
    "version": 3
   },
   "file_extension": ".py",
   "mimetype": "text/x-python",
   "name": "python",
   "nbconvert_exporter": "python",
   "pygments_lexer": "ipython3",
   "version": "3.5.0"
  }
 },
 "nbformat": 4,
 "nbformat_minor": 2
}
