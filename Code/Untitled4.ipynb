{
 "cells": [
  {
   "cell_type": "code",
   "execution_count": 2,
   "metadata": {},
   "outputs": [],
   "source": [
    "from keras.datasets import cifar10\n",
    "from keras.utils import np_utils\n",
    "from keras.models import Sequential\n",
    "from keras.layers.core import Dense, Dropout, Activation, Flatten\n",
    "from keras.layers.convolutional import Conv2D, MaxPooling2D\n",
    "from keras.optimizers import SGD, RMSprop, Adam\n",
    "import matplotlib.pyplot as plt"
   ]
  },
  {
   "cell_type": "code",
   "execution_count": 3,
   "metadata": {},
   "outputs": [],
   "source": [
    "IMG_CHANNELS = 3\n",
    "IMG_ROWS = 32\n",
    "IMG_COLS = 32"
   ]
  },
  {
   "cell_type": "code",
   "execution_count": 4,
   "metadata": {},
   "outputs": [],
   "source": [
    "BATCH_SIZE = 128\n",
    "NB_EPOCH = 20\n",
    "NB_CLASSES = 10\n",
    "VERBOSE = True\n",
    "VALIDATION_SPLIT = 0.2\n",
    "OPTIM = RMSprop()"
   ]
  },
  {
   "cell_type": "code",
   "execution_count": 5,
   "metadata": {},
   "outputs": [
    {
     "name": "stdout",
     "output_type": "stream",
     "text": [
      "Downloading data from http://www.cs.toronto.edu/~kriz/cifar-10-python.tar.gz\n",
      "170491904/170498071 [============================>.] - ETA: 0sX_train shape: (50000, 32, 32, 3)\n",
      "50000 train samples\n",
      "10000 test samples\n"
     ]
    }
   ],
   "source": [
    "(X_train, y_train), (X_test, y_test) = cifar10.load_data()\n",
    "print('X_train shape:', X_train.shape)\n",
    "print(X_train.shape[0], 'train samples')\n",
    "print(X_test.shape[0], 'test samples')"
   ]
  },
  {
   "cell_type": "code",
   "execution_count": 6,
   "metadata": {},
   "outputs": [
    {
     "name": "stderr",
     "output_type": "stream",
     "text": [
      "c:\\python35\\lib\\site-packages\\ipykernel_launcher.py:5: RuntimeWarning: invalid value encountered in true_divide\n",
      "  \"\"\"\n",
      "c:\\python35\\lib\\site-packages\\ipykernel_launcher.py:6: RuntimeWarning: invalid value encountered in true_divide\n",
      "  \n"
     ]
    }
   ],
   "source": [
    "Y_train = np_utils.to_categorical(y_train, NB_CLASSES)\n",
    "Y_test = np_utils.to_categorical(y_test, NB_CLASSES)\n",
    "X_train = X_train.astype('float32')\n",
    "X_test = X_test.astype('float32')\n",
    "X_train /= X_train\n",
    "X_test /= X_test"
   ]
  },
  {
   "cell_type": "code",
   "execution_count": 7,
   "metadata": {},
   "outputs": [],
   "source": [
    "model = Sequential()\n",
    "model.add(Conv2D(32, (3, 3), padding='same', input_shape=(IMG_ROWS, IMG_COLS, IMG_CHANNELS)))\n",
    "model.add(Activation('relu'))\n",
    "model.add(MaxPooling2D(pool_size=(2, 2)))\n",
    "model.add(Dropout(0.25))"
   ]
  },
  {
   "cell_type": "code",
   "execution_count": 8,
   "metadata": {},
   "outputs": [
    {
     "name": "stdout",
     "output_type": "stream",
     "text": [
      "_________________________________________________________________\n",
      "Layer (type)                 Output Shape              Param #   \n",
      "=================================================================\n",
      "conv2d_1 (Conv2D)            (None, 32, 32, 32)        896       \n",
      "_________________________________________________________________\n",
      "activation_1 (Activation)    (None, 32, 32, 32)        0         \n",
      "_________________________________________________________________\n",
      "max_pooling2d_1 (MaxPooling2 (None, 16, 16, 32)        0         \n",
      "_________________________________________________________________\n",
      "dropout_1 (Dropout)          (None, 16, 16, 32)        0         \n",
      "_________________________________________________________________\n",
      "flatten_1 (Flatten)          (None, 8192)              0         \n",
      "_________________________________________________________________\n",
      "dense_1 (Dense)              (None, 512)               4194816   \n",
      "_________________________________________________________________\n",
      "activation_2 (Activation)    (None, 512)               0         \n",
      "_________________________________________________________________\n",
      "dropout_2 (Dropout)          (None, 512)               0         \n",
      "_________________________________________________________________\n",
      "dense_2 (Dense)              (None, 10)                5130      \n",
      "_________________________________________________________________\n",
      "activation_3 (Activation)    (None, 10)                0         \n",
      "=================================================================\n",
      "Total params: 4,200,842\n",
      "Trainable params: 4,200,842\n",
      "Non-trainable params: 0\n",
      "_________________________________________________________________\n"
     ]
    }
   ],
   "source": [
    "model.add(Flatten())\n",
    "model.add(Dense(512))\n",
    "model.add(Activation('relu'))\n",
    "model.add(Dropout(0.5))\n",
    "model.add(Dense(NB_CLASSES))\n",
    "model.add(Activation('softmax'))\n",
    "model.summary()"
   ]
  },
  {
   "cell_type": "code",
   "execution_count": 11,
   "metadata": {},
   "outputs": [
    {
     "name": "stdout",
     "output_type": "stream",
     "text": [
      "Train on 40000 samples, validate on 10000 samples\n",
      "Epoch 1/20\n",
      "40000/40000 [==============================] - 75s - loss: nan - acc: 0.0995 - val_loss: nan - val_acc: 0.1014\n",
      "Epoch 2/20\n",
      "40000/40000 [==============================] - 84s - loss: nan - acc: 0.0996 - val_loss: nan - val_acc: 0.1014\n",
      "Epoch 3/20\n",
      "40000/40000 [==============================] - 84s - loss: nan - acc: 0.0996 - val_loss: nan - val_acc: 0.1014\n",
      "Epoch 4/20\n",
      "40000/40000 [==============================] - 83s - loss: nan - acc: 0.0996 - val_loss: nan - val_acc: 0.1014\n",
      "Epoch 5/20\n",
      "40000/40000 [==============================] - 83s - loss: nan - acc: 0.0996 - val_loss: nan - val_acc: 0.1014\n",
      "Epoch 6/20\n",
      "40000/40000 [==============================] - 84s - loss: nan - acc: 0.0996 - val_loss: nan - val_acc: 0.1014\n",
      "Epoch 7/20\n",
      "40000/40000 [==============================] - 84s - loss: nan - acc: 0.0996 - val_loss: nan - val_acc: 0.1014\n",
      "Epoch 8/20\n",
      "40000/40000 [==============================] - 85s - loss: nan - acc: 0.0996 - val_loss: nan - val_acc: 0.1014\n",
      "Epoch 9/20\n",
      "40000/40000 [==============================] - 85s - loss: nan - acc: 0.0996 - val_loss: nan - val_acc: 0.1014\n",
      "Epoch 10/20\n",
      "40000/40000 [==============================] - 84s - loss: nan - acc: 0.0996 - val_loss: nan - val_acc: 0.1014\n",
      "Epoch 11/20\n",
      "40000/40000 [==============================] - 85s - loss: nan - acc: 0.0996 - val_loss: nan - val_acc: 0.1014\n",
      "Epoch 12/20\n",
      "40000/40000 [==============================] - 79s - loss: nan - acc: 0.0996 - val_loss: nan - val_acc: 0.1014\n",
      "Epoch 13/20\n",
      "40000/40000 [==============================] - 80s - loss: nan - acc: 0.0996 - val_loss: nan - val_acc: 0.1014\n",
      "Epoch 14/20\n",
      "40000/40000 [==============================] - 79s - loss: nan - acc: 0.0996 - val_loss: nan - val_acc: 0.1014\n",
      "Epoch 15/20\n",
      "40000/40000 [==============================] - 80s - loss: nan - acc: 0.0996 - val_loss: nan - val_acc: 0.1014\n",
      "Epoch 16/20\n",
      "40000/40000 [==============================] - 80s - loss: nan - acc: 0.0996 - val_loss: nan - val_acc: 0.1014\n",
      "Epoch 17/20\n",
      "40000/40000 [==============================] - 82s - loss: nan - acc: 0.0996 - val_loss: nan - val_acc: 0.1014\n",
      "Epoch 18/20\n",
      "40000/40000 [==============================] - 84s - loss: nan - acc: 0.0996 - val_loss: nan - val_acc: 0.1014\n",
      "Epoch 19/20\n",
      "40000/40000 [==============================] - 80s - loss: nan - acc: 0.0996 - val_loss: nan - val_acc: 0.1014\n",
      "Epoch 20/20\n",
      "40000/40000 [==============================] - 80s - loss: nan - acc: 0.0996 - val_loss: nan - val_acc: 0.1014\n",
      " 9984/10000 [============================>.] - ETA: 0sTest score: nan\n",
      "Test accuracy: 0.1\n"
     ]
    }
   ],
   "source": [
    "model.compile(loss='categorical_crossentropy', optimizer=OPTIM, metrics=['accuracy'])\n",
    "model.fit(X_train, Y_train, batch_size=BATCH_SIZE, epochs=NB_EPOCH, validation_split=VALIDATION_SPLIT, verbose=VERBOSE)\n",
    "score = model.evaluate(X_test, Y_test, batch_size=BATCH_SIZE, verbose=VERBOSE)\n",
    "print('Test score:', score[0])\n",
    "print('Test accuracy:', score[1])"
   ]
  },
  {
   "cell_type": "code",
   "execution_count": null,
   "metadata": {},
   "outputs": [],
   "source": [
    "model_json = model.to_json()\n",
    "open('cifar10_architecture.json', 'w').write(model_json)\n",
    "model.save_weights('cifar10_weights.h5', overwite=True)"
   ]
  },
  {
   "cell_type": "code",
   "execution_count": null,
   "metadata": {},
   "outputs": [],
   "source": []
  }
 ],
 "metadata": {
  "kernelspec": {
   "display_name": "Python 3",
   "language": "python",
   "name": "python3"
  },
  "language_info": {
   "codemirror_mode": {
    "name": "ipython",
    "version": 3
   },
   "file_extension": ".py",
   "mimetype": "text/x-python",
   "name": "python",
   "nbconvert_exporter": "python",
   "pygments_lexer": "ipython3",
   "version": "3.5.0"
  }
 },
 "nbformat": 4,
 "nbformat_minor": 2
}
