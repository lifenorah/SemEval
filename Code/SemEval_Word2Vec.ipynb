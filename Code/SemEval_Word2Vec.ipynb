{
 "cells": [
  {
   "cell_type": "code",
   "execution_count": 1,
   "metadata": {},
   "outputs": [],
   "source": [
    "from __future__ import absolute_import\n",
    "from __future__ import division\n",
    "from __future__ import print_function\n",
    "\n",
    "import argparse\n",
    "import os\n",
    "import sys\n",
    "import zipfile\n",
    "import csv\n",
    "import pickle\n",
    "\n",
    "import tensorflow as tf\n",
    "import numpy as np\n",
    "from sklearn.metrics.pairwise import cosine_similarity\n",
    "\n",
    "import xml.etree.ElementTree as ET"
   ]
  },
  {
   "cell_type": "code",
   "execution_count": 2,
   "metadata": {},
   "outputs": [],
   "source": [
    "dictionary = pickle.load(open('dictionary.pic', 'rb'))\n",
    "reverse_dictionary = pickle.load(open('vocabulary.pic', 'rb'))\n",
    "embeddings = pickle.load(open('embeddings.pic', 'rb'))"
   ]
  },
  {
   "cell_type": "code",
   "execution_count": 3,
   "metadata": {},
   "outputs": [],
   "source": [
    "test_dataset_path = '../TEST/2017/SemEval2017-Task3-CQA-MD-test-input.xml'\n",
    "\n",
    "tree = ET.parse(test_dataset_path)\n",
    "root = tree.getroot()\n",
    "\n",
    "similarity = []\n",
    "    \n",
    "for Question in root:\n",
    "    QID = int(Question.get('QID'))\n",
    "    Qtext = Question.find('Qtext').text\n",
    "    \n",
    "    embeddings_Qtext = np.mean(np.asarray([embeddings[dictionary[w]] if w in dictionary else np.zeros_like(embeddings[0]) for w in Qtext]), axis=0)\n",
    "    \n",
    "    for QApair in Question.iter('QApair'): \n",
    "        QAID = int(QApair.get('QAID'))\n",
    "        QArel = QApair.get('QArel')\n",
    "        QAquestion = QApair.find('QAquestion').text\n",
    "        QAanswer = QApair.find('QAanswer').text\n",
    "        \n",
    "        embeddings_QAquestion = np.mean(np.asarray([embeddings[dictionary[w]] if w in dictionary else np.zeros_like(embeddings[0]) for w in QAquestion]), axis=0)\n",
    "        QAconf = np.asscalar(cosine_similarity(embeddings_Qtext.reshape(1, -1), embeddings_QAquestion.reshape(1, -1)))\n",
    "        \n",
    "        QApair.set('QArel', 'R' if QAconf > 0.95 else 'I')\n",
    "        QApair.set('QAconf', str(round(QAconf, 4)))\n",
    "   \n",
    "        #    a = embeddings_Qtext\n",
    "        #    b = embeddings_QAquestion\n",
    "        #    s = similarity\n",
    "tree.write('../TEST/2017/SemEval2017-Task3-CQA-MD-test-input-word2vec-webteb.xml', encoding='utf-8')"
   ]
  },
  {
   "cell_type": "code",
   "execution_count": null,
   "metadata": {},
   "outputs": [],
   "source": []
  }
 ],
 "metadata": {
  "kernelspec": {
   "display_name": "Python 3",
   "language": "python",
   "name": "python3"
  },
  "language_info": {
   "codemirror_mode": {
    "name": "ipython",
    "version": 3
   },
   "file_extension": ".py",
   "mimetype": "text/x-python",
   "name": "python",
   "nbconvert_exporter": "python",
   "pygments_lexer": "ipython3",
   "version": "3.5.0"
  }
 },
 "nbformat": 4,
 "nbformat_minor": 2
}
